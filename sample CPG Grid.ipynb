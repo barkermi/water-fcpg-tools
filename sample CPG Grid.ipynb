{
 "cells": [
  {
   "cell_type": "code",
   "execution_count": 11,
   "metadata": {},
   "outputs": [],
   "source": [
    "import time\n",
    "import geopandas as gpd\n",
    "from tools import *\n",
    "import glob\n",
    "import pandas as pd"
   ]
  },
  {
   "cell_type": "code",
   "execution_count": 2,
   "metadata": {},
   "outputs": [],
   "source": [
    "files = glob.glob('./data/CHI_poster/sample_locs_*.shp')"
   ]
  },
  {
   "cell_type": "code",
   "execution_count": 6,
   "metadata": {},
   "outputs": [],
   "source": [
    "areaRaster = './data/CHI_poster/HRNHDPlusRasters1003/fac.tif'\n",
    "dataRaster = './data/CHI_poster/cpg/daymet_v3_prcp_annttl_2017_na_HUC1003_CPG.tif'"
   ]
  },
  {
   "cell_type": "code",
   "execution_count": 30,
   "metadata": {},
   "outputs": [
    {
     "name": "stdout",
     "output_type": "stream",
     "text": [
      "Queried 360 points in 0.37529869079589845 minutes.\n",
      "Queried 370 points in 0.3484836419423421 minutes.\n",
      "Queried 380 points in 0.362091859181722 minutes.\n",
      "Queried 390 points in 0.3429331660270691 minutes.\n",
      "Queried 400 points in 0.34306616385777794 minutes.\n",
      "Queried 410 points in 0.33696827093760173 minutes.\n",
      "Queried 420 points in 0.33552087942759196 minutes.\n",
      "Queried 430 points in 0.33192776441574096 minutes.\n",
      "Queried 440 points in 0.3356061577796936 minutes.\n",
      "Queried 450 points in 0.33259504636128745 minutes.\n"
     ]
    }
   ],
   "source": [
    "#times = []\n",
    "for i in range(35,45):\n",
    "    i += 1\n",
    "    strt = time.time()\n",
    "    outFl = './data/CHI_poster/CPG_res_%s.csv'%i\n",
    "    inFl = './data/CHI_poster/sample_locs_%s.shp'%i\n",
    "    df = gpd.read_file(inFl)\n",
    "    df['area'] = queryCPG(areaRaster,df.geometry)\n",
    "    df['mean'] = queryCPG(dataRaster,df.geometry)\n",
    "    del df['geometry']\n",
    "    df.to_csv(outFl)\n",
    "    totalTime = time.time() - strt\n",
    "    print('Queried %s points in %s minutes.'%(len(df),(totalTime/60.)))\n",
    "    times.append(totalTime)"
   ]
  },
  {
   "cell_type": "code",
   "execution_count": 31,
   "metadata": {},
   "outputs": [],
   "source": [
    "res = pd.DataFrame({'idx':np.arange(1,46),'cpg_query_time':times})"
   ]
  },
  {
   "cell_type": "code",
   "execution_count": 32,
   "metadata": {},
   "outputs": [],
   "source": [
    "res['cpg_build_time'] = 478.2721674442291"
   ]
  },
  {
   "cell_type": "code",
   "execution_count": 33,
   "metadata": {},
   "outputs": [],
   "source": [
    "res['cpg_time'] = res.cpg_build_time + res.cpg_query_time"
   ]
  },
  {
   "cell_type": "code",
   "execution_count": 34,
   "metadata": {},
   "outputs": [],
   "source": [
    "res.to_pickle('./data/CHI_poster/results.pkl')"
   ]
  },
  {
   "cell_type": "code",
   "execution_count": 40,
   "metadata": {},
   "outputs": [],
   "source": [
    "# bring in the ESRI data\n",
    "dat = pd.read_csv('./data/CHI_poster/ESRI_results.csv')\n",
    "res['esri_time'] = dat.Time"
   ]
  },
  {
   "cell_type": "code",
   "execution_count": 41,
   "metadata": {},
   "outputs": [],
   "source": [
    "res.to_pickle('./data/CHI_poster/results.pkl')"
   ]
  },
  {
   "cell_type": "code",
   "execution_count": null,
   "metadata": {},
   "outputs": [],
   "source": []
  }
 ],
 "metadata": {
  "kernelspec": {
   "display_name": "Python 3",
   "language": "python",
   "name": "python3"
  },
  "language_info": {
   "codemirror_mode": {
    "name": "ipython",
    "version": 3
   },
   "file_extension": ".py",
   "mimetype": "text/x-python",
   "name": "python",
   "nbconvert_exporter": "python",
   "pygments_lexer": "ipython3",
   "version": "3.6.8"
  }
 },
 "nbformat": 4,
 "nbformat_minor": 2
}
