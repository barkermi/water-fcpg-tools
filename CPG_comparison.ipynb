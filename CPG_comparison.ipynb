{
 "cells": [
  {
   "cell_type": "code",
   "execution_count": 1,
   "metadata": {},
   "outputs": [],
   "source": [
    "import gdal\n",
    "import pandas as pd\n",
    "import numpy as np"
   ]
  },
  {
   "cell_type": "code",
   "execution_count": 2,
   "metadata": {},
   "outputs": [],
   "source": [
    "def get_val(dat,gt=[],rb=[]):\n",
    "    ''' Grab cell value based on data frame x and y variables.\n",
    "    dat = dataframe containing x and y \n",
    "    gt = geotransform, of the index raster\n",
    "    rb = raster band to pick data from\n",
    "    '''\n",
    "    mx = dat.x\n",
    "    my = dat.y\n",
    "    # transform to array coordinates\n",
    "    px = int((mx-gt[0])/gt[1]) # x pixle\n",
    "    py = int((my-gt[3])/gt[5]) # y pixle\n",
    "\n",
    "    # extract the value\n",
    "    intval = rb.ReadAsArray(px,py,1,1)\n",
    "    return intval[0][0]"
   ]
  },
  {
   "cell_type": "code",
   "execution_count": 3,
   "metadata": {},
   "outputs": [],
   "source": [
    "fl = './data/CPG_from_roy/region_17/MirAd_2012_100_CPG.tif'\n",
    "ds = gdal.Open(fl)\n",
    "gt = ds.GetGeoTransform()\n",
    "rb = ds.GetRasterBand(1)"
   ]
  },
  {
   "cell_type": "code",
   "execution_count": 4,
   "metadata": {},
   "outputs": [],
   "source": [
    "fl = '../DEM_processing/data/CATCHMENT_snapped_cpgDat_reg_17.csv'\n",
    "testDat = pd.read_csv(fl)\n",
    "del testDat['Unnamed: 0']\n",
    "del testDat['Unnamed: 0.1']"
   ]
  },
  {
   "cell_type": "code",
   "execution_count": 5,
   "metadata": {},
   "outputs": [
    {
     "data": {
      "text/html": [
       "<div>\n",
       "<style scoped>\n",
       "    .dataframe tbody tr th:only-of-type {\n",
       "        vertical-align: middle;\n",
       "    }\n",
       "\n",
       "    .dataframe tbody tr th {\n",
       "        vertical-align: top;\n",
       "    }\n",
       "\n",
       "    .dataframe thead th {\n",
       "        text-align: right;\n",
       "    }\n",
       "</style>\n",
       "<table border=\"1\" class=\"dataframe\">\n",
       "  <thead>\n",
       "    <tr style=\"text-align: right;\">\n",
       "      <th></th>\n",
       "      <th>cat</th>\n",
       "      <th>x</th>\n",
       "      <th>y</th>\n",
       "      <th>Gage_no</th>\n",
       "      <th>withdr1k</th>\n",
       "      <th>withdr1k_noData</th>\n",
       "      <th>mirad1k</th>\n",
       "      <th>mirad1k_noData</th>\n",
       "      <th>mirad250</th>\n",
       "      <th>mirad250_noData</th>\n",
       "      <th>...</th>\n",
       "      <th>nid_storage</th>\n",
       "      <th>nid_storage_noData</th>\n",
       "      <th>nid_normstorage</th>\n",
       "      <th>nid_normstorage_noData</th>\n",
       "      <th>npd_occur</th>\n",
       "      <th>npd_occur_noData</th>\n",
       "      <th>nlcd_2011_imperv</th>\n",
       "      <th>nlcd_2011_imperv_noData</th>\n",
       "      <th>ditches92_scale</th>\n",
       "      <th>ditches92_scale_noData</th>\n",
       "    </tr>\n",
       "  </thead>\n",
       "  <tbody>\n",
       "    <tr>\n",
       "      <th>0</th>\n",
       "      <td>1</td>\n",
       "      <td>-1703250.0</td>\n",
       "      <td>2521380.0</td>\n",
       "      <td>13220500</td>\n",
       "      <td>1.125079</td>\n",
       "      <td>0.0</td>\n",
       "      <td>0.009270</td>\n",
       "      <td>0.014724</td>\n",
       "      <td>8.823986e-05</td>\n",
       "      <td>0.014293</td>\n",
       "      <td>...</td>\n",
       "      <td>0.000436</td>\n",
       "      <td>0.013824</td>\n",
       "      <td>0.000432</td>\n",
       "      <td>0.013824</td>\n",
       "      <td>0.0</td>\n",
       "      <td>0.013824</td>\n",
       "      <td>0.002137</td>\n",
       "      <td>0.015395</td>\n",
       "      <td>0.000000e+00</td>\n",
       "      <td>0.014378</td>\n",
       "    </tr>\n",
       "    <tr>\n",
       "      <th>1</th>\n",
       "      <td>2</td>\n",
       "      <td>-2192520.0</td>\n",
       "      <td>2442660.0</td>\n",
       "      <td>14362250</td>\n",
       "      <td>0.015169</td>\n",
       "      <td>0.0</td>\n",
       "      <td>0.000000</td>\n",
       "      <td>0.000080</td>\n",
       "      <td>0.000000e+00</td>\n",
       "      <td>0.000076</td>\n",
       "      <td>...</td>\n",
       "      <td>0.000000</td>\n",
       "      <td>0.000073</td>\n",
       "      <td>0.000000</td>\n",
       "      <td>0.000073</td>\n",
       "      <td>0.0</td>\n",
       "      <td>0.000073</td>\n",
       "      <td>0.000016</td>\n",
       "      <td>0.000080</td>\n",
       "      <td>0.000000e+00</td>\n",
       "      <td>0.000076</td>\n",
       "    </tr>\n",
       "    <tr>\n",
       "      <th>2</th>\n",
       "      <td>3</td>\n",
       "      <td>-2119230.0</td>\n",
       "      <td>2708040.0</td>\n",
       "      <td>14173500</td>\n",
       "      <td>0.210844</td>\n",
       "      <td>0.0</td>\n",
       "      <td>0.007658</td>\n",
       "      <td>0.001440</td>\n",
       "      <td>7.279971e-05</td>\n",
       "      <td>0.001679</td>\n",
       "      <td>...</td>\n",
       "      <td>0.000000</td>\n",
       "      <td>0.001684</td>\n",
       "      <td>0.000000</td>\n",
       "      <td>0.001684</td>\n",
       "      <td>0.0</td>\n",
       "      <td>0.001684</td>\n",
       "      <td>0.002853</td>\n",
       "      <td>0.001820</td>\n",
       "      <td>2.833502e-02</td>\n",
       "      <td>0.000640</td>\n",
       "    </tr>\n",
       "    <tr>\n",
       "      <th>3</th>\n",
       "      <td>4</td>\n",
       "      <td>-2093280.0</td>\n",
       "      <td>2594610.0</td>\n",
       "      <td>14145100</td>\n",
       "      <td>0.186470</td>\n",
       "      <td>0.0</td>\n",
       "      <td>0.000000</td>\n",
       "      <td>0.001934</td>\n",
       "      <td>0.000000e+00</td>\n",
       "      <td>0.001845</td>\n",
       "      <td>...</td>\n",
       "      <td>0.000563</td>\n",
       "      <td>0.001773</td>\n",
       "      <td>0.000555</td>\n",
       "      <td>0.001773</td>\n",
       "      <td>0.0</td>\n",
       "      <td>0.001773</td>\n",
       "      <td>0.000122</td>\n",
       "      <td>0.001981</td>\n",
       "      <td>0.000000e+00</td>\n",
       "      <td>0.001844</td>\n",
       "    </tr>\n",
       "    <tr>\n",
       "      <th>4</th>\n",
       "      <td>5</td>\n",
       "      <td>-2181330.0</td>\n",
       "      <td>2693610.0</td>\n",
       "      <td>14306400</td>\n",
       "      <td>0.064112</td>\n",
       "      <td>0.0</td>\n",
       "      <td>0.000048</td>\n",
       "      <td>0.000564</td>\n",
       "      <td>4.758926e-07</td>\n",
       "      <td>0.000541</td>\n",
       "      <td>...</td>\n",
       "      <td>0.000000</td>\n",
       "      <td>0.000521</td>\n",
       "      <td>0.000000</td>\n",
       "      <td>0.000521</td>\n",
       "      <td>0.0</td>\n",
       "      <td>0.000521</td>\n",
       "      <td>0.000190</td>\n",
       "      <td>0.000563</td>\n",
       "      <td>8.425584e-07</td>\n",
       "      <td>0.000540</td>\n",
       "    </tr>\n",
       "  </tbody>\n",
       "</table>\n",
       "<p>5 rows × 24 columns</p>\n",
       "</div>"
      ],
      "text/plain": [
       "   cat          x          y   Gage_no  withdr1k  withdr1k_noData   mirad1k  \\\n",
       "0    1 -1703250.0  2521380.0  13220500  1.125079              0.0  0.009270   \n",
       "1    2 -2192520.0  2442660.0  14362250  0.015169              0.0  0.000000   \n",
       "2    3 -2119230.0  2708040.0  14173500  0.210844              0.0  0.007658   \n",
       "3    4 -2093280.0  2594610.0  14145100  0.186470              0.0  0.000000   \n",
       "4    5 -2181330.0  2693610.0  14306400  0.064112              0.0  0.000048   \n",
       "\n",
       "   mirad1k_noData      mirad250  mirad250_noData           ...            \\\n",
       "0        0.014724  8.823986e-05         0.014293           ...             \n",
       "1        0.000080  0.000000e+00         0.000076           ...             \n",
       "2        0.001440  7.279971e-05         0.001679           ...             \n",
       "3        0.001934  0.000000e+00         0.001845           ...             \n",
       "4        0.000564  4.758926e-07         0.000541           ...             \n",
       "\n",
       "   nid_storage  nid_storage_noData  nid_normstorage  nid_normstorage_noData  \\\n",
       "0     0.000436            0.013824         0.000432                0.013824   \n",
       "1     0.000000            0.000073         0.000000                0.000073   \n",
       "2     0.000000            0.001684         0.000000                0.001684   \n",
       "3     0.000563            0.001773         0.000555                0.001773   \n",
       "4     0.000000            0.000521         0.000000                0.000521   \n",
       "\n",
       "   npd_occur  npd_occur_noData  nlcd_2011_imperv  nlcd_2011_imperv_noData  \\\n",
       "0        0.0          0.013824          0.002137                 0.015395   \n",
       "1        0.0          0.000073          0.000016                 0.000080   \n",
       "2        0.0          0.001684          0.002853                 0.001820   \n",
       "3        0.0          0.001773          0.000122                 0.001981   \n",
       "4        0.0          0.000521          0.000190                 0.000563   \n",
       "\n",
       "   ditches92_scale  ditches92_scale_noData  \n",
       "0     0.000000e+00                0.014378  \n",
       "1     0.000000e+00                0.000076  \n",
       "2     2.833502e-02                0.000640  \n",
       "3     0.000000e+00                0.001844  \n",
       "4     8.425584e-07                0.000540  \n",
       "\n",
       "[5 rows x 24 columns]"
      ]
     },
     "execution_count": 5,
     "metadata": {},
     "output_type": "execute_result"
    }
   ],
   "source": [
    "testDat.head()"
   ]
  },
  {
   "cell_type": "code",
   "execution_count": 10,
   "metadata": {},
   "outputs": [
    {
     "name": "stdout",
     "output_type": "stream",
     "text": [
      "397 ms ± 712 µs per loop (mean ± std. dev. of 7 runs, 1 loop each)\n"
     ]
    }
   ],
   "source": [
    "%%timeit\n",
    "testDat['MIRAD_PROSPER'] = testDat.apply(get_val,gt = gt, rb = rb, axis = 1)"
   ]
  },
  {
   "cell_type": "code",
   "execution_count": 17,
   "metadata": {},
   "outputs": [],
   "source": [
    "testDat.MIRAD_PROSPER /= 100."
   ]
  },
  {
   "cell_type": "code",
   "execution_count": 23,
   "metadata": {},
   "outputs": [
    {
     "data": {
      "text/plain": [
       "<matplotlib.axes._subplots.AxesSubplot at 0x7f108161eac8>"
      ]
     },
     "execution_count": 23,
     "metadata": {},
     "output_type": "execute_result"
    },
    {
     "data": {
      "image/png": "[encoded data removed]",
      "text/plain": [
       "<Figure size 432x288 with 1 Axes>"
      ]
     },
     "metadata": {},
     "output_type": "display_data"
    }
   ],
   "source": [
    "testDat.plot.scatter('MIRAD_PROSPER','mirad250')"
   ]
  },
  {
   "cell_type": "code",
   "execution_count": 36,
   "metadata": {},
   "outputs": [
    {
     "data": {
      "text/plain": [
       "(750, 26)"
      ]
     },
     "execution_count": 36,
     "metadata": {},
     "output_type": "execute_result"
    }
   ],
   "source": [
    "testDat['resid'] = testDat.MIRAD_PROSPER - testDat.mirad250\n",
    "testDat.loc[testDat.resid == 0].shape"
   ]
  },
  {
   "cell_type": "code",
   "execution_count": 32,
   "metadata": {},
   "outputs": [
    {
     "data": {
      "text/plain": [
       "Text(0,0.5,'Count')"
      ]
     },
     "execution_count": 32,
     "metadata": {},
     "output_type": "execute_result"
    },
    {
     "data": {
      "image/png": "[encoded data removed]",
      "text/plain": [
       "<Figure size 432x288 with 1 Axes>"
      ]
     },
     "metadata": {},
     "output_type": "display_data"
    }
   ],
   "source": [
    "p = testDat.resid.hist(bins=100)\n",
    "p.set_xlabel('Residual\\nMIRAD_PROSPER - MIRAD250')\n",
    "p.set_ylabel('Count')"
   ]
  },
  {
   "cell_type": "code",
   "execution_count": 37,
   "metadata": {},
   "outputs": [
    {
     "data": {
      "text/plain": [
       "(707, 26)"
      ]
     },
     "execution_count": 37,
     "metadata": {},
     "output_type": "execute_result"
    }
   ],
   "source": [
    "testDat['resid'] = testDat.MIRAD_PROSPER - testDat.mirad1k\n",
    "testDat.loc[testDat.resid == 0].shape"
   ]
  },
  {
   "cell_type": "code",
   "execution_count": 34,
   "metadata": {},
   "outputs": [
    {
     "data": {
      "text/plain": [
       "Text(0,0.5,'Count')"
      ]
     },
     "execution_count": 34,
     "metadata": {},
     "output_type": "execute_result"
    },
    {
     "data": {
      "image/png": "[encoded data removed]",
      "text/plain": [
       "<Figure size 432x288 with 1 Axes>"
      ]
     },
     "metadata": {},
     "output_type": "display_data"
    }
   ],
   "source": [
    "p = testDat.resid.hist(bins=100)\n",
    "p.set_xlabel('Residual\\nMIRAD_PROSPER - MIRAD1k')\n",
    "p.set_ylabel('Count')"
   ]
  },
  {
   "cell_type": "code",
   "execution_count": null,
   "metadata": {},
   "outputs": [],
   "source": []
  }
 ],
 "metadata": {
  "kernelspec": {
   "display_name": "Python 3",
   "language": "python",
   "name": "python3"
  },
  "language_info": {
   "codemirror_mode": {
    "name": "ipython",
    "version": 3
   },
   "file_extension": ".py",
   "mimetype": "text/x-python",
   "name": "python",
   "nbconvert_exporter": "python",
   "pygments_lexer": "ipython3",
   "version": "3.6.5"
  }
 },
 "nbformat": 4,
 "nbformat_minor": 2
}
