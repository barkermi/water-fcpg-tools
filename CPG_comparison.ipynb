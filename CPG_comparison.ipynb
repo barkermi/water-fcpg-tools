{
 "cells": [
  {
   "cell_type": "code",
   "execution_count": 87,
   "metadata": {
    "collapsed": true
   },
   "outputs": [],
   "source": [
    "import gdal\n",
    "import pandas as pd\n",
    "import numpy as np\n",
    "import geopandas as gpd\n",
    "import glob\n",
    "import matplotlib.pyplot as plt\n",
    "\n",
    "reg = 17 # region"
   ]
  },
  {
   "cell_type": "code",
   "execution_count": 4,
   "metadata": {
    "collapsed": true
   },
   "outputs": [],
   "source": [
    "def get_val(dat,gt=[],rb=[]):\n",
    "    ''' Grab cell value based on data frame x and y variables.\n",
    "    dat = dataframe containing x and y \n",
    "    gt = geotransform, of the index raster\n",
    "    rb = raster band to pick data from\n",
    "    '''\n",
    "    mx = dat.x\n",
    "    my = dat.y\n",
    "    # transform to array coordinates\n",
    "    px = int((mx-gt[0])/gt[1]) # x pixle\n",
    "    py = int((my-gt[3])/gt[5]) # y pixle\n",
    "\n",
    "    # extract the value\n",
    "    intval = rb.ReadAsArray(px,py,1,1)\n",
    "    return intval[0][0]"
   ]
  },
  {
   "cell_type": "code",
   "execution_count": 27,
   "metadata": {
    "collapsed": true
   },
   "outputs": [],
   "source": [
    "def get_watershed_areas(fl):\n",
    "    '''\n",
    "    Function to pull gageID and area from basin delineation shapefiles\n",
    "    \n",
    "    Inputs: \n",
    "        Shapefile Path\n",
    "        \n",
    "    Outputs:\n",
    "        gageID\n",
    "        watershed araea [sq km]\n",
    "    \n",
    "    '''\n",
    "    gageID = fl.split('_')[-4]\n",
    "    \n",
    "    dat = gpd.read_file(fl) # read file\n",
    "    area = dat.area_sqkm.sum()\n",
    "    \n",
    "    return gageID,area # return gageID and watershed area"
   ]
  },
  {
   "cell_type": "code",
   "execution_count": 28,
   "metadata": {
    "collapsed": true
   },
   "outputs": [],
   "source": [
    "shapefls = glob.glob('./data/gauges_proj/region_%s_*.shp'%(reg))"
   ]
  },
  {
   "cell_type": "code",
   "execution_count": 34,
   "metadata": {},
   "outputs": [
    {
     "name": "stdout",
     "output_type": "stream",
     "text": [
      "7.82 s ± 968 ms per loop (mean ± std. dev. of 7 runs, 1 loop each)\n"
     ]
    }
   ],
   "source": [
    "gageIDs = []\n",
    "areas = []\n",
    "for fl in shapefls:\n",
    "    gageID,area = get_watershed_areas(fl)\n",
    "    gageIDs.append(gageID)\n",
    "    areas.append(area)"
   ]
  },
  {
   "cell_type": "code",
   "execution_count": 72,
   "metadata": {
    "collapsed": true
   },
   "outputs": [],
   "source": [
    "delineations = pd.DataFrame()\n",
    "delineations['Gage_no'] = gageIDs\n",
    "delineations['area_grass'] = areas\n",
    "delineations['Gage_no'] = pd.to_numeric(delineations.Gage_no)"
   ]
  },
  {
   "cell_type": "code",
   "execution_count": 73,
   "metadata": {},
   "outputs": [
    {
     "data": {
      "text/html": [
       "<div>\n",
       "<style>\n",
       "    .dataframe thead tr:only-child th {\n",
       "        text-align: right;\n",
       "    }\n",
       "\n",
       "    .dataframe thead th {\n",
       "        text-align: left;\n",
       "    }\n",
       "\n",
       "    .dataframe tbody tr th {\n",
       "        vertical-align: top;\n",
       "    }\n",
       "</style>\n",
       "<table border=\"1\" class=\"dataframe\">\n",
       "  <thead>\n",
       "    <tr style=\"text-align: right;\">\n",
       "      <th></th>\n",
       "      <th>Gage_no</th>\n",
       "      <th>area_grass</th>\n",
       "    </tr>\n",
       "  </thead>\n",
       "  <tbody>\n",
       "    <tr>\n",
       "      <th>0</th>\n",
       "      <td>10366000</td>\n",
       "      <td>0.0018</td>\n",
       "    </tr>\n",
       "    <tr>\n",
       "      <th>1</th>\n",
       "      <td>10370000</td>\n",
       "      <td>0.0063</td>\n",
       "    </tr>\n",
       "    <tr>\n",
       "      <th>2</th>\n",
       "      <td>10371000</td>\n",
       "      <td>0.0009</td>\n",
       "    </tr>\n",
       "    <tr>\n",
       "      <th>3</th>\n",
       "      <td>10371500</td>\n",
       "      <td>653.0229</td>\n",
       "    </tr>\n",
       "    <tr>\n",
       "      <th>4</th>\n",
       "      <td>10378500</td>\n",
       "      <td>431.9037</td>\n",
       "    </tr>\n",
       "  </tbody>\n",
       "</table>\n",
       "</div>"
      ],
      "text/plain": [
       "    Gage_no  area_grass\n",
       "0  10366000      0.0018\n",
       "1  10370000      0.0063\n",
       "2  10371000      0.0009\n",
       "3  10371500    653.0229\n",
       "4  10378500    431.9037"
      ]
     },
     "execution_count": 73,
     "metadata": {},
     "output_type": "execute_result"
    }
   ],
   "source": [
    "delineations.head()"
   ]
  },
  {
   "cell_type": "code",
   "execution_count": 38,
   "metadata": {
    "collapsed": true
   },
   "outputs": [],
   "source": [
    "fl = './data/CPG_from_roy/region_17/MirAd_2012_100_CPG.tif'\n",
    "ds = gdal.Open(fl)\n",
    "gt = ds.GetGeoTransform()\n",
    "rb = ds.GetRasterBand(1)"
   ]
  },
  {
   "cell_type": "code",
   "execution_count": 42,
   "metadata": {
    "collapsed": true
   },
   "outputs": [],
   "source": [
    "fl = './data/CATCHMENT_snapped_cpgDat_reg_17.csv'\n",
    "testDat = pd.read_csv(fl)\n",
    "#del testDat['Unnamed: 0']\n",
    "#del testDat['Unnamed: 0.1']"
   ]
  },
  {
   "cell_type": "code",
   "execution_count": 43,
   "metadata": {},
   "outputs": [
    {
     "data": {
      "text/html": [
       "<div>\n",
       "<style>\n",
       "    .dataframe thead tr:only-child th {\n",
       "        text-align: right;\n",
       "    }\n",
       "\n",
       "    .dataframe thead th {\n",
       "        text-align: left;\n",
       "    }\n",
       "\n",
       "    .dataframe tbody tr th {\n",
       "        vertical-align: top;\n",
       "    }\n",
       "</style>\n",
       "<table border=\"1\" class=\"dataframe\">\n",
       "  <thead>\n",
       "    <tr style=\"text-align: right;\">\n",
       "      <th></th>\n",
       "      <th>cat</th>\n",
       "      <th>x</th>\n",
       "      <th>y</th>\n",
       "      <th>Gage_no</th>\n",
       "      <th>withdr1k</th>\n",
       "      <th>withdr1k_noData</th>\n",
       "      <th>mirad1k</th>\n",
       "      <th>mirad1k_noData</th>\n",
       "      <th>mirad250</th>\n",
       "      <th>mirad250_noData</th>\n",
       "      <th>...</th>\n",
       "      <th>nid_storage</th>\n",
       "      <th>nid_storage_noData</th>\n",
       "      <th>nid_normstorage</th>\n",
       "      <th>nid_normstorage_noData</th>\n",
       "      <th>npd_occur</th>\n",
       "      <th>npd_occur_noData</th>\n",
       "      <th>nlcd_2011_imperv</th>\n",
       "      <th>nlcd_2011_imperv_noData</th>\n",
       "      <th>ditches92_scale</th>\n",
       "      <th>ditches92_scale_noData</th>\n",
       "    </tr>\n",
       "  </thead>\n",
       "  <tbody>\n",
       "    <tr>\n",
       "      <th>0</th>\n",
       "      <td>1</td>\n",
       "      <td>-1703250.0</td>\n",
       "      <td>2521380.0</td>\n",
       "      <td>13220500</td>\n",
       "      <td>1.125079</td>\n",
       "      <td>0.0</td>\n",
       "      <td>0.009270</td>\n",
       "      <td>0.014724</td>\n",
       "      <td>8.823986e-05</td>\n",
       "      <td>0.014293</td>\n",
       "      <td>...</td>\n",
       "      <td>0.000436</td>\n",
       "      <td>0.013824</td>\n",
       "      <td>0.000432</td>\n",
       "      <td>0.013824</td>\n",
       "      <td>0.0</td>\n",
       "      <td>0.013824</td>\n",
       "      <td>0.002137</td>\n",
       "      <td>0.015395</td>\n",
       "      <td>0.000000e+00</td>\n",
       "      <td>0.014378</td>\n",
       "    </tr>\n",
       "    <tr>\n",
       "      <th>1</th>\n",
       "      <td>2</td>\n",
       "      <td>-2192520.0</td>\n",
       "      <td>2442660.0</td>\n",
       "      <td>14362250</td>\n",
       "      <td>0.015169</td>\n",
       "      <td>0.0</td>\n",
       "      <td>0.000000</td>\n",
       "      <td>0.000080</td>\n",
       "      <td>0.000000e+00</td>\n",
       "      <td>0.000076</td>\n",
       "      <td>...</td>\n",
       "      <td>0.000000</td>\n",
       "      <td>0.000073</td>\n",
       "      <td>0.000000</td>\n",
       "      <td>0.000073</td>\n",
       "      <td>0.0</td>\n",
       "      <td>0.000073</td>\n",
       "      <td>0.000016</td>\n",
       "      <td>0.000080</td>\n",
       "      <td>0.000000e+00</td>\n",
       "      <td>0.000076</td>\n",
       "    </tr>\n",
       "    <tr>\n",
       "      <th>2</th>\n",
       "      <td>3</td>\n",
       "      <td>-2119230.0</td>\n",
       "      <td>2708040.0</td>\n",
       "      <td>14173500</td>\n",
       "      <td>0.210844</td>\n",
       "      <td>0.0</td>\n",
       "      <td>0.007658</td>\n",
       "      <td>0.001440</td>\n",
       "      <td>7.279971e-05</td>\n",
       "      <td>0.001679</td>\n",
       "      <td>...</td>\n",
       "      <td>0.000000</td>\n",
       "      <td>0.001684</td>\n",
       "      <td>0.000000</td>\n",
       "      <td>0.001684</td>\n",
       "      <td>0.0</td>\n",
       "      <td>0.001684</td>\n",
       "      <td>0.002853</td>\n",
       "      <td>0.001820</td>\n",
       "      <td>2.833502e-02</td>\n",
       "      <td>0.000640</td>\n",
       "    </tr>\n",
       "    <tr>\n",
       "      <th>3</th>\n",
       "      <td>4</td>\n",
       "      <td>-2093280.0</td>\n",
       "      <td>2594610.0</td>\n",
       "      <td>14145100</td>\n",
       "      <td>0.186470</td>\n",
       "      <td>0.0</td>\n",
       "      <td>0.000000</td>\n",
       "      <td>0.001934</td>\n",
       "      <td>0.000000e+00</td>\n",
       "      <td>0.001845</td>\n",
       "      <td>...</td>\n",
       "      <td>0.000563</td>\n",
       "      <td>0.001773</td>\n",
       "      <td>0.000555</td>\n",
       "      <td>0.001773</td>\n",
       "      <td>0.0</td>\n",
       "      <td>0.001773</td>\n",
       "      <td>0.000122</td>\n",
       "      <td>0.001981</td>\n",
       "      <td>0.000000e+00</td>\n",
       "      <td>0.001844</td>\n",
       "    </tr>\n",
       "    <tr>\n",
       "      <th>4</th>\n",
       "      <td>5</td>\n",
       "      <td>-2181330.0</td>\n",
       "      <td>2693610.0</td>\n",
       "      <td>14306400</td>\n",
       "      <td>0.064112</td>\n",
       "      <td>0.0</td>\n",
       "      <td>0.000048</td>\n",
       "      <td>0.000564</td>\n",
       "      <td>4.758926e-07</td>\n",
       "      <td>0.000541</td>\n",
       "      <td>...</td>\n",
       "      <td>0.000000</td>\n",
       "      <td>0.000521</td>\n",
       "      <td>0.000000</td>\n",
       "      <td>0.000521</td>\n",
       "      <td>0.0</td>\n",
       "      <td>0.000521</td>\n",
       "      <td>0.000190</td>\n",
       "      <td>0.000563</td>\n",
       "      <td>8.425584e-07</td>\n",
       "      <td>0.000540</td>\n",
       "    </tr>\n",
       "  </tbody>\n",
       "</table>\n",
       "<p>5 rows × 24 columns</p>\n",
       "</div>"
      ],
      "text/plain": [
       "   cat          x          y   Gage_no  withdr1k  withdr1k_noData   mirad1k  \\\n",
       "0    1 -1703250.0  2521380.0  13220500  1.125079              0.0  0.009270   \n",
       "1    2 -2192520.0  2442660.0  14362250  0.015169              0.0  0.000000   \n",
       "2    3 -2119230.0  2708040.0  14173500  0.210844              0.0  0.007658   \n",
       "3    4 -2093280.0  2594610.0  14145100  0.186470              0.0  0.000000   \n",
       "4    5 -2181330.0  2693610.0  14306400  0.064112              0.0  0.000048   \n",
       "\n",
       "   mirad1k_noData      mirad250  mirad250_noData           ...            \\\n",
       "0        0.014724  8.823986e-05         0.014293           ...             \n",
       "1        0.000080  0.000000e+00         0.000076           ...             \n",
       "2        0.001440  7.279971e-05         0.001679           ...             \n",
       "3        0.001934  0.000000e+00         0.001845           ...             \n",
       "4        0.000564  4.758926e-07         0.000541           ...             \n",
       "\n",
       "   nid_storage  nid_storage_noData  nid_normstorage  nid_normstorage_noData  \\\n",
       "0     0.000436            0.013824         0.000432                0.013824   \n",
       "1     0.000000            0.000073         0.000000                0.000073   \n",
       "2     0.000000            0.001684         0.000000                0.001684   \n",
       "3     0.000563            0.001773         0.000555                0.001773   \n",
       "4     0.000000            0.000521         0.000000                0.000521   \n",
       "\n",
       "   npd_occur  npd_occur_noData  nlcd_2011_imperv  nlcd_2011_imperv_noData  \\\n",
       "0        0.0          0.013824          0.002137                 0.015395   \n",
       "1        0.0          0.000073          0.000016                 0.000080   \n",
       "2        0.0          0.001684          0.002853                 0.001820   \n",
       "3        0.0          0.001773          0.000122                 0.001981   \n",
       "4        0.0          0.000521          0.000190                 0.000563   \n",
       "\n",
       "   ditches92_scale  ditches92_scale_noData  \n",
       "0     0.000000e+00                0.014378  \n",
       "1     0.000000e+00                0.000076  \n",
       "2     2.833502e-02                0.000640  \n",
       "3     0.000000e+00                0.001844  \n",
       "4     8.425584e-07                0.000540  \n",
       "\n",
       "[5 rows x 24 columns]"
      ]
     },
     "execution_count": 43,
     "metadata": {},
     "output_type": "execute_result"
    }
   ],
   "source": [
    "testDat.head()"
   ]
  },
  {
   "cell_type": "code",
   "execution_count": 44,
   "metadata": {
    "collapsed": true
   },
   "outputs": [],
   "source": [
    "testDat['MIRAD_PROSPER'] = testDat.apply(get_val,gt = gt, rb = rb, axis = 1)"
   ]
  },
  {
   "cell_type": "code",
   "execution_count": 45,
   "metadata": {
    "collapsed": true
   },
   "outputs": [],
   "source": [
    "testDat.MIRAD_PROSPER /= 100."
   ]
  },
  {
   "cell_type": "code",
   "execution_count": 121,
   "metadata": {
    "collapsed": true
   },
   "outputs": [],
   "source": [
    "tmp = gpd.read_file('./data/CATCHMENT_gageloc_v1.shp')\n",
    "tmp = tmp.loc[tmp.NHDPlusReg == '17']\n",
    "gageloc = pd.DataFrame()\n",
    "gageloc['area_nwis'] = tmp['Area_nwis']\n",
    "gageloc['Gage_no'] = pd.to_numeric(tmp['Gage_no'])"
   ]
  },
  {
   "cell_type": "code",
   "execution_count": 122,
   "metadata": {},
   "outputs": [
    {
     "data": {
      "text/html": [
       "<div>\n",
       "<style>\n",
       "    .dataframe thead tr:only-child th {\n",
       "        text-align: right;\n",
       "    }\n",
       "\n",
       "    .dataframe thead th {\n",
       "        text-align: left;\n",
       "    }\n",
       "\n",
       "    .dataframe tbody tr th {\n",
       "        vertical-align: top;\n",
       "    }\n",
       "</style>\n",
       "<table border=\"1\" class=\"dataframe\">\n",
       "  <thead>\n",
       "    <tr style=\"text-align: right;\">\n",
       "      <th></th>\n",
       "      <th>Gage_no</th>\n",
       "      <th>Gage_name</th>\n",
       "      <th>Gage_type</th>\n",
       "      <th>Lat_nwis</th>\n",
       "      <th>Long_nwis</th>\n",
       "      <th>Area_nwis</th>\n",
       "      <th>Lat_snap</th>\n",
       "      <th>Long_snap</th>\n",
       "      <th>COMID</th>\n",
       "      <th>COMID_meas</th>\n",
       "      <th>...</th>\n",
       "      <th>State</th>\n",
       "      <th>CHECKED</th>\n",
       "      <th>QC_notes1</th>\n",
       "      <th>REVIEWED</th>\n",
       "      <th>Rev_notes2</th>\n",
       "      <th>Ver_notes3</th>\n",
       "      <th>Gage_info</th>\n",
       "      <th>DropReason</th>\n",
       "      <th>QC_final</th>\n",
       "      <th>geometry</th>\n",
       "    </tr>\n",
       "  </thead>\n",
       "  <tbody>\n",
       "    <tr>\n",
       "      <th>11694</th>\n",
       "      <td>13220500</td>\n",
       "      <td>MALHEUR RIVER NEAR HOPE, OREG.</td>\n",
       "      <td>ContGage</td>\n",
       "      <td>43.944326</td>\n",
       "      <td>-117.481575</td>\n",
       "      <td>7847.663943</td>\n",
       "      <td>43.944136</td>\n",
       "      <td>-117.478147</td>\n",
       "      <td>24143220</td>\n",
       "      <td>5.816461</td>\n",
       "      <td>...</td>\n",
       "      <td>OR</td>\n",
       "      <td>SJ 11/28/16</td>\n",
       "      <td>OK. Snapped to flowline</td>\n",
       "      <td>AH/MCM 7/24/2017</td>\n",
       "      <td>ok</td>\n",
       "      <td>None</td>\n",
       "      <td>None</td>\n",
       "      <td>None</td>\n",
       "      <td>OK</td>\n",
       "      <td>POINT Z (-117.478147025617 43.94413621295035 0)</td>\n",
       "    </tr>\n",
       "    <tr>\n",
       "      <th>11695</th>\n",
       "      <td>14362250</td>\n",
       "      <td>STAR GULCH NEAR RUCH, OR</td>\n",
       "      <td>ContGage</td>\n",
       "      <td>42.154014</td>\n",
       "      <td>-123.075323</td>\n",
       "      <td>41.439810</td>\n",
       "      <td>42.154458</td>\n",
       "      <td>-123.075346</td>\n",
       "      <td>23935979</td>\n",
       "      <td>95.879457</td>\n",
       "      <td>...</td>\n",
       "      <td>OR</td>\n",
       "      <td>JAF, 12/21/2015</td>\n",
       "      <td>None</td>\n",
       "      <td>AH/MCM 7/24/2017</td>\n",
       "      <td>ok</td>\n",
       "      <td>None</td>\n",
       "      <td>None</td>\n",
       "      <td>None</td>\n",
       "      <td>OK</td>\n",
       "      <td>POINT Z (-123.0753461907914 42.15445778992844 0)</td>\n",
       "    </tr>\n",
       "    <tr>\n",
       "      <th>11696</th>\n",
       "      <td>14173500</td>\n",
       "      <td>CALAPOOIA RIVER AT ALBANY, OR</td>\n",
       "      <td>ContGage</td>\n",
       "      <td>44.620677</td>\n",
       "      <td>-123.128984</td>\n",
       "      <td>963.475573</td>\n",
       "      <td>44.620621</td>\n",
       "      <td>-123.129067</td>\n",
       "      <td>23763521</td>\n",
       "      <td>81.455617</td>\n",
       "      <td>...</td>\n",
       "      <td>OR</td>\n",
       "      <td>None</td>\n",
       "      <td>None</td>\n",
       "      <td>AH/MCM 7/24/2017</td>\n",
       "      <td>ok</td>\n",
       "      <td>None</td>\n",
       "      <td>None</td>\n",
       "      <td>None</td>\n",
       "      <td>OK</td>\n",
       "      <td>POINT Z (-123.1290666825562 44.62062059464452 0)</td>\n",
       "    </tr>\n",
       "    <tr>\n",
       "      <th>11697</th>\n",
       "      <td>14145100</td>\n",
       "      <td>HILLS CREEK LAKE NEAR OAKRIDGE, OR</td>\n",
       "      <td>ContGage</td>\n",
       "      <td>43.709575</td>\n",
       "      <td>-122.421111</td>\n",
       "      <td>1007.505371</td>\n",
       "      <td>43.707854</td>\n",
       "      <td>-122.420911</td>\n",
       "      <td>23751946</td>\n",
       "      <td>71.500827</td>\n",
       "      <td>...</td>\n",
       "      <td>OR</td>\n",
       "      <td>SJ 12/12/16</td>\n",
       "      <td>OK. Snapped to flowline</td>\n",
       "      <td>AH/MCM 7/24/2017</td>\n",
       "      <td>ok</td>\n",
       "      <td>None</td>\n",
       "      <td>None</td>\n",
       "      <td>None</td>\n",
       "      <td>OK</td>\n",
       "      <td>POINT Z (-122.4209111767744 43.70785357066743 0)</td>\n",
       "    </tr>\n",
       "    <tr>\n",
       "      <th>11698</th>\n",
       "      <td>14306400</td>\n",
       "      <td>FIVE RIVERS NR FISHER, OREG.</td>\n",
       "      <td>CrestStage</td>\n",
       "      <td>44.337343</td>\n",
       "      <td>-123.827611</td>\n",
       "      <td>295.258643</td>\n",
       "      <td>44.337516</td>\n",
       "      <td>-123.827389</td>\n",
       "      <td>23886310</td>\n",
       "      <td>94.242643</td>\n",
       "      <td>...</td>\n",
       "      <td>OR</td>\n",
       "      <td>None</td>\n",
       "      <td>None</td>\n",
       "      <td>AH/MCM 7/24/2017</td>\n",
       "      <td>ok</td>\n",
       "      <td>None</td>\n",
       "      <td>None</td>\n",
       "      <td>None</td>\n",
       "      <td>OK</td>\n",
       "      <td>POINT Z (-123.8273893880673 44.33751639226584 0)</td>\n",
       "    </tr>\n",
       "  </tbody>\n",
       "</table>\n",
       "<p>5 rows × 23 columns</p>\n",
       "</div>"
      ],
      "text/plain": [
       "        Gage_no                           Gage_name   Gage_type   Lat_nwis  \\\n",
       "11694  13220500      MALHEUR RIVER NEAR HOPE, OREG.    ContGage  43.944326   \n",
       "11695  14362250            STAR GULCH NEAR RUCH, OR    ContGage  42.154014   \n",
       "11696  14173500       CALAPOOIA RIVER AT ALBANY, OR    ContGage  44.620677   \n",
       "11697  14145100  HILLS CREEK LAKE NEAR OAKRIDGE, OR    ContGage  43.709575   \n",
       "11698  14306400        FIVE RIVERS NR FISHER, OREG.  CrestStage  44.337343   \n",
       "\n",
       "        Long_nwis    Area_nwis   Lat_snap   Long_snap     COMID  COMID_meas  \\\n",
       "11694 -117.481575  7847.663943  43.944136 -117.478147  24143220    5.816461   \n",
       "11695 -123.075323    41.439810  42.154458 -123.075346  23935979   95.879457   \n",
       "11696 -123.128984   963.475573  44.620621 -123.129067  23763521   81.455617   \n",
       "11697 -122.421111  1007.505371  43.707854 -122.420911  23751946   71.500827   \n",
       "11698 -123.827611   295.258643  44.337516 -123.827389  23886310   94.242643   \n",
       "\n",
       "                             ...                        State  \\\n",
       "11694                        ...                           OR   \n",
       "11695                        ...                           OR   \n",
       "11696                        ...                           OR   \n",
       "11697                        ...                           OR   \n",
       "11698                        ...                           OR   \n",
       "\n",
       "               CHECKED                QC_notes1          REVIEWED Rev_notes2  \\\n",
       "11694      SJ 11/28/16  OK. Snapped to flowline  AH/MCM 7/24/2017         ok   \n",
       "11695  JAF, 12/21/2015                     None  AH/MCM 7/24/2017         ok   \n",
       "11696             None                     None  AH/MCM 7/24/2017         ok   \n",
       "11697      SJ 12/12/16  OK. Snapped to flowline  AH/MCM 7/24/2017         ok   \n",
       "11698             None                     None  AH/MCM 7/24/2017         ok   \n",
       "\n",
       "      Ver_notes3 Gage_info DropReason QC_final  \\\n",
       "11694       None      None       None       OK   \n",
       "11695       None      None       None       OK   \n",
       "11696       None      None       None       OK   \n",
       "11697       None      None       None       OK   \n",
       "11698       None      None       None       OK   \n",
       "\n",
       "                                               geometry  \n",
       "11694   POINT Z (-117.478147025617 43.94413621295035 0)  \n",
       "11695  POINT Z (-123.0753461907914 42.15445778992844 0)  \n",
       "11696  POINT Z (-123.1290666825562 44.62062059464452 0)  \n",
       "11697  POINT Z (-122.4209111767744 43.70785357066743 0)  \n",
       "11698  POINT Z (-123.8273893880673 44.33751639226584 0)  \n",
       "\n",
       "[5 rows x 23 columns]"
      ]
     },
     "execution_count": 122,
     "metadata": {},
     "output_type": "execute_result"
    }
   ],
   "source": []
  },
  {
   "cell_type": "code",
   "execution_count": 74,
   "metadata": {
    "collapsed": true
   },
   "outputs": [],
   "source": [
    "data = pd.merge(left=gageloc, right=testDat, on='Gage_no')\n",
    "data = pd.merge(left=data, right=delineations, on='Gage_no')"
   ]
  },
  {
   "cell_type": "code",
   "execution_count": 75,
   "metadata": {},
   "outputs": [
    {
     "data": {
      "text/html": [
       "<div>\n",
       "<style>\n",
       "    .dataframe thead tr:only-child th {\n",
       "        text-align: right;\n",
       "    }\n",
       "\n",
       "    .dataframe thead th {\n",
       "        text-align: left;\n",
       "    }\n",
       "\n",
       "    .dataframe tbody tr th {\n",
       "        vertical-align: top;\n",
       "    }\n",
       "</style>\n",
       "<table border=\"1\" class=\"dataframe\">\n",
       "  <thead>\n",
       "    <tr style=\"text-align: right;\">\n",
       "      <th></th>\n",
       "      <th>area_nwis</th>\n",
       "      <th>Gage_no</th>\n",
       "      <th>cat</th>\n",
       "      <th>x</th>\n",
       "      <th>y</th>\n",
       "      <th>withdr1k</th>\n",
       "      <th>withdr1k_noData</th>\n",
       "      <th>mirad1k</th>\n",
       "      <th>mirad1k_noData</th>\n",
       "      <th>mirad250</th>\n",
       "      <th>...</th>\n",
       "      <th>nid_normstorage</th>\n",
       "      <th>nid_normstorage_noData</th>\n",
       "      <th>npd_occur</th>\n",
       "      <th>npd_occur_noData</th>\n",
       "      <th>nlcd_2011_imperv</th>\n",
       "      <th>nlcd_2011_imperv_noData</th>\n",
       "      <th>ditches92_scale</th>\n",
       "      <th>ditches92_scale_noData</th>\n",
       "      <th>MIRAD_PROSPER</th>\n",
       "      <th>area_grass</th>\n",
       "    </tr>\n",
       "  </thead>\n",
       "  <tbody>\n",
       "    <tr>\n",
       "      <th>0</th>\n",
       "      <td>7847.663943</td>\n",
       "      <td>13220500</td>\n",
       "      <td>1</td>\n",
       "      <td>-1703250.0</td>\n",
       "      <td>2521380.0</td>\n",
       "      <td>1.125079</td>\n",
       "      <td>0.0</td>\n",
       "      <td>0.009270</td>\n",
       "      <td>0.014724</td>\n",
       "      <td>8.823986e-05</td>\n",
       "      <td>...</td>\n",
       "      <td>0.000432</td>\n",
       "      <td>0.013824</td>\n",
       "      <td>0.0</td>\n",
       "      <td>0.013824</td>\n",
       "      <td>0.002137</td>\n",
       "      <td>0.015395</td>\n",
       "      <td>0.000000e+00</td>\n",
       "      <td>0.014378</td>\n",
       "      <td>0.01</td>\n",
       "      <td>0.0018</td>\n",
       "    </tr>\n",
       "    <tr>\n",
       "      <th>1</th>\n",
       "      <td>41.439810</td>\n",
       "      <td>14362250</td>\n",
       "      <td>2</td>\n",
       "      <td>-2192520.0</td>\n",
       "      <td>2442660.0</td>\n",
       "      <td>0.015169</td>\n",
       "      <td>0.0</td>\n",
       "      <td>0.000000</td>\n",
       "      <td>0.000080</td>\n",
       "      <td>0.000000e+00</td>\n",
       "      <td>...</td>\n",
       "      <td>0.000000</td>\n",
       "      <td>0.000073</td>\n",
       "      <td>0.0</td>\n",
       "      <td>0.000073</td>\n",
       "      <td>0.000016</td>\n",
       "      <td>0.000080</td>\n",
       "      <td>0.000000e+00</td>\n",
       "      <td>0.000076</td>\n",
       "      <td>0.00</td>\n",
       "      <td>0.0108</td>\n",
       "    </tr>\n",
       "    <tr>\n",
       "      <th>2</th>\n",
       "      <td>963.475573</td>\n",
       "      <td>14173500</td>\n",
       "      <td>3</td>\n",
       "      <td>-2119230.0</td>\n",
       "      <td>2708040.0</td>\n",
       "      <td>0.210844</td>\n",
       "      <td>0.0</td>\n",
       "      <td>0.007658</td>\n",
       "      <td>0.001440</td>\n",
       "      <td>7.279971e-05</td>\n",
       "      <td>...</td>\n",
       "      <td>0.000000</td>\n",
       "      <td>0.001684</td>\n",
       "      <td>0.0</td>\n",
       "      <td>0.001684</td>\n",
       "      <td>0.002853</td>\n",
       "      <td>0.001820</td>\n",
       "      <td>2.833502e-02</td>\n",
       "      <td>0.000640</td>\n",
       "      <td>0.04</td>\n",
       "      <td>0.0009</td>\n",
       "    </tr>\n",
       "    <tr>\n",
       "      <th>3</th>\n",
       "      <td>1007.505371</td>\n",
       "      <td>14145100</td>\n",
       "      <td>4</td>\n",
       "      <td>-2093280.0</td>\n",
       "      <td>2594610.0</td>\n",
       "      <td>0.186470</td>\n",
       "      <td>0.0</td>\n",
       "      <td>0.000000</td>\n",
       "      <td>0.001934</td>\n",
       "      <td>0.000000e+00</td>\n",
       "      <td>...</td>\n",
       "      <td>0.000555</td>\n",
       "      <td>0.001773</td>\n",
       "      <td>0.0</td>\n",
       "      <td>0.001773</td>\n",
       "      <td>0.000122</td>\n",
       "      <td>0.001981</td>\n",
       "      <td>0.000000e+00</td>\n",
       "      <td>0.001844</td>\n",
       "      <td>0.00</td>\n",
       "      <td>0.0027</td>\n",
       "    </tr>\n",
       "    <tr>\n",
       "      <th>4</th>\n",
       "      <td>295.258643</td>\n",
       "      <td>14306400</td>\n",
       "      <td>5</td>\n",
       "      <td>-2181330.0</td>\n",
       "      <td>2693610.0</td>\n",
       "      <td>0.064112</td>\n",
       "      <td>0.0</td>\n",
       "      <td>0.000048</td>\n",
       "      <td>0.000564</td>\n",
       "      <td>4.758926e-07</td>\n",
       "      <td>...</td>\n",
       "      <td>0.000000</td>\n",
       "      <td>0.000521</td>\n",
       "      <td>0.0</td>\n",
       "      <td>0.000521</td>\n",
       "      <td>0.000190</td>\n",
       "      <td>0.000563</td>\n",
       "      <td>8.425584e-07</td>\n",
       "      <td>0.000540</td>\n",
       "      <td>0.00</td>\n",
       "      <td>0.0009</td>\n",
       "    </tr>\n",
       "  </tbody>\n",
       "</table>\n",
       "<p>5 rows × 27 columns</p>\n",
       "</div>"
      ],
      "text/plain": [
       "     area_nwis   Gage_no  cat          x          y  withdr1k  \\\n",
       "0  7847.663943  13220500    1 -1703250.0  2521380.0  1.125079   \n",
       "1    41.439810  14362250    2 -2192520.0  2442660.0  0.015169   \n",
       "2   963.475573  14173500    3 -2119230.0  2708040.0  0.210844   \n",
       "3  1007.505371  14145100    4 -2093280.0  2594610.0  0.186470   \n",
       "4   295.258643  14306400    5 -2181330.0  2693610.0  0.064112   \n",
       "\n",
       "   withdr1k_noData   mirad1k  mirad1k_noData      mirad250     ...      \\\n",
       "0              0.0  0.009270        0.014724  8.823986e-05     ...       \n",
       "1              0.0  0.000000        0.000080  0.000000e+00     ...       \n",
       "2              0.0  0.007658        0.001440  7.279971e-05     ...       \n",
       "3              0.0  0.000000        0.001934  0.000000e+00     ...       \n",
       "4              0.0  0.000048        0.000564  4.758926e-07     ...       \n",
       "\n",
       "   nid_normstorage  nid_normstorage_noData  npd_occur  npd_occur_noData  \\\n",
       "0         0.000432                0.013824        0.0          0.013824   \n",
       "1         0.000000                0.000073        0.0          0.000073   \n",
       "2         0.000000                0.001684        0.0          0.001684   \n",
       "3         0.000555                0.001773        0.0          0.001773   \n",
       "4         0.000000                0.000521        0.0          0.000521   \n",
       "\n",
       "   nlcd_2011_imperv  nlcd_2011_imperv_noData  ditches92_scale  \\\n",
       "0          0.002137                 0.015395     0.000000e+00   \n",
       "1          0.000016                 0.000080     0.000000e+00   \n",
       "2          0.002853                 0.001820     2.833502e-02   \n",
       "3          0.000122                 0.001981     0.000000e+00   \n",
       "4          0.000190                 0.000563     8.425584e-07   \n",
       "\n",
       "   ditches92_scale_noData  MIRAD_PROSPER  area_grass  \n",
       "0                0.014378           0.01      0.0018  \n",
       "1                0.000076           0.00      0.0108  \n",
       "2                0.000640           0.04      0.0009  \n",
       "3                0.001844           0.00      0.0027  \n",
       "4                0.000540           0.00      0.0009  \n",
       "\n",
       "[5 rows x 27 columns]"
      ]
     },
     "execution_count": 75,
     "metadata": {},
     "output_type": "execute_result"
    }
   ],
   "source": [
    "data.head()"
   ]
  },
  {
   "cell_type": "code",
   "execution_count": 76,
   "metadata": {
    "collapsed": true
   },
   "outputs": [],
   "source": [
    "data['area_diff'] = data.area_nwis - data.area_grass"
   ]
  },
  {
   "cell_type": "code",
   "execution_count": 77,
   "metadata": {},
   "outputs": [
    {
     "data": {
      "text/plain": [
       "<matplotlib.axes._subplots.AxesSubplot at 0x7f5ccf73f8d0>"
      ]
     },
     "execution_count": 77,
     "metadata": {},
     "output_type": "execute_result"
    },
    {
     "data": {
      "image/png": "[encoded data removed]",
      "text/plain": [
       "<matplotlib.figure.Figure at 0x7f5ccf722c18>"
      ]
     },
     "metadata": {},
     "output_type": "display_data"
    }
   ],
   "source": [
    "data.plot.scatter('area_nwis','area_grass')"
   ]
  },
  {
   "cell_type": "code",
   "execution_count": 97,
   "metadata": {},
   "outputs": [
    {
     "data": {
      "text/plain": [
       "array([<matplotlib.axes._subplots.AxesSubplot object at 0x7f5ca22ac358>], dtype=object)"
      ]
     },
     "execution_count": 97,
     "metadata": {},
     "output_type": "execute_result"
    }
   ],
   "source": []
  },
  {
   "cell_type": "code",
   "execution_count": 113,
   "metadata": {},
   "outputs": [
    {
     "data": {
      "text/plain": [
       "(0, 2000)"
      ]
     },
     "execution_count": 113,
     "metadata": {},
     "output_type": "execute_result"
    },
    {
     "data": {
      "image/png": "[encoded data removed]",
      "text/plain": [
       "<matplotlib.figure.Figure at 0x7f5cc0581128>"
      ]
     },
     "metadata": {},
     "output_type": "display_data"
    }
   ],
   "source": [
    "p = data.hist('area_diff', bins = 5000)\n",
    "plt.ylim(0,1250)\n",
    "plt.xlim(0,2000)"
   ]
  },
  {
   "cell_type": "code",
   "execution_count": 100,
   "metadata": {},
   "outputs": [
    {
     "data": {
      "text/plain": [
       "(403, 28)"
      ]
     },
     "execution_count": 100,
     "metadata": {},
     "output_type": "execute_result"
    }
   ],
   "source": [
    "data.loc[data.area_diff.abs() < 50].shape"
   ]
  },
  {
   "cell_type": "code",
   "execution_count": 123,
   "metadata": {},
   "outputs": [],
   "source": [
    "tmp = data.sort_values('area_diff',ascending=True)[['area_nwis','area_grass','area_diff','Gage_no','x','y']]"
   ]
  },
  {
   "cell_type": "code",
   "execution_count": 126,
   "metadata": {},
   "outputs": [
    {
     "data": {
      "text/plain": [
       "(1234, 6)"
      ]
     },
     "execution_count": 126,
     "metadata": {},
     "output_type": "execute_result"
    }
   ],
   "source": [
    "tmp.shape"
   ]
  },
  {
   "cell_type": "code",
   "execution_count": 125,
   "metadata": {},
   "outputs": [
    {
     "data": {
      "text/html": [
       "<div>\n",
       "<style>\n",
       "    .dataframe thead tr:only-child th {\n",
       "        text-align: right;\n",
       "    }\n",
       "\n",
       "    .dataframe thead th {\n",
       "        text-align: left;\n",
       "    }\n",
       "\n",
       "    .dataframe tbody tr th {\n",
       "        vertical-align: top;\n",
       "    }\n",
       "</style>\n",
       "<table border=\"1\" class=\"dataframe\">\n",
       "  <thead>\n",
       "    <tr style=\"text-align: right;\">\n",
       "      <th></th>\n",
       "      <th>area_nwis</th>\n",
       "      <th>area_grass</th>\n",
       "      <th>area_diff</th>\n",
       "      <th>Gage_no</th>\n",
       "      <th>x</th>\n",
       "      <th>y</th>\n",
       "    </tr>\n",
       "  </thead>\n",
       "  <tbody>\n",
       "    <tr>\n",
       "      <th>322</th>\n",
       "      <td>8974.308767</td>\n",
       "      <td>0.0009</td>\n",
       "      <td>8974.307867</td>\n",
       "      <td>13022500</td>\n",
       "      <td>-1199040.0</td>\n",
       "      <td>2338710.0</td>\n",
       "    </tr>\n",
       "  </tbody>\n",
       "</table>\n",
       "</div>"
      ],
      "text/plain": [
       "       area_nwis  area_grass    area_diff   Gage_no          x          y\n",
       "322  8974.308767      0.0009  8974.307867  13022500 -1199040.0  2338710.0"
      ]
     },
     "execution_count": 125,
     "metadata": {},
     "output_type": "execute_result"
    }
   ],
   "source": [
    "tmp.loc[tmp.Gage_no == 13022500]"
   ]
  },
  {
   "cell_type": "code",
   "execution_count": 119,
   "metadata": {},
   "outputs": [
    {
     "data": {
      "text/plain": [
       "14246900"
      ]
     },
     "execution_count": 119,
     "metadata": {},
     "output_type": "execute_result"
    }
   ],
   "source": [
    "tmp.Gage_no.values[-1]"
   ]
  },
  {
   "cell_type": "code",
   "execution_count": 116,
   "metadata": {},
   "outputs": [
    {
     "name": "stdout",
     "output_type": "stream",
     "text": [
      "-2074380.0,2875920.0\n"
     ]
    }
   ],
   "source": [
    "print('%s,%s'%(tmp.x.values[-1],tmp.y.values[-1]))"
   ]
  },
  {
   "cell_type": "code",
   "execution_count": 23,
   "metadata": {},
   "outputs": [
    {
     "data": {
      "text/plain": [
       "<matplotlib.axes._subplots.AxesSubplot at 0x7f108161eac8>"
      ]
     },
     "execution_count": 23,
     "metadata": {},
     "output_type": "execute_result"
    },
    {
     "data": {
      "image/png": "[encoded data removed]",
      "text/plain": [
       "<Figure size 432x288 with 1 Axes>"
      ]
     },
     "metadata": {},
     "output_type": "display_data"
    }
   ],
   "source": [
    "testDat.plot.scatter('MIRAD_PROSPER','mirad250')"
   ]
  },
  {
   "cell_type": "code",
   "execution_count": 36,
   "metadata": {},
   "outputs": [
    {
     "data": {
      "text/plain": [
       "(750, 26)"
      ]
     },
     "execution_count": 36,
     "metadata": {},
     "output_type": "execute_result"
    }
   ],
   "source": [
    "testDat['resid'] = testDat.MIRAD_PROSPER - testDat.mirad250\n",
    "testDat.loc[testDat.resid == 0].shape"
   ]
  },
  {
   "cell_type": "code",
   "execution_count": 32,
   "metadata": {},
   "outputs": [
    {
     "data": {
      "text/plain": [
       "Text(0,0.5,'Count')"
      ]
     },
     "execution_count": 32,
     "metadata": {},
     "output_type": "execute_result"
    },
    {
     "data": {
      "image/png": "[encoded data removed]",
      "text/plain": [
       "<Figure size 432x288 with 1 Axes>"
      ]
     },
     "metadata": {},
     "output_type": "display_data"
    }
   ],
   "source": [
    "p = testDat.resid.hist(bins=100)\n",
    "p.set_xlabel('Residual\\nMIRAD_PROSPER - MIRAD250')\n",
    "p.set_ylabel('Count')"
   ]
  },
  {
   "cell_type": "code",
   "execution_count": 37,
   "metadata": {},
   "outputs": [
    {
     "data": {
      "text/plain": [
       "(707, 26)"
      ]
     },
     "execution_count": 37,
     "metadata": {},
     "output_type": "execute_result"
    }
   ],
   "source": [
    "testDat['resid'] = testDat.MIRAD_PROSPER - testDat.mirad1k\n",
    "testDat.loc[testDat.resid == 0].shape"
   ]
  },
  {
   "cell_type": "code",
   "execution_count": 34,
   "metadata": {},
   "outputs": [
    {
     "data": {
      "text/plain": [
       "Text(0,0.5,'Count')"
      ]
     },
     "execution_count": 34,
     "metadata": {},
     "output_type": "execute_result"
    },
    {
     "data": {
      "image/png": "[encoded data removed]",
      "text/plain": [
       "<Figure size 432x288 with 1 Axes>"
      ]
     },
     "metadata": {},
     "output_type": "display_data"
    }
   ],
   "source": [
    "p = testDat.resid.hist(bins=100)\n",
    "p.set_xlabel('Residual\\nMIRAD_PROSPER - MIRAD1k')\n",
    "p.set_ylabel('Count')"
   ]
  },
  {
   "cell_type": "code",
   "execution_count": null,
   "metadata": {
    "collapsed": true
   },
   "outputs": [],
   "source": []
  }
 ],
 "metadata": {
  "kernelspec": {
   "display_name": "Python 3",
   "language": "python",
   "name": "python3"
  },
  "language_info": {
   "codemirror_mode": {
    "name": "ipython",
    "version": 3
   },
   "file_extension": ".py",
   "mimetype": "text/x-python",
   "name": "python",
   "nbconvert_exporter": "python",
   "pygments_lexer": "ipython3",
   "version": "3.6.2"
  }
 },
 "nbformat": 4,
 "nbformat_minor": 2
}
