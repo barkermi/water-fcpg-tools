{
 "cells": [
  {
   "cell_type": "markdown",
   "metadata": {},
   "source": [
    "# Xavier's Sandbox Notebook\n",
    "\n",
    "**Conents:**\n",
    "1. Conda environment testing.\n",
    "2. Key raster types\n",
    "2. Existing FCPG Tools Functions - Descriptions and Pseudo-Code.\n",
    "3. Testing refactored code (later)."
   ]
  },
  {
   "cell_type": "markdown",
   "metadata": {
    "tags": []
   },
   "source": [
    "# Conda Environemnt Testing"
   ]
  },
  {
   "cell_type": "markdown",
   "metadata": {},
   "source": [
    "## Branch: refactor_planning - `FCPGtools_env.yml` (September 9th, 2022)"
   ]
  },
  {
   "cell_type": "markdown",
   "metadata": {},
   "source": [
    "This .yml installed successfully, but then was never able to resolve the environment to conda-forge install TauDem.\n",
    "**Input:**\n",
    "```\n",
    "conda activate fcpgtools\n",
    "conda install -c conda-forge taudem\n",
    "```\n",
    "\n",
    "**Output - very slow FAIL:**\n",
    "```\n",
    "Collecting package metadata (current_repodata.json): done\n",
    "Solving environment: failed with initial frozen solve. Retrying with flexible solve.\n",
    "Solving environment: failed with repodata from current_repodata.json, will retry with next repodata source.\n",
    "Collecting package metadata (repodata.json): done\n",
    "Solving environment: failed with initial frozen solve. Retrying with flexible solve.\n",
    "Solving environment: -\n",
    "Found conflicts! Looking for incompatible packages.\n",
    "This can take several minutes.  Press CTRL-C to abort.\n",
    "```"
   ]
  },
  {
   "cell_type": "markdown",
   "metadata": {},
   "source": [
    "**ATTEMPT 2 with taudem in the .yml, as well as removing version specifications**\n",
    "\n",
    "**Output - very slow FAIL:**\n",
    "```\n",
    "Solving environment: -\n",
    "Found conflicts! Looking for incompatible packages.\n",
    "This can take several minutes.  Press CTRL-C to abort.\n",
    "Examining conflict for jupyterlab geopandas pip conda-build python-language-server ipympl conda:\n",
    "conflict for jupyterlab geopandas pip conda-build python-language-server ipympl conda: for python-language-server jupyterlab: : 24it [00:35,  1.66s/it] Examining conflict for geopandas conda-build python-language-server jupyter-lsp-python ipympl descartes: : 30it [00:40, Examining conflict for geopandas conda-build python-language-server jupyter-lsp-python ipympl descartes: : 31it [00:40, Examining conflict for geopandas taudem rasterio ipympl descartes: : 31it [00:42,  1.06s/it]                            Examining conflict for geopandas pip conda-build rasterio python-language-server ipympl descartes conda: : 34it [00:46, Examining conflict for geopandas pip conda-build rasterio python-language-server ipympl descartes conda: : 35it [00:46, Examining conflict for geopandas ipympl descartes python-language-server: : 35it [00:48,  1.14s/it]                     Examining conflict for pip conda-build python-language-server jupyter-lsp-python ipympl descartes conda: : 38it [00:52, Examining conflict for pip conda-build python-language-server jupyter-lsp-python ipympl descartes conda: : 39it [00:52, Examining conflict for pip conda-build jupyter-lsp-python ipympl descartes conda: : 39it [00:54,  1.29s/it]    \n",
    "```"
   ]
  },
  {
   "cell_type": "markdown",
   "metadata": {},
   "source": [
    "# Key Rasters"
   ]
  },
  {
   "cell_type": "markdown",
   "metadata": {},
   "source": [
    "### ESRI NHDPlus Flow Direction Raster (FDR)\n",
    "An example (from [`NHDPlusV21_MA_02_02a_FdrFac_01.7z`](https://www.epa.gov/waterdata/nhdplus-mid-atlantic-data-vector-processing-unit-02))of 8 bit flow direction raster (8 cardinal directions) using [NHDPlus](https://www.epa.gov/waterdata/get-nhdplus-national-hydrography-dataset-plus-data#v2datamap) raster coding convention (see below). \n",
    "\n",
    "**Cardinality:**\n",
    "* 1 -> E (note that this is the only cardinal direction that does not need to be reclassified)\n",
    "* 2 -> SE\n",
    "* 4 -> S\n",
    "* 8 -> SW\n",
    "* 16 -> W\n",
    "* 32 -> NW\n",
    "* 64 -> N\n",
    "* 128 -> NE\n",
    "\n",
    "![Central PA FDR](imgs\\esri_nhdplus_fdr_example.png)"
   ]
  },
  {
   "cell_type": "markdown",
   "metadata": {},
   "source": [
    "# Existing FCPGTools Functions"
   ]
  },
  {
   "cell_type": "code",
   "execution_count": 3,
   "metadata": {},
   "outputs": [],
   "source": [
    "#import FCPGtools as fc\n",
    "import os\n",
    "import rasterio as rs\n",
    "import geopandas as gpd\n",
    "import matplotlib.pyplot as plt\n",
    "import numpy as np\n",
    "import subprocess"
   ]
  },
  {
   "cell_type": "markdown",
   "metadata": {},
   "source": [
    "## Reclassify ESRI flow direction raster (FDR) values into TauDEM FDR compatible values.\n",
    "**Existing function:** `tauDrainDir(inRast: str, outRast: str, brand=1, updateDict={...})`\n",
    "\n",
    "```\n",
    "Parameters\n",
    "    inRast : str\n",
    "        Path to a raster encoded with ESRI flow direction values.\n",
    "    outRast : str\n",
    "        Path to output a raster with flow directions encoded for TauDEM. File will be\n",
    "        overwritten if it already exists.\n",
    "    band : int (optional)\n",
    "        Band to read the flow direction grid from if inRast is multiband, defaults to 1.\n",
    "    updateDict : dict (optional)\n",
    "        Dictionary of Rasterio raster options used to create outRast. Defaults have been supplied, \n",
    "        but may not work in all situations and input file formats.\n",
    "    verbose : bool (optional)\n",
    "        Print output, defaults to False.\n",
    "\n",
    "    Returns\n",
    "    -------\n",
    "    outRast : raster\n",
    "        Reclassified flow direction raster at the path specified above.\n",
    "```"
   ]
  },
  {
   "cell_type": "code",
   "execution_count": null,
   "metadata": {},
   "outputs": [],
   "source": [
    "def tauDrainDir(inRast, outRast, band=1, updateDict={}):\n",
    "    # assert that inRast is a file, if not return 'inRast not found'\n",
    "\n",
    "    # use rasterio to open inRast, assert that the specified band exists\n",
    "\n",
    "    # save a copy of the input metadata via inRast.profile.copy()\n",
    "\n",
    "    # make a tauDir .copy() of the input raster and remap HNDplus flow directions to Taudem flow direction!\n",
    "    # i.e., 2 -> 8, 4 -> 7, etc. \n",
    "\n",
    "    # use updateDict to update the metadata\n",
    "\n",
    "    # use rasterio to write tauDIR to the outRast .tif path\n",
    "\n",
    "    return None"
   ]
  },
  {
   "cell_type": "markdown",
   "metadata": {},
   "source": [
    "## Resample + reproject + clip a raster to match a FDR raster\n",
    "**Existing function:** `resampleParam(inParam, fdr, outParam, resampleMethod=\"bilinear\", cores=1, forceProj=False,\n",
    "                  forceProj4=\"\\\"+proj=aea +lat_1=29.5 +lat_2=45.5 +lat_0=23 +lon_0=-96 +x_0=0 +y_0=0 +ellps=GRS80 +datum=NAD83 +units=m +no_defs\\\"\",\n",
    "                  verbose=False)`\n",
    "\n",
    "```\n",
    "Parameters\n",
    "    ----------\n",
    "    inParam : str\n",
    "        Path to the input parameter data raster\n",
    "    fdr : str\n",
    "        Path to the flow direction raster\n",
    "    outParam : str\n",
    "        Path to the output file for the resampled parameter raster.\n",
    "    resampleMethod : str (optional)\n",
    "        resampling method, either 'bilinear' or 'near' for nearest neighbor. Bilinear should \n",
    "        generally be used for continuous data sets such as precipitation while nearest neighbor\n",
    "        should generally be used for categorical \n",
    "        datasets such as land cover type. Defaults to bilinear.\n",
    "    cores : int (optional)\n",
    "        The number of cores to use. Defaults to 1.\n",
    "    forceProj : bool (optional)\n",
    "        Force the projection of the flow direction raster. This can be useful if the flow\n",
    "        direction raster hasan unusual projection. Defaults to False. This parameter defaults\n",
    "        to False; however, if set to True, forceProj4 must also be specified or the default\n",
    "        proj4 string for USGS Albers will be used, see below.\n",
    "    forceProj4 : str (optional)\n",
    "        Proj4 string used to force the flow direction raster. This defaults to USGS Albers, but is not used \n",
    "        unless the forceProj parameter is set to True.\n",
    "    verbose : bool (optional)\n",
    "        Print output, defaults to False.\n",
    "\n",
    "    Returns\n",
    "    -------\n",
    "    outParam : raster\n",
    "        Resampled, reprojected, and clipped parameter raster.\n",
    "```\n",
    "\n",
    "**GDAL Warp Parameters:**\n",
    "```\n",
    "{'inParam': inParam,\n",
    "                'outParam': outParam,\n",
    "                'fdr': fdr,\n",
    "                'cores': str(cores),\n",
    "                'resampleMethod': resampleMethod,\n",
    "                'xsize': xsize,\n",
    "                'ysize': ysize,\n",
    "                'fdrXmin': fdrXmin,\n",
    "                'fdrXmax': fdrXmax,\n",
    "                'fdrYmin': fdrYmin,\n",
    "                'fdrYmax': fdrYmax,\n",
    "                'fdrcrs': fdrcrs,\n",
    "                'nodata': paramNoData,\n",
    "                'datatype': outType}\n",
    "```"
   ]
  },
  {
   "cell_type": "markdown",
   "metadata": {},
   "source": [
    "**Note:** Currently cores defaults to 1, this requires users to know how many cores their computer has. It could be cool to check how many cores the computer has and use all of them if a boolean parameter is true (i.e., `optimize_cores:bool = True`)."
   ]
  },
  {
   "cell_type": "code",
   "execution_count": null,
   "metadata": {},
   "outputs": [],
   "source": [
    "def resampleParam(inParam, fdr, outParam, resampleMethod=\"bilinear\", cores=1, forceProj=False,\n",
    "                  forceProj4=\"\\\"+proj=aea +lat_1=29.5 +lat_2=45.5 +lat_0=23 +lon_0=-96 +x_0=0 +y_0=0 +ellps=GRS80 +datum=NAD83 +units=m +no_defs\\\"\",\n",
    "                  verbose=False):\n",
    "    # open in FDR raster with rasterop amd ge the coorindate system, cell size, and bounding coordinates\n",
    "\n",
    "    # open the input raster and get the same attributes as the FDR raster (+ first band dtype)\n",
    "\n",
    "    # get the output dtype. If it's 8-but, convert to 16but using a possibly outdated GDAL  `outType = 'Byte'`\n",
    "\n",
    "    # check if resampling or repojection is required, if not, copy the metadata + raster as is\n",
    "\n",
    "    # if things need to be changeg use a `gdalwarp` command line cmd via `subprocess.run(cmd, shell=True)`\n",
    "    warpParams = {'dict of': 'gdal warp parameters'}\n",
    "\n",
    "    cmd = 'gdalwarp -overwrite -tr {xsize} {ysize} -t_srs {fdrcrs} -te {fdrXmin} {fdrYmin} {fdrXmax} {fdrYmax} \\\n",
    "    -co \"PROFILE=GeoTIFF\" -co \"TILED=YES\" -co \"SPARSE_OK=TRUE\" -co \"COMPRESS=LZW\" -co \"ZLEVEL=9\" -co \"NUM_THREADS={cores}\" \\\n",
    "     -co \"BIGTIFF=IF_SAFER\" -r {resampleMethod} -dstnodata {nodata} -ot {datatype} {inParam} {outParam}'.format(\n",
    "                **warpParams)\n",
    "\n",
    "    result = subprocess.run(cmd, shell=True)\n",
    "    result.stdout\n",
    "    # note that the result.stdout output is calculated but not returned nor saved to a variable\n",
    "    return None"
   ]
  },
  {
   "cell_type": "markdown",
   "metadata": {},
   "source": []
  },
  {
   "cell_type": "code",
   "execution_count": null,
   "metadata": {},
   "outputs": [],
   "source": []
  }
 ],
 "metadata": {
  "kernelspec": {
   "display_name": "Python 3 (ipykernel)",
   "language": "python",
   "name": "python3"
  },
  "language_info": {
   "codemirror_mode": {
    "name": "ipython",
    "version": 3
   },
   "file_extension": ".py",
   "mimetype": "text/x-python",
   "name": "python",
   "nbconvert_exporter": "python",
   "pygments_lexer": "ipython3",
   "version": "3.10.6"
  }
 },
 "nbformat": 4,
 "nbformat_minor": 4
}
