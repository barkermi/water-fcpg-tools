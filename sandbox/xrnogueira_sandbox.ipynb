{
 "cells": [
  {
   "cell_type": "markdown",
   "metadata": {},
   "source": [
    "# Xavier's Sandbox Notebook\n",
    "\n",
    "**Key Definitions:**\n",
    "* FDR = Flow Direction Raster.\n",
    "* FAC = Flow Accumulation Raster.\n",
    "* Pour Point = The outlet point of a hydrologic unit/basin (i.e., FAC.max()).\n",
    "\n",
    "But first run `conda-develop \"C:\\PATH\\FCPGtools\"` to get FCPGtools importable in the `/sandbox/` directory."
   ]
  },
  {
   "cell_type": "code",
   "execution_count": 1,
   "metadata": {},
   "outputs": [],
   "source": [
    "import FCPGtools as fc\n",
    "import os\n",
    "import rasterio as rs\n",
    "import geopandas as gpd\n",
    "import matplotlib.pyplot as plt\n",
    "import numpy as np\n",
    "import subprocess"
   ]
  },
  {
   "cell_type": "markdown",
   "metadata": {
    "jp-MarkdownHeadingCollapsed": true,
    "tags": []
   },
   "source": [
    "# Key Rasters"
   ]
  },
  {
   "cell_type": "markdown",
   "metadata": {},
   "source": [
    "### ESRI NHDPlus Flow Direction Raster (FDR)\n",
    "An example (from [`NHDPlusV21_MA_02_02a_FdrFac_01.7z`](https://www.epa.gov/waterdata/nhdplus-mid-atlantic-data-vector-processing-unit-02))of 8 bit flow direction raster (8 cardinal directions) using [NHDPlus](https://www.epa.gov/waterdata/get-nhdplus-national-hydrography-dataset-plus-data#v2datamap) raster coding convention (see below). \n",
    "\n",
    "**Cardinality:**\n",
    "* 1 -> E (note that this is the only cardinal direction that does not need to be reclassified)\n",
    "* 2 -> SE\n",
    "* 4 -> S\n",
    "* 8 -> SW\n",
    "* 16 -> W\n",
    "* 32 -> NW\n",
    "* 64 -> N\n",
    "* 128 -> NE\n",
    "\n",
    "![Central PA FDR](imgs\\esri_nhdplus_fdr_example.png)"
   ]
  },
  {
   "cell_type": "markdown",
   "metadata": {},
   "source": [
    "# FDR Conversion Functions"
   ]
  },
  {
   "cell_type": "markdown",
   "metadata": {
    "jp-MarkdownHeadingCollapsed": true,
    "tags": []
   },
   "source": [
    "## Reclassify ESRI flow direction raster (FDR) values into TauDEM FDR compatible values."
   ]
  },
  {
   "cell_type": "code",
   "execution_count": 5,
   "metadata": {},
   "outputs": [],
   "source": [
    "def tauDrainDir(inRast, outRast, band=1, updateDict={}):\n",
    "    \"\"\"\n",
    "    Parameters\n",
    "    inRast : str\n",
    "        Path to a raster encoded with ESRI flow direction values.\n",
    "    outRast : str\n",
    "        Path to output a raster with flow directions encoded for TauDEM. File will be\n",
    "        overwritten if it already exists.\n",
    "    band : int (optional)\n",
    "        Band to read the flow direction grid from if inRast is multiband, defaults to 1.\n",
    "    updateDict : dict (optional)\n",
    "        Dictionary of Rasterio raster options used to create outRast. Defaults have been supplied, \n",
    "        but may not work in all situations and input file formats.\n",
    "    verbose : bool (optional)\n",
    "        Print output, defaults to False.\n",
    "\n",
    "    Returns\n",
    "    -------\n",
    "    outRast : raster\n",
    "        Reclassified flow direction raster at the path specified above.\n",
    "    \"\"\"\n",
    "\n",
    "    # assert that inRast is a file, if not return 'inRast not found'\n",
    "\n",
    "    # use rasterio to open inRast, assert that the specified band exists\n",
    "\n",
    "    # save a copy of the input metadata via inRast.profile.copy()\n",
    "\n",
    "    # make a tauDir .copy() of the input raster and remap HNDplus flow directions to Taudem flow direction!\n",
    "    # i.e., 2 -> 8, 4 -> 7, etc.\n",
    "\n",
    "    # use updateDict to update the metadata\n",
    "\n",
    "    # use rasterio to write tauDIR to the outRast .tif path\n",
    "\n",
    "    return None"
   ]
  },
  {
   "cell_type": "markdown",
   "metadata": {
    "jp-MarkdownHeadingCollapsed": true,
    "tags": []
   },
   "source": [
    "## Create a flow accumulation raster (FAC) from a TauDEM FDR\n",
    "Wrapper for [TauDEM's AreaD8 (8 cardinal directions) accumulation area function](https://hydrology.usu.edu/taudem/taudem5/help53/D8ContributingArea.html). Currently the function returns nothing and simply writes to `accumRast` path using the TauDEM cmd line command. \n",
    "\n",
    "**Note:** The TauDEM function allows the sum of all upslope cells to be calculated, OR a weight can be added based on some other grid with the cmd line `[ -wg < wgfile >]` where `<wgfile>` is some parameter grid. Could we integrate this better?"
   ]
  },
  {
   "cell_type": "code",
   "execution_count": 9,
   "metadata": {},
   "outputs": [],
   "source": [
    "def tauFlowAccum(fdr, accumRast, cores=1, mpiCall='mpiexec', mpiArg='-n', verbose=False) -> None:\n",
    "    \"\"\"Wrapper for TauDEM AreaD8 :cite:`TauDEM` to produce a flow accumulation grid.\n",
    "\n",
    "    Parameters\n",
    "    ----------\n",
    "    fdr : str\n",
    "        Path to a flow direction raster in TauDEM format.\n",
    "    accumRast : str\n",
    "        Path to output the flow accumulation raster.\n",
    "    cores : int (optional)\n",
    "        Number of cores to use. Defaults to 1.\n",
    "    mpiCall : str (optional)\n",
    "        The command to use for mpi, defaults to mpiexec.\n",
    "    mpiArg : str (optional)\n",
    "        Argument flag passed to mpiCall, which is followed by the cores parameter, defaults to '-n'.\n",
    "    verbose : bool (optional)\n",
    "        Print output, defaults to False.\n",
    "\n",
    "    Returns\n",
    "    -------\n",
    "    accumRast : raster\n",
    "        Raster of accumulated parameter values at the path specified above.\n",
    "    \"\"\"\n",
    "    # format a dictionary with taudem inputs\n",
    "\n",
    "    # construct the TauDEM AreaD8 command: '{mpiCall} {mpiArg} {cores} aread8 -p {fdr} -ad8 {outFl} -nc'.format(**tauParams)\n",
    "\n",
    "    # use subprocesses to call the command. Write to accumRast.\n",
    "\n",
    "    return None"
   ]
  },
  {
   "cell_type": "markdown",
   "metadata": {
    "jp-MarkdownHeadingCollapsed": true,
    "tags": []
   },
   "source": [
    "# Parameter grid prep functions"
   ]
  },
  {
   "cell_type": "markdown",
   "metadata": {
    "jp-MarkdownHeadingCollapsed": true,
    "tags": []
   },
   "source": [
    "## Resample + reproject + clip a raster to match a FDR raster"
   ]
  },
  {
   "cell_type": "markdown",
   "metadata": {},
   "source": [
    "**GDAL Warp Parameters:**\n",
    "```\n",
    "{'inParam': inParam,\n",
    "                'outParam': outParam,\n",
    "                'fdr': fdr,\n",
    "                'cores': str(cores),\n",
    "                'resampleMethod': resampleMethod,\n",
    "                'xsize': xsize,\n",
    "                'ysize': ysize,\n",
    "                'fdrXmin': fdrXmin,\n",
    "                'fdrXmax': fdrXmax,\n",
    "                'fdrYmin': fdrYmin,\n",
    "                'fdrYmax': fdrYmax,\n",
    "                'fdrcrs': fdrcrs,\n",
    "                'nodata': paramNoData,\n",
    "                'datatype': outType}\n",
    "```\n",
    "**Note:** Currently cores defaults to 1, this requires users to know how many cores their computer has. It could be cool to check how many cores the computer has and use all of them if a boolean parameter is true (i.e., `optimize_cores:bool = True`)."
   ]
  },
  {
   "cell_type": "code",
   "execution_count": 6,
   "metadata": {},
   "outputs": [],
   "source": [
    "def resampleParam(inParam, fdr, outParam, resampleMethod=\"bilinear\", cores=1, forceProj=False,\n",
    "                  forceProj4=\"\\\"+proj=aea +lat_1=29.5 +lat_2=45.5 +lat_0=23 +lon_0=-96 +x_0=0 +y_0=0 +ellps=GRS80 +datum=NAD83 +units=m +no_defs\\\"\",\n",
    "                  verbose=False):\n",
    "    \"\"\"\n",
    "    Parameters\n",
    "    ----------\n",
    "    inParam : str\n",
    "        Path to the input parameter data raster\n",
    "    fdr : str\n",
    "        Path to the flow direction raster\n",
    "    outParam : str\n",
    "        Path to the output file for the resampled parameter raster.\n",
    "    resampleMethod : str (optional)\n",
    "        resampling method, either 'bilinear' or 'near' for nearest neighbor. Bilinear should \n",
    "        generally be used for continuous data sets such as precipitation while nearest neighbor\n",
    "        should generally be used for categorical \n",
    "        datasets such as land cover type. Defaults to bilinear.\n",
    "    cores : int (optional)\n",
    "        The number of cores to use. Defaults to 1.\n",
    "    forceProj : bool (optional)\n",
    "        Force the projection of the flow direction raster. This can be useful if the flow\n",
    "        direction raster hasan unusual projection. Defaults to False. This parameter defaults\n",
    "        to False; however, if set to True, forceProj4 must also be specified or the default\n",
    "        proj4 string for USGS Albers will be used, see below.\n",
    "    forceProj4 : str (optional)\n",
    "        Proj4 string used to force the flow direction raster. This defaults to USGS Albers, but is not used \n",
    "        unless the forceProj parameter is set to True.\n",
    "    verbose : bool (optional)\n",
    "        Print output, defaults to False.\n",
    "\n",
    "    Returns\n",
    "    -------\n",
    "    outParam : raster\n",
    "        Resampled, reprojected, and clipped parameter raster.\n",
    "    \"\"\"\n",
    "    # open in FDR raster with rasterop amd ge the coorindate system, cell size, and bounding coordinates\n",
    "\n",
    "    # open the input raster and get the same attributes as the FDR raster (+ first band dtype)\n",
    "\n",
    "    # get the output dtype. If it's 8-but, convert to 16but using a possibly outdated GDAL  `outType = 'Byte'`\n",
    "\n",
    "    # check if resampling or repojection is required, if not, copy the metadata + raster as is\n",
    "\n",
    "    # if things need to be changeg use a `gdalwarp` command line cmd via `subprocess.run(cmd, shell=True)`\n",
    "    warpParams = {'dict of': 'gdal warp parameters'}\n",
    "\n",
    "    cmd = 'gdalwarp -overwrite -tr {xsize} {ysize} -t_srs {fdrcrs} -te {fdrXmin} {fdrYmin} {fdrXmax} {fdrYmax} \\\n",
    "    -co \"PROFILE=GeoTIFF\" -co \"TILED=YES\" -co \"SPARSE_OK=TRUE\" -co \"COMPRESS=LZW\" -co \"ZLEVEL=9\" -co \"NUM_THREADS={cores}\" \\\n",
    "     -co \"BIGTIFF=IF_SAFER\" -r {resampleMethod} -dstnodata {nodata} -ot {datatype} {inParam} {outParam}'.format(\n",
    "                **warpParams)\n",
    "\n",
    "    result = subprocess.run(cmd, shell=True)\n",
    "    result.stdout\n",
    "    # note that the result.stdout output is calculated but not returned nor saved to a variable\n",
    "    return None"
   ]
  },
  {
   "cell_type": "markdown",
   "metadata": {
    "tags": []
   },
   "source": [
    "## Convert a categorical raster into a set of binary rasters (raster \"one-hot-encoding\")"
   ]
  },
  {
   "cell_type": "markdown",
   "metadata": {},
   "source": [
    "As it sounds. A categorical raster (i.e., land cover) with N unique values is converted into N binary rasters where the value is either 1, 0, or -1 for nodata. **Output raster paths are returned as a list**. \n",
    "\n",
    "Main function is `cat2bin(inCat, outWorkspace, par=True, verbose=False)`, which just parallelizes `binarizeCat(...)`.\n",
    "\n",
    "**Note:** Is a list really the best data structure to return binary rasters? Could I dictionary be better? \n",
    "\n",
    "Also the multiprocessing is interesting and appears to be used in multiple places."
   ]
  },
  {
   "cell_type": "code",
   "execution_count": 8,
   "metadata": {},
   "outputs": [],
   "source": [
    "def binarizeCat(val, data, nodata, outWorkspace, baseName, ext, profile, verbose=False):\n",
    "    \"\"\"\n",
    "    Turn a categorical raster (e.g. land cover type) into A SINGLE BINARY RASTER PER UNIQUE CATEGORY/val, \n",
    "    0 for areas where that class is not present, 1 for areas where that class is present, and -1 for\n",
    "    regions of no data in the supplied raster. Used in :py:func:`cat2bin`.\n",
    "\n",
    "    Parameters\n",
    "    ----------\n",
    "    data : np.array\n",
    "        Numpy array of raster data to convert to binary.\n",
    "    val : int\n",
    "        Raster value to extract binary for from data.\n",
    "    nodata : int or float\n",
    "        Raster no data value.\n",
    "    outWorkspace : str\n",
    "        Path to folder to save binary output rasters to.\n",
    "    baseName : str\n",
    "        Base name for the output rasters.\n",
    "    ext : str\n",
    "        File extension for output rasters.\n",
    "    profile : dict\n",
    "        Rasterio metadata dictionary decribing the properties used to create the output raster.\n",
    "    verbose : bool (optional)\n",
    "        Print output, defaults to False.\n",
    "\n",
    "    Returns\n",
    "    -------\n",
    "    catRaster : str\n",
    "        Filepath to the binary raster created.\"\"\"\n",
    "    # catData = data.copy()\n",
    "    # catData[(data != val) & (data != nodata)] = 0\n",
    "    # catData[data == val] = 1\n",
    "    # catData[data == nodata] = -1  # Use -1 as no data value\n",
    "    # catData = catData.astype('int8')\n",
    "\n",
    "    # writes raster and returns it's path\n",
    "    return str\n",
    "\n",
    "\n",
    "def cat2bin(inCat, outWorkspace, par=True, verbose=False) -> list:\n",
    "    \"\"\"\"\n",
    "    TLDR:Basically applies binarizeCat() in parallel and handles metadata writing.\n",
    "\n",
    "    Description - \n",
    "    Turn a categorical raster (e.g. land cover type) into a set of binary rasters, one for each category in the\n",
    "    supplied raster, zero for areas where that class is not present, 1 for areas where that class is present,\n",
    "    and -1 for regions of no data in the supplied raster. Wrapper on :py:func:`binarizeCat`.\n",
    "\n",
    "    Parameters\n",
    "    ----------\n",
    "    inCat : str\n",
    "        Input categorical parameter raster.\n",
    "    outWorkspace : str\n",
    "        Workspace to save binary raster output files.\n",
    "    par : bool (optional)\n",
    "        Use parallel processing to generate binary rasters, defaults to True.\n",
    "    verbose : bool (optional)\n",
    "        Print output, defaults to False.\n",
    "\n",
    "    Returns\n",
    "    -------\n",
    "    fileList : list\n",
    "        List of filepaths to output files.\"\"\"\n",
    "\n",
    "    from functools import partial\n",
    "    # Open raster with rasterio and copy metadata\n",
    "\n",
    "    # use numpy to find unique raster values and drop nodata categories\n",
    "\n",
    "    # use multiprocessing processPool for multi-threaded raster processing (if par=True)\n",
    "\n",
    "    # use the binarizeCat() function to produce a list of binary rasters\n",
    "    # fileList = pool.map(partial(binarizeCat, data=dat, nodata=nodata,\n",
    "    # outWorkspace=outWorkspace, baseName=baseName, ext=ext, profile=profile), cats)\n",
    "\n",
    "    # basically pool.map(partial(binarizeCat), cats) parallelizes val=cat for call N cats.\n",
    "    return list"
   ]
  },
  {
   "cell_type": "markdown",
   "metadata": {},
   "source": [
    "# Shapefile functions"
   ]
  },
  {
   "cell_type": "markdown",
   "metadata": {
    "tags": []
   },
   "source": [
    "## Get a geoDF with HUC4 level basins (larger) identified from up- and down- stream HUC12 level basins (subwatersheds)"
   ]
  },
  {
   "cell_type": "code",
   "execution_count": null,
   "metadata": {},
   "outputs": [],
   "source": [
    "def makePourBasins(wbd, fromHUC4, toHUC4, HUC12Key='HUC12', ToHUCKey='ToHUC') -> gpd.GeoDataFrame:\n",
    "    \"\"\"Make geodataframe of HUC12 basins flowing from HUC4 to toHUC4.\n",
    "\n",
    "    Parameters\n",
    "    ----------\n",
    "    wbd : GeoDataframe\n",
    "        HUC12-level geodataframe projected to the same coordinate reference system (CRS) as the flow accumulation (FAC) and flow direction (FDR) grids being used.\n",
    "    fromHUC4 : str\n",
    "        HUC4 string for the upstream basin (i.e., '1407').\n",
    "    toHUC4 : str\n",
    "        HUC string for the downstream basin (i.e., '1501').\n",
    "    HUC12Key : str (optional)\n",
    "        Column name for HUC codes to process down to HUC4 codes, defaults to 'HUC12'.\n",
    "    ToHUCKey : str (optional)\n",
    "        Column name for the column that indicates the downstream HUC for each row of the dataframe, defaults to 'TOHUC'.\n",
    "\n",
    "    Returns\n",
    "    -------\n",
    "    pourBasins : GeoDataframe\n",
    "        HUC12-level geodataframe of units that drain from fromHUC4 to toHUC4.\n",
    "    \"\"\"\n",
    "    # NOTE: getHUC4() is literally just in:str -> out:str[:4] which pulls HUC12 ID from the wbd['HUC12'] column\n",
    "\n",
    "    # wbd['HUC4'] = wbd[HUC12Key].map(getHUC4) - gets the HUC12 basin's HUC4 level basin membership\n",
    "    # wbd['ToHUC4'] = wbd[ToHUCKey].map(getHUC4) - gets the output HUC12 basin's (i.e., 'toHUC') HUC4 level equivalency\n",
    "\n",
    "    # returns a copy of geodataframe rows where HUC4 = param:fromHUC4 and toHUC4 = param:toHUC4\n",
    "    return gpd.GeoDataFrame"
   ]
  },
  {
   "cell_type": "markdown",
   "metadata": {},
   "source": [
    "## Find pour points for each HUC4 basin using the basin geoDF, FAC, and FDR\n",
    "**Note:** Pour points are the **outlet** of a basin, defined as having the maximum Flow Accumulation Raster value. "
   ]
  },
  {
   "cell_type": "code",
   "execution_count": null,
   "metadata": {},
   "outputs": [],
   "source": [
    "def findPourPoints(pourBasins, upfacfl, upfdrfl, plotBasins=False):\n",
    "    \"\"\"Finds unique pour points between two HUC4s.\n",
    "\n",
    "    Parameters\n",
    "    ----------\n",
    "    pourBasins : GeoDataframe\n",
    "        GeoDataframe of the HUC12 basins that flow into the downstream HUC4. Used to clip the upstream FAC grid to\n",
    "         identify pour points.\n",
    "    upfacfl : str\n",
    "        Path to the upstream flow accumulation grid.\n",
    "    upfdrfl : str\n",
    "        Path to the upstream tauDEM flow direction grid.\n",
    "    plotBasins : bool (Optional)\n",
    "        Boolean to make plots of upstream HUC12s and identified pour points. Defaults to False.\n",
    "\n",
    "    Returns\n",
    "    -------\n",
    "    finalPoints : list\n",
    "        List of tuples containing (x,y,w). These pour points have not been incremented downstream and can be used to\n",
    "         query accumulated (but not FCPGed) upstream parameter grids for information to cascade down to the next\n",
    "          hydrologic region / geospatial tile downstream.\n",
    "    \"\"\"\n",
    "\n",
    "    # make an empty list to store pour points pourPoints = []\n",
    "\n",
    "    # iterate over each HUC12 basin in the geoDF that flows into the downstream HUC4 basin. --------------\n",
    "    # get the HUC boudnary and make a shape out of it using getFeatures() -> list of coordinates\n",
    "\n",
    "    # apply a mask on the FAC raster using the HUC boundary coorindates -> np.array and affine-transform\n",
    "\n",
    "    # find the maximum flow accumulation value points array index (could be multiple, non georeferences)\n",
    "\n",
    "    # get coorindates of the max FAC points by trnasforming their np index via the affine-transforn\n",
    "\n",
    "    # zip the coorindates of al max elevation points / pour\n",
    "    # ------------------------------\n",
    "\n",
    "    # with the list of xy pour points, verify that their downstream cell (via FindDownstreamCellTauDir()) IS Nodata!\n",
    "    # Note: this makes sure the pour point (i.e., max accumulation cell) is at the edge of the basin and not some pit.\n",
    "\n",
    "    # if no pour point is found with a NoData cell adjacent -> just append the pout point as is? (seems poorly handled...)\n",
    "\n",
    "    # get unique pour points and return in a list of tuples finalPoints = [(x, y, w), ...]\n",
    "\n",
    "    return list  # of (x, y, w) points where w = FAC value"
   ]
  }
 ],
 "metadata": {
  "kernelspec": {
   "display_name": "Python 3 (ipykernel)",
   "language": "python",
   "name": "python3"
  },
  "language_info": {
   "codemirror_mode": {
    "name": "ipython",
    "version": 3
   },
   "file_extension": ".py",
   "mimetype": "text/x-python",
   "name": "python",
   "nbconvert_exporter": "python",
   "pygments_lexer": "ipython3",
   "version": "3.9.13"
  }
 },
 "nbformat": 4,
 "nbformat_minor": 4
}
