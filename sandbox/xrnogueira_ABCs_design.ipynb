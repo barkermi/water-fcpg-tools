{
 "cells": [
  {
   "cell_type": "markdown",
   "id": "3afad325-74f5-4377-9a51-414b4cb0177f",
   "metadata": {},
   "source": [
    "FCPG Tools Refactoring - Abstract Base Classes (ABC) v1\n",
    "========================================================\n",
    "**By:** @xaviernogueira\n",
    "\n",
    "**Design philosphy:**\n",
    "* Single responsibility - all functions should do a single task. Their functionality should not be repeated in other functions.\n",
    "* Object oriented - Python class objects will be used to produce cleaner looking code as well as enable storage of relevant parameters between steps. Rasters will be stored in memory rather than being constantly written to disk.\n",
    "* Modular - while the existing installation of FCPGTools pulls all tools in as functions, in version 2.0.0 there will be multiple modules/classes containing functions. This allows for lighter weight imports avoiding GDAL and TauDEM dependencies. This also allows for expirementation with new geoprocessing engines (i.e., [`pysheds`](https://github.com/mdbartos/pysheds)).\n",
    "* Modern Python formatting - all functionality will be written following the [PEP8](https://peps.python.org/pep-0008/) style guide to match modern programming conventions.\n",
    "\n",
    "**New features:**\n",
    "* Multi-band support - since most hydrology relevant parameter grids are multi-band (with bands representing the time axis), all functions should work effectively the same regardless of how many bands are present. This can be handled by switching to an [`xarray`](https://docs.xarray.dev/en/stable/) tech stack.\n",
    "* Pipeline facilitation - there should be oppurtunities to automate large parts of the work flow with no intervention. This will require certain function parameters to be pulled from raster metadata. Additionally, this requires replacing the existing design where rasters are read/write by [rasterio](https://rasterio.readthedocs.io/en/latest/) to a design **where raster objects can be held in memory between steps.**\n",
    "* Performance optimization as a default - while some functions give the user an oppurtunity to input the # of cores they want to use on their computer, this optional parameter will likely not get used by more novice end users. Therefore I propose a workflow where a simple boolean `param:optimize` can control whether multi-processing is used. If `optimize=True` the program should automatically be able to identify the # of cores to use and allocate computation resources accordingly.\n",
    "\n",
    "**Core raster functionality:**\n",
    "* Create a Flow Direction Raster (FDR) from an DEM (can/should we support more formats than just .tif?).\n",
    "* Convert ESRI FDR encodings to a D8 TauDEM encoding.\n",
    "* Reproject/resample/clip an arbitrary parameter raster to match our FDR (currently uses GDALWarp).\n",
    "* \"Binarize\" categorical rasters to allow for category accumulation calculations.\n",
    "* Create a Flow Accumulation Cell (FAC) Raster (from the FDR) AND parameter grid accumulation rasters.\n",
    "* Create a Flow Conditioned Parameter Grid by dividing the parameter grid accumulation raster by the FAC.\n",
    "\n",
    "**Boundary condition functionality:**\n",
    "* Find basin pour points (i.e., outflows and their coordinates) using max FAC values and HUC basin shapefiles (read as geoDataFrames).\n",
    "* Update boundary conditions in a downstream basin using the extracted upstream pour points accumulation values.\n",
    "    * Requires finding upstream pour points (their location and FAC values), and currently involves using a JSON dictionary to propagate values into the downstream raster."
   ]
  },
  {
   "cell_type": "code",
   "execution_count": 1,
   "id": "d6047dbd-5caf-4871-95ce-2854c0eb444a",
   "metadata": {},
   "outputs": [],
   "source": [
    "import abc  # for abstract base class design\n",
    "import xarray as xr  # for in memory raster manipulation\n",
    "import rioxarray  # for on disk manipulations (read/write)\n",
    "from typing import Union  # for better type-hints"
   ]
  },
  {
   "cell_type": "markdown",
   "id": "17655433-9664-4b3f-99b9-b24df3f6f30d",
   "metadata": {},
   "source": [
    "# `IOEngine` - Input/Output Engine Class\n",
    "**Notes:**\n",
    "* The idea here is that all writing and reading to `xarray` can be done using class methods.\n",
    "* Come back and add ways to write raster attributes using [`rioxarray.to_raster()`](https://corteva.github.io/rioxarray/stable/rioxarray.html#rioxarray.raster_array.RasterArray.to_raster)."
   ]
  },
  {
   "cell_type": "code",
   "execution_count": null,
   "id": "3da4a845-4182-438b-a034-000d38eef8e3",
   "metadata": {},
   "outputs": [],
   "source": [
    "class IOEngine(abc.ABC):\n",
    "\n",
    "    @abc.abstractmethod\n",
    "    def open_raster(self, in_raster_path: str) -> Union[xr.DataArray, None]:\n",
    "        \"\"\"\n",
    "        Reads a raster file from path into an xarray DataArray.\n",
    "        :param in_raster_path: (str) a valid path to a georeferenced raster.\n",
    "        :return: ([xr.DataArray, None]) a DataArray object if a valid path is given,\n",
    "        or None if in_raster_path does not exist.\n",
    "        \"\"\"\n",
    "        if os.path.exists(in_raster_path):\n",
    "            # use the rioxarray (via :param:engine) to open a .tif as a xr.DataArray\n",
    "            # this is an experimental technique? other option...xr.open_dataarray(in_raster_path, decode_coords='ALL', engine=\"rasterio\")\n",
    "            raster = rioxarray.open_rasterio(in_raster_path, parse_coordinates=True)\n",
    "            return raster\n",
    "\n",
    "        else:\n",
    "            print(f'ERROR: {in_raster_path} does not exist.')\n",
    "            return None\n",
    "\n",
    "    @abc.abstractmethod\n",
    "    def write_raster(self, in_raster: xr.DataArray, out_path: str) -> str:\n",
    "        \"\"\"\n",
    "        Reads a raster file from path into an xarray DataArray.\n",
    "        :param in_raster: (xr.DataArray) a valid path to a georeferenced raster.\n",
    "        :param out_path: (str) a .tif path to write the raster to.\n",
    "        :return: (str) out_path that the raster was writted to (if successful).\n",
    "        \"\"\"\n",
    "        # check if the output directory exists\n",
    "        out_dir = os.dirname(out_path)\n",
    "        if os.path.exists(out_dir):\n",
    "            pass\n",
    "\n",
    "        # if the output directory does not exist, make it (if we can find the higher level directory)\n",
    "        elif os.path.exists(os.dirname(out_dir)):\n",
    "            os.makedirs(out_dir)\n",
    "            pass\n",
    "\n",
    "        # if we can't find a place to make the output directory, return an error\n",
    "        else:\n",
    "            return print(f'ERROR: Directory {os.dirname(out_dir)} does not exist and/or cannot be made.')\n",
    "\n",
    "        # export the DataArry to a GeoTIFF raster (add tags or kwags later?)\n",
    "        try:\n",
    "            in_raster.to_raster(out_path, driver='GTiff', compute=True)\n",
    "            return out_path\n",
    "        except Exception as e:\n",
    "            return print(f'Could not save raster to {out_path}\\n Exception: {e}')"
   ]
  },
  {
   "cell_type": "markdown",
   "id": "e2f95986-e577-4c7d-804b-67578e2bc939",
   "metadata": {},
   "source": [
    "# `GeospatialEngineFull` Class - uses `xarray`\n",
    "**Notes:**\n",
    "* I am starting with defining the complete geospatial engine, then we can consider which aspects can be pulled in to `GeoSpatialEngineLite`.\n",
    "    * There will be duplicate techniques to do the same thing between pysheds vs taudem as well as GDAL vs xarray.\n",
    "* **Choose between an `xarray.DataArray` vs `xarray.Dataset` implementation!**\n",
    "* The idea here is that `xarray` data comes in, and `xarray` data comes out! **All writing and reading is stored in the `IOEngine` class.*\n",
    "\n",
    "**Class methods:**\n",
    "* Get a parameter grid aligned (splits `resampleParam()` into 3 functions):\n",
    "    * `reproject_raster()` - uses [`rioxarray.reproject_match()`](https://corteva.github.io/rioxarray/stable/rioxarray.html?highlight=write_crs#rioxarray.raster_array.RasterArray.reproject_match) OR [`rioxarray.reproject()`](https://corteva.github.io/rioxarray/stable/rioxarray.html#rioxarray.raster_dataset.RasterDataset.reproject) to reproject a raster.\n",
    "    * `resample_raster()` - uses \n",
    "    * `clip_raster()`"
   ]
  },
  {
   "cell_type": "code",
   "execution_count": null,
   "id": "68ca8021-1bb8-4805-8d62-a9d054c4b36d",
   "metadata": {},
   "outputs": [],
   "source": [
    "class GeoSpatialEngineFull(abc.ABC):\n",
    "\n",
    "    # define basic raster functions to prep parameter grids W/O GDAL\n",
    "    @abc.abstractmethod\n",
    "    def reproject_raster(self, in_raster: Union[str, xr.DataArray],\n",
    "                         out_path: str = None) -> xr.DataArray:\n",
    "        \"\"\"\n",
    "        Reproject a raster using GDAL warp\n",
    "        \"\"\"\n",
    "        pass\n",
    "\n",
    "    @abc.abstractmethod\n",
    "    def resample_raster(self, in_raster: Union[str, xr.DataArray],\n",
    "                        out_path: str = None) -> xr.DataArray:\n",
    "    \"\"\"\n",
    "    v1 - use GDAL warp\n",
    "    :returns: xarray DataArray resampled\n",
    "    \"\"\"\n",
    "        pass\n",
    "\n",
    "    @abc.abstractmethod\n",
    "    def clip_raster(self, in_raster: Union[str, xr.DataArray],\n",
    "                    out_path: str = None) -> xr.DataArray:\n",
    "        pass"
   ]
  },
  {
   "cell_type": "markdown",
   "id": "dddb1c54-fd5c-405c-891f-90d8f8b95512",
   "metadata": {},
   "source": [
    "# `GeoSpatialEngineDepreciated` Class - Uses an improved version of the existing tech stack, mirroring our updated engine architecture.\n",
    "* The existing tech stack uses rasterio, GDAL, and TauDEM.\n",
    "* This can be used to to sketch out existing functionality (in a modular way)."
   ]
  },
  {
   "cell_type": "code",
   "execution_count": null,
   "id": "f716319a-30ce-4a4f-86fd-593fc31138c4",
   "metadata": {},
   "outputs": [],
   "source": [
    "class GeoSpatialEngineDepreciated(abc.ABC):\n",
    "\n",
    "    # define basic raster functions to prep parameter grids W/O GDAL\n",
    "    @abc.abstractmethod\n",
    "    def reproject_raster(self, in_raster: Union[str, xr.DataArray],\n",
    "                         out_path: str = None) -> xr.DataArray:\n",
    "        \"\"\"\n",
    "        Reproject a raster using GDAL warp\n",
    "        \"\"\"\n",
    "        pass\n",
    "\n",
    "    @abc.abstractmethod\n",
    "    def resample_raster(self, in_raster: Union[str, xr.DataArray],\n",
    "                        out_path: str = None) -> xr.DataArray:\n",
    "    \"\"\"\n",
    "    v1 - use GDAL warp\n",
    "    :returns: xarray DataArray resampled\n",
    "    \"\"\"\n",
    "        pass\n",
    "\n",
    "    @abc.abstractmethod\n",
    "    def clip_raster(self, in_raster: Union[str, xr.DataArray],\n",
    "                    out_path: str = None) -> xr.DataArray:\n",
    "        pass"
   ]
  },
  {
   "cell_type": "markdown",
   "id": "846e317b-0c54-4178-addd-9cbeddebd1ac",
   "metadata": {},
   "source": [
    "# Tools/stand-alone functions\n",
    "* `requires_full_engine()` - a decorator function that verifies if a given function is available in the engine being used."
   ]
  },
  {
   "cell_type": "code",
   "execution_count": null,
   "id": "ebdd455e-1cfd-4848-baab-2288f184b0e2",
   "metadata": {},
   "outputs": [],
   "source": [
    "def requires_full_engine(func: callable, *args, **kwargs) -> callable:\n",
    "    \"\"\"\n",
    "    A decorator to check if the full engine is required\n",
    "    \"\"\"\n",
    "    def full_engine_function(engine, *args, **kwargs) -> any:\n",
    "        if not isinstance(engine, FullEngine):\n",
    "            raise ValueError(f'Invalid engine type. Function {func.__name__} requires FullEngine')\n",
    "        return func(engine, *args, **kwargs)\n",
    "    return full_engine_function\n"
   ]
  }
 ],
 "metadata": {
  "kernelspec": {
   "display_name": "Python 3 (ipykernel)",
   "language": "python",
   "name": "python3"
  },
  "language_info": {
   "codemirror_mode": {
    "name": "ipython",
    "version": 3
   },
   "file_extension": ".py",
   "mimetype": "text/x-python",
   "name": "python",
   "nbconvert_exporter": "python",
   "pygments_lexer": "ipython3",
   "version": "3.9.13"
  }
 },
 "nbformat": 4,
 "nbformat_minor": 5
}
