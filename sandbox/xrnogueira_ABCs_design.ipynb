{
 "cells": [
  {
   "cell_type": "markdown",
   "id": "3afad325-74f5-4377-9a51-414b4cb0177f",
   "metadata": {},
   "source": [
    "FCPG Tools Refactoring - Abstract Base Classes (ABC) v1\n",
    "========================================================\n",
    "**By:** @xaviernogueira\n",
    "\n",
    "**Design philosphy:**\n",
    "* Single responsibility - all functions should do a single task. Their functionality should not be repeated in other functions.\n",
    "* Object oriented - Python class objects will be used to produce cleaner looking code as well as enable storage of relevant parameters between steps. Rasters will be stored in memory rather than being constantly written to disk.\n",
    "* Modular - while the existing installation of FCPGTools pulls all tools in as functions, in version 2.0.0 there will be multiple modules/classes containing functions. This allows for lighter weight imports avoiding GDAL and TauDEM dependencies. This also allows for expirementation with new geoprocessing engines (i.e., [`pysheds`](https://github.com/mdbartos/pysheds)).\n",
    "* Modern Python formatting - all functionality will be written following the [PEP8](https://peps.python.org/pep-0008/) style guide to match modern programming conventions.\n",
    "\n",
    "**New features:**\n",
    "* Multi-band support - since most hydrology relevant parameter grids are multi-band (with bands representing the time axis), all functions should work effectively the same regardless of how many bands are present. This can be handled by switching to an [`xarray`](https://docs.xarray.dev/en/stable/) tech stack.\n",
    "* Pipeline facilitation - there should be oppurtunities to automate large parts of the work flow with no intervention. This will require certain function parameters to be pulled from raster metadata. Additionally, this requires replacing the existing design where rasters are read/write by [rasterio](https://rasterio.readthedocs.io/en/latest/) to a design **where raster objects can be held in memory between steps.**\n",
    "* Performance optimization as a default - while some functions give the user an oppurtunity to input the # of cores they want to use on their computer, this optional parameter will likely not get used by more novice end users. Therefore I propose a workflow where a simple boolean `param:optimize` can control whether multi-processing is used. If `optimize=True` the program should automatically be able to identify the # of cores to use and allocate computation resources accordingly.\n",
    "\n",
    "**Core raster functionality:**\n",
    "* Create a Flow Direction Raster (FDR) from an DEM (can/should we support more formats than just .tif?).\n",
    "* Convert ESRI FDR encodings to a D8 TauDEM encoding.\n",
    "* Reproject/resample/clip an arbitrary parameter raster to match our FDR (currently uses GDALWarp).\n",
    "* \"Binarize\" categorical rasters to allow for category accumulation calculations.\n",
    "* Create a Flow Accumulation Cell (FAC) Raster (from the FDR) AND parameter grid accumulation rasters.\n",
    "* Create a Flow Conditioned Parameter Grid by dividing the parameter grid accumulation raster by the FAC.\n",
    "\n",
    "**Boundary condition functionality:**\n",
    "* Find basin pour points (i.e., outflows and their coordinates) using max FAC values and HUC basin shapefiles (read as geoDataFrames)."
   ]
  },
  {
   "cell_type": "markdown",
   "id": "e2f95986-e577-4c7d-804b-67578e2bc939",
   "metadata": {},
   "source": [
    "# Core Functionality\n",
    "\n",
    "**Description:**"
   ]
  },
  {
   "cell_type": "code",
   "execution_count": null,
   "id": "91a3a2be-344c-4177-aa2a-4baa722772f9",
   "metadata": {},
   "outputs": [],
   "source": []
  }
 ],
 "metadata": {
  "kernelspec": {
   "display_name": "Python 3 (ipykernel)",
   "language": "python",
   "name": "python3"
  },
  "language_info": {
   "codemirror_mode": {
    "name": "ipython",
    "version": 3
   },
   "file_extension": ".py",
   "mimetype": "text/x-python",
   "name": "python",
   "nbconvert_exporter": "python",
   "pygments_lexer": "ipython3",
   "version": "3.9.13"
  }
 },
 "nbformat": 4,
 "nbformat_minor": 5
}
