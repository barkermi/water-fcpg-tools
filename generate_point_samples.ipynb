{
 "cells": [
  {
   "cell_type": "code",
   "execution_count": 1,
   "metadata": {},
   "outputs": [],
   "source": [
    "import rasterio as rs\n",
    "import geopandas as gpd\n",
    "from shapely.geometry import Point\n",
    "import pandas as pd\n",
    "import numpy as np\n",
    "import matplotlib.pyplot as plt\n",
    "from affine import Affine\n",
    "from pyproj import Proj\n",
    "\n",
    "seed = 100\n",
    "\n",
    "streamRaster = \"./data/CHI_poster/HRNHDPlusRasters1003/fac.tif\"\n",
    "with rs.open(streamRaster) as src:\n",
    "    T0 = src.transform\n",
    "    p1 = Proj(src.crs)\n",
    "    stream = src.read(1)\n",
    "    nd = src.nodata\n",
    "\n",
    "\n",
    "dat = np.zeros_like(stream)\n",
    "dat[stream > 1000] = 1"
   ]
  },
  {
   "cell_type": "code",
   "execution_count": 2,
   "metadata": {},
   "outputs": [],
   "source": [
    "def generate_samples(run, number, stream):\n",
    "    x,y = stream.shape\n",
    "    stream = stream.reshape((x*y,1))\n",
    "    \n",
    "    ones = stream[stream == 1] # pull the stream pixels out\n",
    "    \n",
    "    np.random.seed = seed\n",
    "    sampIDX = np.random.randint(0,len(ones)+1,number)\n",
    "    \n",
    "    ones[sampIDX] = 2 # turn the ones to twos \n",
    "    \n",
    "    stream[stream==1] = ones # insert back into full array\n",
    "    \n",
    "    stream = stream.reshape((x,y))\n",
    "    \n",
    "    x,y = np.where(stream == 2)\n",
    "    \n",
    "    # now convert these index values to coordinates\n",
    "    T1 = T0 * Affine.translation(0.5,0.5) #corner to cell center\n",
    "\n",
    "    rc2en = lambda r,c: (c,r) * T1\n",
    "\n",
    "    easting, northing = np.vectorize(rc2en, otypes = [np.float, np.float])(x,y)\n",
    "    \n",
    "    geometry = []\n",
    "    for east,north in zip(easting,northing):\n",
    "        geometry.append(Point(east,north))\n",
    "        \n",
    "    sample = gpd.GeoDataFrame(geometry=geometry,crs = p1.srs)\n",
    "    print(len(sample))\n",
    "    \n",
    "    sample['idx'] = np.arange(1,number+1) + run * 1000\n",
    "    \n",
    "    sample.to_file(\"./data/CHI_poster/sample_locs_%s.shp\"%run)\n",
    "    del stream\n",
    "    print(\"Sample %s done!\"%run)\n",
    "    "
   ]
  },
  {
   "cell_type": "code",
   "execution_count": 12,
   "metadata": {},
   "outputs": [
    {
     "name": "stdout",
     "output_type": "stream",
     "text": [
      "10\n",
      "Sample 1 done!\n",
      "20\n",
      "Sample 2 done!\n",
      "30\n",
      "Sample 3 done!\n",
      "40\n",
      "Sample 4 done!\n",
      "50\n",
      "Sample 5 done!\n",
      "60\n",
      "Sample 6 done!\n",
      "70\n",
      "Sample 7 done!\n",
      "80\n",
      "Sample 8 done!\n",
      "90\n",
      "Sample 9 done!\n",
      "100\n",
      "Sample 10 done!\n",
      "110\n",
      "Sample 11 done!\n",
      "120\n",
      "Sample 12 done!\n",
      "130\n",
      "Sample 13 done!\n",
      "140\n",
      "Sample 14 done!\n",
      "150\n",
      "Sample 15 done!\n",
      "160\n",
      "Sample 16 done!\n",
      "170\n",
      "Sample 17 done!\n",
      "180\n",
      "Sample 18 done!\n",
      "190\n",
      "Sample 19 done!\n",
      "200\n",
      "Sample 20 done!\n"
     ]
    }
   ],
   "source": [
    "samples = []\n",
    "for i in range(20):\n",
    "    i += 1\n",
    "    generate_samples(i,i*10,dat.copy())\n",
    "    samples.append(i*10)"
   ]
  },
  {
   "cell_type": "code",
   "execution_count": 39,
   "metadata": {},
   "outputs": [],
   "source": [
    "streamRaster = \"./data/CHI_poster/stream.tif\"\n",
    "with rs.open(streamRaster) as src:\n",
    "    T0 = src.transform\n",
    "    p1 = Proj(src.crs)\n",
    "    stream = src.read(1)\n",
    "    nd = src.nodata"
   ]
  },
  {
   "cell_type": "code",
   "execution_count": 40,
   "metadata": {},
   "outputs": [],
   "source": [
    "x,y = stream.shape\n",
    "stream = stream.reshape((x*y,1))"
   ]
  },
  {
   "cell_type": "code",
   "execution_count": 41,
   "metadata": {},
   "outputs": [],
   "source": [
    "ones = stream[stream == 1] # pull the stream pixels out"
   ]
  },
  {
   "cell_type": "code",
   "execution_count": 42,
   "metadata": {},
   "outputs": [],
   "source": [
    "np.random.seed = seed\n",
    "sampIDX = np.random.randint(0,len(ones)+1,samples)"
   ]
  },
  {
   "cell_type": "code",
   "execution_count": 43,
   "metadata": {},
   "outputs": [],
   "source": [
    "ones[sampIDX] = 2 # turn the ones to twos "
   ]
  },
  {
   "cell_type": "code",
   "execution_count": 44,
   "metadata": {},
   "outputs": [],
   "source": [
    "stream[stream==1] = ones # insert back into full array"
   ]
  },
  {
   "cell_type": "code",
   "execution_count": 45,
   "metadata": {},
   "outputs": [],
   "source": [
    "stream = stream.reshape((x,y))"
   ]
  },
  {
   "cell_type": "code",
   "execution_count": 46,
   "metadata": {},
   "outputs": [],
   "source": [
    "x,y = np.where(stream == 2)"
   ]
  },
  {
   "cell_type": "code",
   "execution_count": 47,
   "metadata": {},
   "outputs": [],
   "source": [
    "# now convert these index values to coordinates\n",
    "T1 = T0 * Affine.translation(0.5,0.5) #corner to cell center\n",
    "\n",
    "rc2en = lambda r,c: (c,r) * T1\n",
    "\n",
    "easting, northing = np.vectorize(rc2en, otypes = [np.float, np.float])(x,y)"
   ]
  },
  {
   "cell_type": "code",
   "execution_count": 48,
   "metadata": {},
   "outputs": [],
   "source": [
    "geometry = []\n",
    "for east,north in zip(easting,northing):\n",
    "    geometry.append(Point(east,north))"
   ]
  },
  {
   "cell_type": "code",
   "execution_count": 54,
   "metadata": {},
   "outputs": [],
   "source": [
    "sample = gpd.GeoDataFrame(geometry=geometry,crs = p1.srs)"
   ]
  },
  {
   "cell_type": "code",
   "execution_count": 59,
   "metadata": {},
   "outputs": [],
   "source": [
    "sample['idx'] = np.arange(1,len(sample)+1)"
   ]
  },
  {
   "cell_type": "code",
   "execution_count": 60,
   "metadata": {},
   "outputs": [
    {
     "data": {
      "text/html": [
       "<div>\n",
       "<style scoped>\n",
       "    .dataframe tbody tr th:only-of-type {\n",
       "        vertical-align: middle;\n",
       "    }\n",
       "\n",
       "    .dataframe tbody tr th {\n",
       "        vertical-align: top;\n",
       "    }\n",
       "\n",
       "    .dataframe thead th {\n",
       "        text-align: right;\n",
       "    }\n",
       "</style>\n",
       "<table border=\"1\" class=\"dataframe\">\n",
       "  <thead>\n",
       "    <tr style=\"text-align: right;\">\n",
       "      <th></th>\n",
       "      <th>geometry</th>\n",
       "      <th>idx</th>\n",
       "    </tr>\n",
       "  </thead>\n",
       "  <tbody>\n",
       "    <tr>\n",
       "      <th>0</th>\n",
       "      <td>POINT (-1207160 2991100)</td>\n",
       "      <td>1</td>\n",
       "    </tr>\n",
       "    <tr>\n",
       "      <th>1</th>\n",
       "      <td>POINT (-1212300 2989510)</td>\n",
       "      <td>2</td>\n",
       "    </tr>\n",
       "    <tr>\n",
       "      <th>2</th>\n",
       "      <td>POINT (-1207080 2988330)</td>\n",
       "      <td>3</td>\n",
       "    </tr>\n",
       "    <tr>\n",
       "      <th>3</th>\n",
       "      <td>POINT (-1209780 2987840)</td>\n",
       "      <td>4</td>\n",
       "    </tr>\n",
       "    <tr>\n",
       "      <th>4</th>\n",
       "      <td>POINT (-1213260 2987520)</td>\n",
       "      <td>5</td>\n",
       "    </tr>\n",
       "  </tbody>\n",
       "</table>\n",
       "</div>"
      ],
      "text/plain": [
       "                   geometry  idx\n",
       "0  POINT (-1207160 2991100)    1\n",
       "1  POINT (-1212300 2989510)    2\n",
       "2  POINT (-1207080 2988330)    3\n",
       "3  POINT (-1209780 2987840)    4\n",
       "4  POINT (-1213260 2987520)    5"
      ]
     },
     "execution_count": 60,
     "metadata": {},
     "output_type": "execute_result"
    }
   ],
   "source": [
    "sample.head()"
   ]
  },
  {
   "cell_type": "code",
   "execution_count": 61,
   "metadata": {},
   "outputs": [],
   "source": [
    "sample.to_file(\"./data/CHI_poster/sample_locs.shp\")"
   ]
  },
  {
   "cell_type": "code",
   "execution_count": 56,
   "metadata": {},
   "outputs": [
    {
     "data": {
      "text/plain": [
       "<matplotlib.axes._subplots.AxesSubplot at 0x7feeb7a4a048>"
      ]
     },
     "execution_count": 56,
     "metadata": {},
     "output_type": "execute_result"
    },
    {
     "data": {
      "image/png": "[encoded data removed]",
      "text/plain": [
       "<Figure size 432x288 with 1 Axes>"
      ]
     },
     "metadata": {
      "needs_background": "light"
     },
     "output_type": "display_data"
    }
   ],
   "source": [
    "sample.plot()"
   ]
  },
  {
   "cell_type": "code",
   "execution_count": 57,
   "metadata": {},
   "outputs": [
    {
     "data": {
      "text/plain": [
       "<matplotlib.image.AxesImage at 0x7feeb798ed30>"
      ]
     },
     "execution_count": 57,
     "metadata": {},
     "output_type": "execute_result"
    },
    {
     "data": {
      "image/png": "[encoded data removed]",
      "text/plain": [
       "<Figure size 432x288 with 1 Axes>"
      ]
     },
     "metadata": {
      "needs_background": "light"
     },
     "output_type": "display_data"
    }
   ],
   "source": [
    "plt.imshow(stream)"
   ]
  }
 ],
 "metadata": {
  "kernelspec": {
   "display_name": "Python 3",
   "language": "python",
   "name": "python3"
  },
  "language_info": {
   "codemirror_mode": {
    "name": "ipython",
    "version": 3
   },
   "file_extension": ".py",
   "mimetype": "text/x-python",
   "name": "python",
   "nbconvert_exporter": "python",
   "pygments_lexer": "ipython3",
   "version": "3.6.8"
  }
 },
 "nbformat": 4,
 "nbformat_minor": 2
}
