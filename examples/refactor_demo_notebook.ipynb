{
 "cells": [
  {
   "cell_type": "markdown",
   "id": "e71228b9-2b00-402b-98cc-109e43c8dfc8",
   "metadata": {},
   "source": [
    "FCPGTools V2 Demo Notebook\n",
    "===========================\n",
    "\n",
    "**Key Improvements:**\n",
    "* Supports file read in from remote-servers via `xarray.open_dataset()` (i.e. [THREDDS](https://www.ncei.noaa.gov/access/thredds-user-guide)).\n",
    "* Multi-dimensional paramater grid support (i.e. precipitation over time).\n",
    "* In-memory objects -> no more unnecessary file read/write -> scalable beyond local machines.\n",
    "* One-line visualizations with `xarray.DataArray.plot()`.\n",
    "* Refactoring into a modular, non-repetative code base -> improved adaptability long term to dependency shifts and/or new client demands."
   ]
  },
  {
   "cell_type": "code",
   "execution_count": null,
   "id": "15910787-7df2-46e9-bbc3-16954c44ccc8",
   "metadata": {},
   "outputs": [],
   "source": []
  },
  {
   "cell_type": "markdown",
   "id": "b0e86e69-4243-4a1b-8a5a-03a2c6589de8",
   "metadata": {},
   "source": [
    "# Import Data\n",
    "**Local files:**\n",
    "* `us_fdr`: upstream basin Flow Direction Raster (BLANK FORMAT).\n",
    "* `ds_fdr`: downstream basin Flow Direction Raster (BLANK FORMAT).\n",
    "* `landcover`: \n",
    "* `basins_shp`:\n",
    "\n",
    "**Remote files:**\n",
    "* `precip`: a BLANK monthly averaged precipitation raster from BLANK server."
   ]
  },
  {
   "cell_type": "markdown",
   "id": "d4542437-0ff6-4239-9acd-bb861eb6401a",
   "metadata": {},
   "source": [
    "## Create `PathLike` objects for our local input files\n",
    "**Note:** While seemingly redundant, using `pathlib.Path` objects improves application security, especially if deployed on a remote server. This is because paths can be passed into TauDEM command line calls, which opens a vunerability to custom strings that could control a server remotely. Assuring that all inputs are valid paths, and not arbitrary strings, prevents against this."
   ]
  },
  {
   "cell_type": "code",
   "execution_count": null,
   "id": "37c00641-8b56-49d7-a116-1804cb156f98",
   "metadata": {},
   "outputs": [],
   "source": []
  },
  {
   "cell_type": "markdown",
   "id": "e12b219a-a2bb-4541-884b-d3b54cca74fa",
   "metadata": {},
   "source": [
    "## Import multi-dimensional DAYMET data from THREDDS for our AOI"
   ]
  },
  {
   "cell_type": "code",
   "execution_count": null,
   "id": "3d4bd6c5-0e18-4117-a3d6-be14e9f33ca0",
   "metadata": {},
   "outputs": [],
   "source": []
  },
  {
   "cell_type": "markdown",
   "id": "db4521dc-a71a-422a-96c3-af66bcf33977",
   "metadata": {},
   "source": [
    "# Make a Flow Accumulation Cell (FAC) raster from a Flow Direction Raster (FDR)\n",
    "**Note:** The v2 versino of FCPGTools supports multiple \"geoprocessing engines\" which can be used interchangably. **In this demo we use [`pysheds`](http://mattbartos.com/pysheds/), although legacy TauDEM support is also possible.**"
   ]
  },
  {
   "cell_type": "code",
   "execution_count": null,
   "id": "22b99dbf-29cf-41ec-b2ff-d287f4692b47",
   "metadata": {},
   "outputs": [],
   "source": []
  },
  {
   "cell_type": "markdown",
   "id": "4661096d-e8ea-4b74-96ce-28e49e491d3c",
   "metadata": {},
   "source": [
    "## Make a stream mask raster based on a cell accumulation threshold"
   ]
  },
  {
   "cell_type": "code",
   "execution_count": null,
   "id": "ab5f5bcd-550b-4af2-94e2-52f50c8ee575",
   "metadata": {},
   "outputs": [],
   "source": []
  },
  {
   "cell_type": "markdown",
   "id": "cf31b087-26f1-40ba-aad4-03885cab6d40",
   "metadata": {
    "tags": []
   },
   "source": [
    "# Prepare parameter grids"
   ]
  },
  {
   "cell_type": "code",
   "execution_count": null,
   "id": "10c03be7-0ff5-4bce-9751-d54d0749de45",
   "metadata": {},
   "outputs": [],
   "source": []
  },
  {
   "cell_type": "markdown",
   "id": "cc352835-6056-4931-9308-ac7c2ec85425",
   "metadata": {},
   "source": [
    "## Clip, reproject, and resample (one-by-one)"
   ]
  },
  {
   "cell_type": "code",
   "execution_count": null,
   "id": "b51d7504-fa5c-4498-8bdf-483b7b91de37",
   "metadata": {},
   "outputs": [],
   "source": []
  },
  {
   "cell_type": "markdown",
   "id": "bf9567aa-7106-4477-bc6f-d70044f2ce5a",
   "metadata": {},
   "source": [
    "## Or align parameter grid to the FDR in one line"
   ]
  },
  {
   "cell_type": "code",
   "execution_count": null,
   "id": "6c381d65-66df-4303-bbfb-d503e98e9de8",
   "metadata": {},
   "outputs": [],
   "source": []
  },
  {
   "cell_type": "markdown",
   "id": "8630424c-e0ec-4831-a3c7-cbd7ea5df7a0",
   "metadata": {},
   "source": [
    "# Make a parameter grid FAC raster"
   ]
  },
  {
   "cell_type": "code",
   "execution_count": null,
   "id": "adf5eb99-bd68-417c-b634-76dc193aa381",
   "metadata": {},
   "outputs": [],
   "source": []
  },
  {
   "cell_type": "markdown",
   "id": "c325017a-e8f9-4623-9e47-9fdeba361cfc",
   "metadata": {},
   "source": [
    "# Create a multi-dimensional Flow Conditioned Parameter Grid (FCPG)"
   ]
  },
  {
   "cell_type": "markdown",
   "id": "986ce23a-a4d6-4340-9043-ce295fc6e3be",
   "metadata": {},
   "source": [
    "# Compare with V1 implementation"
   ]
  },
  {
   "cell_type": "code",
   "execution_count": null,
   "id": "d551a8a7-252d-4aad-8628-1e7721a62e3f",
   "metadata": {},
   "outputs": [],
   "source": []
  }
 ],
 "metadata": {
  "kernelspec": {
   "display_name": "Python 3 (ipykernel)",
   "language": "python",
   "name": "python3"
  },
  "language_info": {
   "codemirror_mode": {
    "name": "ipython",
    "version": 3
   },
   "file_extension": ".py",
   "mimetype": "text/x-python",
   "name": "python",
   "nbconvert_exporter": "python",
   "pygments_lexer": "ipython3",
   "version": "3.9.13"
  },
  "toc-autonumbering": true
 },
 "nbformat": 4,
 "nbformat_minor": 5
}
