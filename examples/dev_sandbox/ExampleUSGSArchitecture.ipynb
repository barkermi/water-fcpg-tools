{
 "cells": [
  {
   "cell_type": "markdown",
   "id": "69ada0ea-7d61-4b36-aa99-bf9d8633ef3e",
   "metadata": {},
   "source": [
    "# Coding Convention\n",
    "\n",
    "* [PEP8](https://peps.python.org/pep-0008/)\n",
    "* [PEP484](https://peps.python.org/pep-0484/)\n",
    "* Sphinx style docstrings\n",
    "* [pygeoapi-plugin-cookiecutter](https://code.usgs.gov/wma/nhgf/pygeoapi-plugin-cookiecutter#features)"
   ]
  },
  {
   "cell_type": "markdown",
   "id": "7c5636b7-4299-4956-a4bb-ceedce483ccf",
   "metadata": {},
   "source": [
    "# Review of Architecture "
   ]
  },
  {
   "cell_type": "code",
   "execution_count": 1,
   "id": "8ceeb445-3241-4e6e-aa07-d6a53ab464ec",
   "metadata": {},
   "outputs": [],
   "source": [
    "import abc"
   ]
  },
  {
   "cell_type": "code",
   "execution_count": 2,
   "id": "de0ddfd6-9249-4cdc-ba3a-b3f732801844",
   "metadata": {},
   "outputs": [],
   "source": [
    "class GeoSpatialEngineLite(abc.ABC):\n",
    "    \n",
    "    @abc.abstractmethod\n",
    "    def method_lite(self) -> None:\n",
    "        pass\n",
    "\n",
    "class GeoSpatialEngineFull(GeoSpatialEngineLite, abc.ABC):\n",
    "    \n",
    "    @abc.abstractmethod\n",
    "    def method_full(self) -> None:\n",
    "        pass"
   ]
  },
  {
   "cell_type": "code",
   "execution_count": 3,
   "id": "c706dde8-6c2b-4fba-a93f-563f92c82f9b",
   "metadata": {},
   "outputs": [],
   "source": [
    "class LiteEngine(GeoSpatialEngineLite):\n",
    "\n",
    "    def method_lite(self) -> None:\n",
    "        print(\"FullEngine method_lite\")\n",
    "              \n",
    "class FullEngine(GeoSpatialEngineFull):\n",
    "              \n",
    "    def method_lite(self) -> None:\n",
    "        print(\"FullEngine method_lite\")\n",
    "              \n",
    "    def method_full(self) -> None:\n",
    "        print(\"FullEngine method_full\")"
   ]
  },
  {
   "cell_type": "code",
   "execution_count": 4,
   "id": "d578d833-bc05-499d-be74-79a85cef6e19",
   "metadata": {},
   "outputs": [],
   "source": [
    "def requires_full_engine(func:callable, *args, **kwargs) -> callable:\n",
    "    def full_engine_function(engine, *args, **kwargs) -> any:\n",
    "        if not isinstance(engine, FullEngine): raise ValueError(f'Invalid engine type. Function {func.__name__} requires FullEngine')\n",
    "        return func(engine, *args, **kwargs)\n",
    "    return full_engine_function\n",
    "    "
   ]
  },
  {
   "cell_type": "code",
   "execution_count": 5,
   "id": "34c2a7b0-adb3-4954-b8f5-143fed4e83c6",
   "metadata": {},
   "outputs": [],
   "source": [
    "engine_lite = LiteEngine()\n",
    "engine_full = FullEngine()"
   ]
  },
  {
   "cell_type": "code",
   "execution_count": 6,
   "id": "5dda6345-69e7-407b-9916-0d20b64b146c",
   "metadata": {},
   "outputs": [
    {
     "name": "stdout",
     "output_type": "stream",
     "text": [
      "['_abc_impl', 'method_lite']\n"
     ]
    }
   ],
   "source": [
    "print([method for method in dir(engine_lite) if not method.startswith('__')])"
   ]
  },
  {
   "cell_type": "code",
   "execution_count": 7,
   "id": "23e205d2-cf39-47e3-aacc-cea7101a4258",
   "metadata": {},
   "outputs": [
    {
     "name": "stdout",
     "output_type": "stream",
     "text": [
      "['_abc_impl', 'method_full', 'method_lite']\n"
     ]
    }
   ],
   "source": [
    "print([method for method in dir(engine_full) if not method.startswith('__')])"
   ]
  },
  {
   "cell_type": "code",
   "execution_count": 8,
   "id": "d0406260-eb2a-4d75-a225-0d3ca9699d64",
   "metadata": {},
   "outputs": [],
   "source": [
    "def normal_function(engine:LiteEngine) -> None:\n",
    "    engine.method_lite()"
   ]
  },
  {
   "cell_type": "code",
   "execution_count": 9,
   "id": "9c930f78-250d-4432-998b-7d2bb3658119",
   "metadata": {},
   "outputs": [],
   "source": [
    "@requires_full_engine\n",
    "def protected_function(engine:FullEngine) -> None:\n",
    "    engine.method_full()"
   ]
  },
  {
   "cell_type": "code",
   "execution_count": 10,
   "id": "454e9be9-592b-4721-bada-1a0ed1a280a5",
   "metadata": {},
   "outputs": [
    {
     "name": "stdout",
     "output_type": "stream",
     "text": [
      "['_abc_impl', 'method_full', 'method_lite']\n",
      "FullEngine method_lite\n",
      "FullEngine method_full\n"
     ]
    }
   ],
   "source": [
    "engine_full = FullEngine()\n",
    "print([method for method in dir(engine_full) if not method.startswith('__')])\n",
    "\n",
    "normal_function(engine_full)\n",
    "protected_function(engine_full)"
   ]
  },
  {
   "cell_type": "code",
   "execution_count": 11,
   "id": "39e92811-0052-4149-8d7e-c26e9d7890e2",
   "metadata": {},
   "outputs": [
    {
     "name": "stdout",
     "output_type": "stream",
     "text": [
      "['_abc_impl', 'method_lite']\n",
      "FullEngine method_lite\n"
     ]
    },
    {
     "ename": "ValueError",
     "evalue": "Invalid engine type. Function protected_function requires FullEngine",
     "output_type": "error",
     "traceback": [
      "\u001b[1;31m---------------------------------------------------------------------------\u001b[0m",
      "\u001b[1;31mValueError\u001b[0m                                Traceback (most recent call last)",
      "Input \u001b[1;32mIn [11]\u001b[0m, in \u001b[0;36m<cell line: 5>\u001b[1;34m()\u001b[0m\n\u001b[0;32m      2\u001b[0m \u001b[38;5;28mprint\u001b[39m([method \u001b[38;5;28;01mfor\u001b[39;00m method \u001b[38;5;129;01min\u001b[39;00m \u001b[38;5;28mdir\u001b[39m(engine_lite) \u001b[38;5;28;01mif\u001b[39;00m \u001b[38;5;129;01mnot\u001b[39;00m method\u001b[38;5;241m.\u001b[39mstartswith(\u001b[38;5;124m'\u001b[39m\u001b[38;5;124m__\u001b[39m\u001b[38;5;124m'\u001b[39m)])\n\u001b[0;32m      4\u001b[0m normal_function(engine_lite)\n\u001b[1;32m----> 5\u001b[0m \u001b[43mprotected_function\u001b[49m\u001b[43m(\u001b[49m\u001b[43mengine_lite\u001b[49m\u001b[43m)\u001b[49m\n",
      "Input \u001b[1;32mIn [4]\u001b[0m, in \u001b[0;36mrequires_full_engine.<locals>.full_engine_function\u001b[1;34m(engine, *args, **kwargs)\u001b[0m\n\u001b[0;32m      2\u001b[0m \u001b[38;5;28;01mdef\u001b[39;00m \u001b[38;5;21mfull_engine_function\u001b[39m(engine, \u001b[38;5;241m*\u001b[39margs, \u001b[38;5;241m*\u001b[39m\u001b[38;5;241m*\u001b[39mkwargs) \u001b[38;5;241m-\u001b[39m\u001b[38;5;241m>\u001b[39m \u001b[38;5;28many\u001b[39m:\n\u001b[1;32m----> 3\u001b[0m     \u001b[38;5;28;01mif\u001b[39;00m \u001b[38;5;129;01mnot\u001b[39;00m \u001b[38;5;28misinstance\u001b[39m(engine, FullEngine): \u001b[38;5;28;01mraise\u001b[39;00m \u001b[38;5;167;01mValueError\u001b[39;00m(\u001b[38;5;124mf\u001b[39m\u001b[38;5;124m'\u001b[39m\u001b[38;5;124mInvalid engine type. Function \u001b[39m\u001b[38;5;132;01m{\u001b[39;00mfunc\u001b[38;5;241m.\u001b[39m\u001b[38;5;18m__name__\u001b[39m\u001b[38;5;132;01m}\u001b[39;00m\u001b[38;5;124m requires FullEngine\u001b[39m\u001b[38;5;124m'\u001b[39m)\n\u001b[0;32m      4\u001b[0m     \u001b[38;5;28;01mreturn\u001b[39;00m func(engine, \u001b[38;5;241m*\u001b[39margs, \u001b[38;5;241m*\u001b[39m\u001b[38;5;241m*\u001b[39mkwargs)\n",
      "\u001b[1;31mValueError\u001b[0m: Invalid engine type. Function protected_function requires FullEngine"
     ]
    }
   ],
   "source": [
    "engine_lite = LiteEngine()\n",
    "print([method for method in dir(engine_lite) if not method.startswith('__')])\n",
    "\n",
    "normal_function(engine_lite)\n",
    "protected_function(engine_lite) #should raise a value error"
   ]
  },
  {
   "cell_type": "markdown",
   "id": "1c7dbf4e-9264-462c-bf14-d13b59fca02a",
   "metadata": {},
   "source": [
    "# Next Steps\n",
    "\n",
    "* Finish executing repo management strategy\n",
    "* Review [existing code](https://code.usgs.gov/StreamStats/data-preparation/cpg/FCPGtools)\n",
    "* Catalog existing functions \n",
    "* Breaking existing function into sudo code low level operations\n",
    "* Document any questions we have on existing functions"
   ]
  },
  {
   "cell_type": "markdown",
   "id": "e4ed6889-865d-4e6e-8c4a-6080483b9e14",
   "metadata": {},
   "source": [
    "# Repo management\n",
    "\n",
    "- [ ] ~~Create `develop` branch off of current `master`~~\n",
    "- [ ] ~~Create `refactor planning` branch off of new `develop` branch~~\n",
    "- [ ] Create `sandbox` subdirectory in `refactor planning` "
   ]
  },
  {
   "cell_type": "markdown",
   "id": "cc6647aa-9495-4d64-9dff-c8216285a745",
   "metadata": {},
   "source": [
    "# What we are looking for as a first cut"
   ]
  },
  {
   "cell_type": "code",
   "execution_count": 13,
   "id": "e6dd67bc-09d4-49e1-a1bb-56541c32e28d",
   "metadata": {},
   "outputs": [
    {
     "ename": "IndentationError",
     "evalue": "expected an indented block (512757871.py, line 7)",
     "output_type": "error",
     "traceback": [
      "\u001b[1;36m  Input \u001b[1;32mIn [13]\u001b[1;36m\u001b[0m\n\u001b[1;33m    #save_raster\u001b[0m\n\u001b[1;37m                ^\u001b[0m\n\u001b[1;31mIndentationError\u001b[0m\u001b[1;31m:\u001b[0m expected an indented block\n"
     ]
    }
   ],
   "source": [
    "def tauDrainDir(\n",
    "        #details about the function's current signature (inputs/output)\n",
    "    ):\n",
    "    #high level summary of the lower level operations \n",
    "        #read_raster -> flow_direction_grid\n",
    "        #calculate_flow_direction (flow_direction_grid:raster)\n",
    "        #save_raster"
   ]
  },
  {
   "cell_type": "code",
   "execution_count": null,
   "id": "3cdba1b4-fad4-4b19-8261-297ad14370af",
   "metadata": {},
   "outputs": [],
   "source": []
  }
 ],
 "metadata": {
  "kernelspec": {
   "display_name": "Python 3 (ipykernel)",
   "language": "python",
   "name": "python3"
  },
  "language_info": {
   "codemirror_mode": {
    "name": "ipython",
    "version": 3
   },
   "file_extension": ".py",
   "mimetype": "text/x-python",
   "name": "python",
   "nbconvert_exporter": "python",
   "pygments_lexer": "ipython3",
   "version": "3.9.13"
  }
 },
 "nbformat": 4,
 "nbformat_minor": 5
}
