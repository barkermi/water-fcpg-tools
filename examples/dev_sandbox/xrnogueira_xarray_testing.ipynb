{
 "cells": [
  {
   "cell_type": "markdown",
   "id": "ad563834-11ca-48e6-b009-d3f80b07a221",
   "metadata": {},
   "source": [
    "A place to test the `xarray` functionality\n",
    "============================================"
   ]
  },
  {
   "cell_type": "markdown",
   "id": "050939ef-fe46-4565-972e-38ca5d4d2225",
   "metadata": {},
   "source": [
    "## Use `intake` to pull in remote data as well as STAC catelogs\n",
    "\n",
    "* Note: This is **NOT** a part of the deliverable library, however, we were tasked with gaining experience in this domain and this is a great place to do so. See this [example](http://gallery.pangeo.io/repos/pangeo-data/pangeo-tutorial-gallery/intake.html#Intake-xarray-example) by Pangeo.\n",
    "* [Intake API docs](https://intake.readthedocs.io/en/latest/api_user.html).\n",
    "* Amazing [list of STAC Catalogs](https://stacindex.org/catalogs?access=public) (some are APIs with access to the data, others are staic catalogs that point to data).\n",
    "* **Note:** `PySTAC` and [`pystac_client`](https://pystac-client.readthedocs.io/en/stable/api.html) (made by STAC) can be used to query by BBOX! See some cool examples [here](https://github.com/stac-utils/pystac-client/blob/6f0c933509f80b724d46042beffc8273b0e5d301/docs/tutorials/item-search-intersects.ipynb).\n",
    "* **We should use [`stackstac`](https://github.com/gjoseph92/stackstac) to combine raster endpoints into one DataArrays IF they only have one band (major limitation).**"
   ]
  },
  {
   "cell_type": "markdown",
   "id": "5b752593-1ce5-4e3e-81f8-c566873df429",
   "metadata": {
    "tags": []
   },
   "source": [
    "### Access Planet's STAC for Surface Reflectance data @ `planet/fusion/14N/29E-188N`"
   ]
  },
  {
   "cell_type": "code",
   "execution_count": 12,
   "id": "ec9af6e2-5475-4f5f-a7be-fdafae60e433",
   "metadata": {},
   "outputs": [],
   "source": [
    "import xarray as xr\n",
    "import rioxarray as rio\n",
    "import numpy as np\n",
    "from pathlib import Path\n",
    "from typing import Union\n",
    "import os\n",
    "import gc\n",
    "import intake\n",
    "import xarray as xr\n",
    "import hvplot.xarray\n",
    "import matplotlib.pyplot as plt\n",
    "import matplotlib.animation as animation"
   ]
  },
  {
   "cell_type": "code",
   "execution_count": 2,
   "id": "21a6d1c1-320f-4983-b4e1-d9fb89f50636",
   "metadata": {},
   "outputs": [],
   "source": [
    "gee_stac = r'https://radiantearth.github.io/stac-browser/#/external/storage.googleapis.com/earthengine-stac/catalog/catalog.json'\n",
    "planet_stac = r'https://www.planet.com/data/stac/catalog.json'\n",
    "planetary_comp_stac = r'https://planetarycomputer.microsoft.com/api/stac/v1'"
   ]
  },
  {
   "cell_type": "code",
   "execution_count": 3,
   "id": "fa35abcc-9356-4885-af7d-61509246a816",
   "metadata": {},
   "outputs": [
    {
     "name": "stdout",
     "output_type": "stream",
     "text": [
      "The following collections can be accessed from stac_catalog: ['planet-stac-skysat', 'planet-disaster-data', 'sn7', 'planet/fusion/14N/29E-188N']\n"
     ]
    }
   ],
   "source": [
    "# open a STAC catalog\n",
    "stac_catalog = intake.open_stac_catalog(planet_stac)\n",
    "print(f'The following collections can be accessed from stac_catalog: {list(stac_catalog)}')"
   ]
  },
  {
   "cell_type": "code",
   "execution_count": 4,
   "id": "57ab26f3-94b3-4a32-8cd8-9b8c5dcb9c1c",
   "metadata": {},
   "outputs": [
    {
     "name": "stdout",
     "output_type": "stream",
     "text": [
      "The following sub-collections are available within planet/fusion/14N/29E-188N: ['2021-01-01', '2021-01-02', '2021-01-03', '2021-01-04', '2021-01-05', '2021-01-06', '2021-01-07', '2021-01-08', '2021-01-09', '2021-01-10', '2021-01-11', '2021-01-12', '2021-01-13', '2021-01-14', '2021-01-15', '2021-01-16', '2021-01-17', '2021-01-18', '2021-01-19', '2021-01-20', '2021-01-21', '2021-01-22', '2021-01-23', '2021-01-24', '2021-01-25', '2021-01-26', '2021-01-27', '2021-01-28', '2021-01-29', '2021-01-30', '2021-01-31', '2021-02-01', '2021-02-02', '2021-02-03', '2021-02-04', '2021-02-05', '2021-02-06', '2021-02-07', '2021-02-08', '2021-02-09', '2021-02-10', '2021-02-11', '2021-02-12', '2021-02-13', '2021-02-14', '2021-02-15', '2021-02-16', '2021-02-17', '2021-02-18', '2021-02-19', '2021-02-20', '2021-02-21', '2021-02-22', '2021-02-23', '2021-02-24', '2021-02-25', '2021-02-26', '2021-02-27', '2021-02-28', '2021-03-01', '2021-03-02', '2021-03-03', '2021-03-04', '2021-03-05', '2021-03-06', '2021-03-07', '2021-03-08', '2021-03-09', '2021-03-10', '2021-03-11', '2021-03-12', '2021-03-13', '2021-03-14', '2021-03-15', '2021-03-16', '2021-03-17', '2021-03-18', '2021-03-19', '2021-03-20', '2021-03-21', '2021-03-22', '2021-03-23', '2021-03-24', '2021-03-25', '2021-03-26', '2021-03-27', '2021-03-28', '2021-03-29', '2021-03-30', '2021-03-31', '2021-04-01', '2021-04-02', '2021-04-03', '2021-04-04', '2021-04-05', '2021-04-06', '2021-04-07', '2021-04-08', '2021-04-09', '2021-04-10', '2021-04-11', '2021-04-12', '2021-04-13', '2021-04-14', '2021-04-15', '2021-04-16', '2021-04-17', '2021-04-18', '2021-04-19', '2021-04-20', '2021-04-21', '2021-04-22', '2021-04-23', '2021-04-24', '2021-04-25', '2021-04-26', '2021-04-27', '2021-04-28', '2021-04-29', '2021-04-30', '2021-05-01', '2021-05-02', '2021-05-03', '2021-05-04', '2021-05-05', '2021-05-06', '2021-05-07', '2021-05-08', '2021-05-09', '2021-05-10', '2021-05-11', '2021-05-12', '2021-05-13', '2021-05-14', '2021-05-15', '2021-05-16', '2021-05-17', '2021-05-18', '2021-05-19', '2021-05-20', '2021-05-21', '2021-05-22', '2021-05-23', '2021-05-24', '2021-05-25', '2021-05-26', '2021-05-27', '2021-05-28', '2021-05-29', '2021-05-30', '2021-05-31', '2021-06-01', '2021-06-02', '2021-06-03', '2021-06-04', '2021-06-05', '2021-06-06', '2021-06-07', '2021-06-08', '2021-06-09', '2021-06-10', '2021-06-11', '2021-06-12', '2021-06-13', '2021-06-14', '2021-06-15', '2021-06-16', '2021-06-17', '2021-06-18', '2021-06-19', '2021-06-20', '2021-06-21', '2021-06-22', '2021-06-23', '2021-06-24', '2021-06-25', '2021-06-26', '2021-06-27', '2021-06-28', '2021-06-29', '2021-06-30', '2021-07-01', '2021-07-02', '2021-07-03', '2021-07-04', '2021-07-05', '2021-07-06', '2021-07-07', '2021-07-08', '2021-07-09', '2021-07-10', '2021-07-11', '2021-07-12', '2021-07-13', '2021-07-14', '2021-07-15', '2021-07-16', '2021-07-17', '2021-07-18', '2021-07-19', '2021-07-20', '2021-07-21', '2021-07-22', '2021-07-23', '2021-07-24', '2021-07-25', '2021-07-26', '2021-07-27', '2021-07-28', '2021-07-29', '2021-07-30', '2021-07-31', '2021-08-01', '2021-08-02', '2021-08-03', '2021-08-04', '2021-08-05', '2021-08-06', '2021-08-07', '2021-08-08', '2021-08-09', '2021-08-10', '2021-08-11', '2021-08-12', '2021-08-13', '2021-08-14', '2021-08-15', '2021-08-16', '2021-08-17', '2021-08-18', '2021-08-19', '2021-08-20', '2021-08-21', '2021-08-22', '2021-08-23', '2021-08-24', '2021-08-25', '2021-08-26', '2021-08-27', '2021-08-28', '2021-08-29', '2021-08-30', '2021-08-31', '2021-09-01', '2021-09-02', '2021-09-03', '2021-09-04', '2021-09-05', '2021-09-06', '2021-09-07', '2021-09-08', '2021-09-09', '2021-09-10', '2021-09-11', '2021-09-12', '2021-09-13', '2021-09-14', '2021-09-15', '2021-09-16', '2021-09-17', '2021-09-18', '2021-09-19', '2021-09-20', '2021-09-21', '2021-09-22', '2021-09-23', '2021-09-24', '2021-09-25', '2021-09-26', '2021-09-27', '2021-09-28', '2021-09-29', '2021-09-30', '2021-10-01', '2021-10-02', '2021-10-03', '2021-10-04', '2021-10-05', '2021-10-06', '2021-10-07', '2021-10-08', '2021-10-09', '2021-10-10', '2021-10-11', '2021-10-12', '2021-10-13', '2021-10-14', '2021-10-15', '2021-10-16', '2021-10-17', '2021-10-18', '2021-10-19', '2021-10-20', '2021-10-21', '2021-10-22', '2021-10-23', '2021-10-24', '2021-10-25', '2021-10-26', '2021-10-27', '2021-10-28', '2021-10-29', '2021-10-30', '2021-10-31', '2021-11-01', '2021-11-02', '2021-11-03', '2021-11-04', '2021-11-05', '2021-11-06', '2021-11-07', '2021-11-08', '2021-11-09', '2021-11-10', '2021-11-11', '2021-11-12', '2021-11-13', '2021-11-14', '2021-11-15', '2021-11-16', '2021-11-17', '2021-11-18', '2021-11-19', '2021-11-20', '2021-11-21', '2021-11-22', '2021-11-23', '2021-11-24', '2021-11-25', '2021-11-26', '2021-11-27', '2021-11-28', '2021-11-29', '2021-11-30', '2021-12-01', '2021-12-02', '2021-12-03', '2021-12-04', '2021-12-05', '2021-12-06', '2021-12-07', '2021-12-08', '2021-12-09', '2021-12-10', '2021-12-11', '2021-12-12', '2021-12-13', '2021-12-14', '2021-12-15', '2021-12-16', '2021-12-17', '2021-12-18', '2021-12-19', '2021-12-20', '2021-12-21', '2021-12-22', '2021-12-23', '2021-12-24', '2021-12-25', '2021-12-26', '2021-12-27', '2021-12-28', '2021-12-29', '2021-12-30', '2021-12-31']\n"
     ]
    }
   ],
   "source": [
    "collection = 'planet/fusion/14N/29E-188N'\n",
    "s_collections = stac_catalog[collection]\n",
    "print(f'The following sub-collections are available within {collection}: {list(s_collections)}')"
   ]
  },
  {
   "cell_type": "code",
   "execution_count": 5,
   "id": "41c9e02a-87eb-493c-8b0d-7ed1e3491295",
   "metadata": {},
   "outputs": [
    {
     "data": {
      "text/plain": [
       "['2021', '01', '01']"
      ]
     },
     "execution_count": 5,
     "metadata": {},
     "output_type": "execute_result"
    }
   ],
   "source": [
    "list(s_collections)[0].split('-', 3)"
   ]
  },
  {
   "cell_type": "markdown",
   "id": "75d29743-0604-4309-92dc-e0c24422ed7f",
   "metadata": {},
   "source": [
    "### Merge all surface reflectance data into one giant dataarray"
   ]
  },
  {
   "cell_type": "code",
   "execution_count": 26,
   "id": "d09e99bc-d545-459d-a1dd-0a6051da1343",
   "metadata": {},
   "outputs": [
    {
     "name": "stdout",
     "output_type": "stream",
     "text": [
      "Added: 2021-01-01\n",
      "Added: 2021-02-01\n",
      "Added: 2021-03-01\n",
      "Added: 2021-04-01\n",
      "Added: 2021-05-01\n",
      "Added: 2021-06-01\n",
      "Added: 2021-07-01\n",
      "Added: 2021-08-01\n",
      "Added: 2021-09-01\n",
      "Added: 2021-10-01\n",
      "Added: 2021-11-01\n",
      "Added: 2021-12-01\n",
      "CPU times: total: 438 ms\n",
      "Wall time: 597 ms\n"
     ]
    }
   ],
   "source": [
    "%%time\n",
    "collection_data = []\n",
    "labels = []\n",
    "past_months = []\n",
    "for i, date in enumerate(list(s_collections)):\n",
    "    month = date.split('-', 3)[1]\n",
    "    if month not in past_months:\n",
    "        past_months.append(month)\n",
    "        labels.append(date)\n",
    "        data = s_collections[date]['sr'].to_dask()[:, 7500:, 7500:]\n",
    "        print(f'Added: {date}')\n",
    "        collection_data.append(data)"
   ]
  },
  {
   "cell_type": "markdown",
   "id": "fc331392-f664-4c90-ac00-d7220b4921f1",
   "metadata": {},
   "source": [
    "### Transform the data array into the format we want\n",
    "* Options include stack/unstacking, multi-indexing, or **just creating a new DataArray (apparently the [fastest option?](https://stackoverflow.com/questions/72264983/how-to-reshape-xarray-dataset-by-collapsing-coordinate))**\n",
    "* **Takeaways:**\n",
    "    * Do not convert to numpy! It massively kills performance.\n",
    "    * On the backend `hvplot` converts to ``xr.DataSet`, which is impossible if the name attribute of the dataarray matches a variable name. Keep this in mind!"
   ]
  },
  {
   "cell_type": "code",
   "execution_count": 27,
   "id": "4fb6daca-78e3-4a00-ba2a-0a8fd9407b9e",
   "metadata": {},
   "outputs": [],
   "source": [
    "def ndvi(nir: xr.DataArray, red: xr.DataArray):\n",
    "    return (nir - red) / (nir + red)"
   ]
  },
  {
   "cell_type": "code",
   "execution_count": 28,
   "id": "e0151519-1318-4a44-ae31-419ac1e67f56",
   "metadata": {},
   "outputs": [
    {
     "name": "stdout",
     "output_type": "stream",
     "text": [
      "CPU times: total: 141 ms\n",
      "Wall time: 186 ms\n"
     ]
    }
   ],
   "source": [
    "%%time\n",
    "ndvi_data = [ndvi(d[-1], d[0]) for d in collection_data]\n",
    "del collection_data"
   ]
  },
  {
   "cell_type": "code",
   "execution_count": 29,
   "id": "99c85c52-aa35-4b7f-b37b-74643e96f7d0",
   "metadata": {},
   "outputs": [
    {
     "data": {
      "text/plain": [
       "12"
      ]
     },
     "execution_count": 29,
     "metadata": {},
     "output_type": "execute_result"
    }
   ],
   "source": [
    "len(ndvi_data)"
   ]
  },
  {
   "cell_type": "code",
   "execution_count": 30,
   "id": "41985a72-d9f9-4db3-ab5a-e43eeacb478a",
   "metadata": {},
   "outputs": [],
   "source": [
    "# create new dataarray from the existing one\n",
    "def stack_data(data_arrays: list, labels: list, coords_ref: xr.DataArray):\n",
    "    return xr.DataArray(data=data_arrays,\n",
    "             dims=['time', 'x', 'y'],\n",
    "             coords={\n",
    "             'x': coords_ref.coords['x'],\n",
    "             'y': coords_ref.coords['y'],\n",
    "             'time': labels[:len(data_arrays)],\n",
    "             'ndvi': (('time', 'x', 'y'), data_arrays)},\n",
    "             name='NDVI_data')"
   ]
  },
  {
   "cell_type": "code",
   "execution_count": 31,
   "id": "55938451-1085-431a-8d08-ce78b6539934",
   "metadata": {},
   "outputs": [
    {
     "data": {
      "text/plain": [
       "791"
      ]
     },
     "execution_count": 31,
     "metadata": {},
     "output_type": "execute_result"
    }
   ],
   "source": [
    "gc.collect()"
   ]
  },
  {
   "cell_type": "markdown",
   "id": "eed82972-60f4-41cf-befd-0e5e0ed27147",
   "metadata": {},
   "source": [
    "### Explore visualization\n",
    "**Notes:**\n",
    "* Despite not being included in `us_fdr` attributes, `us_fdr.rio.encoded_nodata` returns 255.0. This explains why when we load the dataset with `mask=True` the plot exlucdes nodata.\n",
    "* **To manually mask data:** Use `xarray.where` to set value, and then use `raster.rio.write_nodata(nodata_cell_value, encoded=True, inplace=True`) which will then make `raster.rio.nodata = nan`, but `raster.rio.encoded_nodata = nodata_cell_value`."
   ]
  },
  {
   "cell_type": "code",
   "execution_count": null,
   "id": "290d93af-3c9f-40d2-8184-5e04db0d4f99",
   "metadata": {},
   "outputs": [],
   "source": [
    "%%time\n",
    "stack_array = stack_data(ndvi_data,\n",
    "                         labels,\n",
    "                         coords_ref=ndvi_data[0])"
   ]
  },
  {
   "cell_type": "code",
   "execution_count": null,
   "id": "5909ccbf-4d3f-4700-8021-24c90400ea8c",
   "metadata": {},
   "outputs": [],
   "source": [
    "%matplotlib widget\n",
    "stack_array[6].plot(vmin=-1, vmax=1, cmap='PRGn')"
   ]
  },
  {
   "cell_type": "code",
   "execution_count": 23,
   "id": "aa68c5e8-ab47-49ff-ae6a-4b05d11a3414",
   "metadata": {},
   "outputs": [
    {
     "data": {},
     "metadata": {},
     "output_type": "display_data"
    }
   ],
   "source": [
    "%matplotlib widget\n",
    "stack_array.hvplot.image(groupby='time', cmap='PRGn', clim=(-1, 1), width=500)"
   ]
  },
  {
   "cell_type": "code",
   "execution_count": 24,
   "id": "0a2657ed-dd1b-4802-9a73-2bdd6493bdc0",
   "metadata": {},
   "outputs": [],
   "source": [
    "#stack_array.plot()"
   ]
  },
  {
   "cell_type": "code",
   "execution_count": null,
   "id": "a720c1dd-4f2c-4ced-978d-f740ed8a5052",
   "metadata": {},
   "outputs": [],
   "source": []
  }
 ],
 "metadata": {
  "kernelspec": {
   "display_name": "Python 3 (ipykernel)",
   "language": "python",
   "name": "python3"
  },
  "language_info": {
   "codemirror_mode": {
    "name": "ipython",
    "version": 3
   },
   "file_extension": ".py",
   "mimetype": "text/x-python",
   "name": "python",
   "nbconvert_exporter": "python",
   "pygments_lexer": "ipython3",
   "version": "3.9.13"
  }
 },
 "nbformat": 4,
 "nbformat_minor": 5
}
