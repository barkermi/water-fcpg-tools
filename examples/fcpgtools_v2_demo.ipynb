{
 "cells": [
  {
   "cell_type": "markdown",
   "metadata": {},
   "source": [
    "FCPGtools v2 Demonstration Notebook\n",
    "===============================\n",
    "\n",
    "The Flow-Conditioned Parameter Grid (FCPG) Tools library (`fcpgtools`) was substantially modernized from versions 1 to 2 to:\n",
    "- Refactor the code to Objectied Oriented Programming (OOP) structures.\n",
    "- Adhere to modern Pytyhon Style Guides (https://pep8.org and https://google.github.io/styleguide/).\n",
    "- Enhance and automate code documentation with docstrings and type hints [PEP 484](https://peps.python.org/pep-0484/).\n",
    "- Publish to the [Python Packace Index (PyPI)](https://pypi.org/project/fcpgtools/) for easier installation.\n",
    "\n",
    "In addition to maintaining all functionality of the the original proceedural programming library, the refactor FCPGtools v2 also aimed to:\n",
    "- Abstract terrain analysis functions to support several different terrain analysis engine dependencies beyond [TauDEM](https://github.com/dtarb/TauDEM), starting with [pysheds](https://github.com/mdbartos/pysheds).\n",
    "- Improve overall performance and ease of use, which we achieved by using [xarray](https://xarray.dev) data objects for in-memory representation of rasters rather than saving to storage at each computational step.\n",
    "\n",
    "This notebook is designed to demonstrate those capabilities while also demonstrating potential workflows for endusers."
   ]
  },
  {
   "cell_type": "markdown",
   "metadata": {},
   "source": [
    "# Installation and Setup\n",
    "\n",
    "Carefully follow our **[Installation Instructions](README.md#installation)**."
   ]
  },
  {
   "cell_type": "markdown",
   "metadata": {},
   "source": [
    "## Import Python Dependencies"
   ]
  },
  {
   "cell_type": "code",
   "execution_count": null,
   "metadata": {},
   "outputs": [],
   "source": [
    "# Python Standard Library\n",
    "from pathlib import Path\n",
    "from importlib import reload\n",
    "\n",
    "# Numerical & Geospatial libraries\n",
    "import numpy as np\n",
    "import xarray as xr\n",
    "import geopandas as gpd\n",
    "\n",
    "# For examples\n",
    "import pydaymet"
   ]
  },
  {
   "cell_type": "code",
   "execution_count": null,
   "metadata": {},
   "outputs": [],
   "source": [
    "# This library\n",
    "import fcpgtools"
   ]
  },
  {
   "cell_type": "markdown",
   "metadata": {},
   "source": [
    "## Set Paths to Input and Output Files with `pathlib`\n",
    "\n",
    "Use the [pathlib](https://docs.python.org/3/library/pathlib.html) library (built-in to Python 3) to manage paths indpendentely of OS or environment.\n",
    "\n",
    "This blog post describes `pathlib`'s benefits relative to using the `os` library or string approaches.\n",
    "- https://medium.com/@ageitgey/python-3-quick-tip-the-easy-way-to-deal-with-file-paths-on-windows-mac-and-linux-11a072b58d5f"
   ]
  },
  {
   "cell_type": "code",
   "execution_count": null,
   "metadata": {},
   "outputs": [],
   "source": [
    "# Find your current working directory, which should be folder for this notebook.\n",
    "Path.cwd()"
   ]
  },
  {
   "cell_type": "code",
   "execution_count": null,
   "metadata": {},
   "outputs": [],
   "source": [
    "# Set your project directory to your local folder for your clone of this repository\n",
    "project_path = Path.cwd().parent\n",
    "project_path"
   ]
  },
  {
   "cell_type": "code",
   "execution_count": null,
   "metadata": {},
   "outputs": [],
   "source": [
    "# Set path to example data inputs\n",
    "data_path = project_path / 'examples/data'\n",
    "data_path.exists()"
   ]
  },
  {
   "cell_type": "code",
   "execution_count": null,
   "metadata": {},
   "outputs": [],
   "source": [
    "\n",
    "# Create path for temporary data output files\n",
    "data_out_path = project_path / 'examples/temp'\n",
    "\n",
    "if not data_out_path.exists(): \n",
    "    data_out_path.mkdir()\n",
    "\n",
    "data_out_path.exists()"
   ]
  },
  {
   "cell_type": "markdown",
   "metadata": {},
   "source": [
    "# Import Data\n",
    "**Local files:**\n",
    "* `us_fdr`: upstream basin Flow Direction Raster (ESRI format).\n",
    "* `ds_fdr`: downstream basin Flow Direction Raster (ESRI format).\n",
    "* `daymet_single`: a annual averaged DAYMET precipitation raster.\n",
    "* `landcover`: a NALCMS 2015 land cover categorical raster.\n",
    "* `basins_shp`: a shapefile where each row corresponds to a HUC12 level basin.\n",
    "\n",
    "**Remote files:**\n",
    "* `daymet_multi`: a 2021 monthly averaged DAYMET precipitation raster accessed via `pydaymet`."
   ]
  },
  {
   "cell_type": "markdown",
   "metadata": {},
   "source": [
    "## Pull in local test data"
   ]
  },
  {
   "cell_type": "markdown",
   "metadata": {
    "tags": []
   },
   "source": [
    "### Get local raster files as `xr.DataArray`s \n",
    "**Note:** While seemingly redundant, using `pathlib.Path` objects improves application security, especially if deployed on a remote server. This is because string paths are passed into TauDEM command line calls, which opens a vunerability to custom strings that could control a server remotely. Assuring that all inputs are valid paths (therefore not arbitrary malicious strings), protects against this."
   ]
  },
  {
   "cell_type": "code",
   "execution_count": null,
   "metadata": {},
   "outputs": [],
   "source": [
    "# get tif data paths\n",
    "us_fdr_tif = data_path /'validation_upstream_fdr.tif'\n",
    "ds_fdr_tif = data_path / 'validation_downstream_fdr.tif'\n",
    "landcover_tif = data_path / 'NALCMS_2015.tif'\n",
    "daymet_tif = data_path / 'validation_daymet_an_P_2017.tif'\n",
    "\n",
    "# get upstream basin shapefile path\n",
    "us_basin_shp_path = data_path / 'upstream_wbd.shp'"
   ]
  },
  {
   "cell_type": "code",
   "execution_count": null,
   "metadata": {},
   "outputs": [],
   "source": [
    "us_fdr = fcpgtools.load_raster(us_fdr_tif)\n",
    "ds_fdr = fcpgtools.load_raster(ds_fdr_tif)\n",
    "landcover = fcpgtools.load_raster(landcover_tif)\n",
    "daymet_single = fcpgtools.load_raster(daymet_tif)"
   ]
  },
  {
   "cell_type": "markdown",
   "metadata": {
    "tags": []
   },
   "source": [
    "### Get the basin shapefiles as `geopandas.GeoDataFrame` objects"
   ]
  },
  {
   "cell_type": "code",
   "execution_count": null,
   "metadata": {},
   "outputs": [],
   "source": [
    "us_basin_shp = fcpgtools.load_shapefile(us_basin_shp_path)\n",
    "us_basin_shp"
   ]
  },
  {
   "cell_type": "code",
   "execution_count": null,
   "metadata": {},
   "outputs": [],
   "source": [
    "us_basin_shp.columns"
   ]
  },
  {
   "cell_type": "markdown",
   "metadata": {
    "tags": []
   },
   "source": [
    "## Import a 12 month DAYMET precipitation raster from `pydaymet` using our AOI\n",
    "**Note:** Here we use [`pydaymet`](https://hyriver.readthedocs.io/en/latest/autoapi/pydaymet/pydaymet/index.html) to read Daymet data directly into a `xr.DataSet`. We then query only for precipitation (`variable='prcp')` to get a `xr.DataArray`."
   ]
  },
  {
   "cell_type": "code",
   "execution_count": null,
   "metadata": {},
   "outputs": [],
   "source": [
    "us_basin_shp.crs"
   ]
  },
  {
   "cell_type": "code",
   "execution_count": null,
   "metadata": {},
   "outputs": [],
   "source": [
    "fcpgtools.reproject_raster(daymet_single, us_basin_shp)"
   ]
  },
  {
   "cell_type": "code",
   "execution_count": null,
   "metadata": {},
   "outputs": [],
   "source": [
    "bounding_box = list(fcpgtools.reproject_raster(daymet_single, us_basin_shp).rio.bounds())\n",
    "bounding_box"
   ]
  },
  {
   "cell_type": "code",
   "execution_count": null,
   "metadata": {},
   "outputs": [],
   "source": [
    "%%time\n",
    "daymet_multi = pydaymet.get_bygeom(bounding_box,\n",
    "    crs=us_basin_shp.crs.to_wkt(),\n",
    "    dates=(\"2021-01-01\", \"2021-12-30\"),\n",
    "    variables='prcp',\n",
    "    time_scale=\"monthly\",\n",
    "    )['prcp']\n",
    "daymet_multi"
   ]
  },
  {
   "cell_type": "code",
   "execution_count": null,
   "metadata": {},
   "outputs": [],
   "source": [
    "%matplotlib widget\n",
    "print('Upstream FDR (currenly ESRI format)')\n",
    "us_fdr.plot()"
   ]
  },
  {
   "cell_type": "markdown",
   "metadata": {
    "tags": []
   },
   "source": [
    "# Prep Parameter Grids"
   ]
  },
  {
   "cell_type": "markdown",
   "metadata": {
    "jp-MarkdownHeadingCollapsed": true,
    "tags": []
   },
   "source": [
    "## Resample/reproject/clip Daymet data"
   ]
  },
  {
   "cell_type": "code",
   "execution_count": null,
   "metadata": {},
   "outputs": [],
   "source": [
    "us_fdr_crs = us_fdr.rio.crs\n",
    "us_fdr_crs"
   ]
  },
  {
   "cell_type": "code",
   "execution_count": null,
   "metadata": {},
   "outputs": [],
   "source": [
    "%%time\n",
    "print('Aligning single band daymet data to us_fdr:')\n",
    "aligned_daymet_single = fcpgtools.align_raster(\n",
    "    daymet_single,\n",
    "    us_fdr,\n",
    "    resample_method='bilinear',\n",
    "    )"
   ]
  },
  {
   "cell_type": "code",
   "execution_count": null,
   "metadata": {},
   "outputs": [],
   "source": [
    "%matplotlib widget\n",
    "aligned_daymet_single.plot()"
   ]
  },
  {
   "cell_type": "code",
   "execution_count": null,
   "metadata": {},
   "outputs": [],
   "source": [
    "%matplotlib widget\n",
    "print('Aligning multi-band daymet data to us_fdr (plotting march):')\n",
    "aligned_daymet_multi = fcpgtools.align_raster(\n",
    "    daymet_multi,\n",
    "    us_fdr,\n",
    "    resample_method='bilinear',\n",
    "    )\n",
    "aligned_daymet_multi.isel(time=2).plot()"
   ]
  },
  {
   "cell_type": "markdown",
   "metadata": {
    "jp-MarkdownHeadingCollapsed": true,
    "tags": []
   },
   "source": [
    "## Align and Binarize Land Cover"
   ]
  },
  {
   "cell_type": "code",
   "execution_count": null,
   "metadata": {},
   "outputs": [],
   "source": [
    "# make a dictionary to improve land cover class labeling\n",
    "landcover_classes = {\n",
    "    1: 'evergreen forest',\n",
    "    7: 'tropical shrubland',\n",
    "    8: 'temperate shrubland',\n",
    "    9: 'tropical grassland',\n",
    "    10: 'temperate grassland',\n",
    "    14: 'wetland',\n",
    "    15: 'cropland',\n",
    "    16: 'barren',\n",
    "    17: 'urban',\n",
    "    18: 'open water',\n",
    "    }"
   ]
  },
  {
   "cell_type": "code",
   "execution_count": null,
   "metadata": {},
   "outputs": [],
   "source": [
    "print(f'Landcover class values: {np.unique(landcover.values)}')"
   ]
  },
  {
   "cell_type": "code",
   "execution_count": null,
   "metadata": {},
   "outputs": [],
   "source": [
    "aligned_landcover = fcpgtools.align_raster(\n",
    "    landcover,\n",
    "    us_fdr,\n",
    "    resample_method='nearest',\n",
    "    )"
   ]
  },
  {
   "cell_type": "code",
   "execution_count": null,
   "metadata": {},
   "outputs": [],
   "source": [
    "binary_landcover = fcpgtools.binarize_categorical_raster(\n",
    "    cat_raster=aligned_landcover,\n",
    "    categories_dict=landcover_classes,\n",
    "    ignore_categories=[18],\n",
    "    )\n",
    "print(f'binary_landcover band labels: {binary_landcover[binary_landcover.dims[0]].values}')\n",
    "binary_landcover"
   ]
  },
  {
   "cell_type": "code",
   "execution_count": null,
   "metadata": {},
   "outputs": [],
   "source": [
    "binary_landcover.dtype"
   ]
  },
  {
   "cell_type": "code",
   "execution_count": null,
   "metadata": {},
   "outputs": [],
   "source": [
    "%matplotlib widget\n",
    "binary_landcover[4].plot()"
   ]
  },
  {
   "cell_type": "markdown",
   "metadata": {
    "tags": []
   },
   "source": [
    "# Make Upstream Basin Flow Accumulation Cell (FAC) Rasters"
   ]
  },
  {
   "cell_type": "markdown",
   "metadata": {
    "jp-MarkdownHeadingCollapsed": true,
    "tags": []
   },
   "source": [
    "## w/ PySheds"
   ]
  },
  {
   "cell_type": "code",
   "execution_count": null,
   "metadata": {},
   "outputs": [],
   "source": [
    "%%time\n",
    "fac_pysheds = fcpgtools.accumulate_flow(\n",
    "    d8_fdr=us_fdr,\n",
    "    engine='pysheds',\n",
    "    upstream_pour_points=None,\n",
    "    )\n",
    "display(fac_pysheds)\n",
    "print(f'PySheds FAC nodata value: {fac_pysheds.rio.nodata}')"
   ]
  },
  {
   "cell_type": "code",
   "execution_count": null,
   "metadata": {},
   "outputs": [],
   "source": [
    "print(fac_pysheds.dtype)\n",
    "fac_pysheds"
   ]
  },
  {
   "cell_type": "code",
   "execution_count": null,
   "metadata": {},
   "outputs": [],
   "source": [
    "%matplotlib widget\n",
    "np.log(fac_pysheds).plot()"
   ]
  },
  {
   "cell_type": "code",
   "execution_count": null,
   "metadata": {},
   "outputs": [],
   "source": [
    "fac_pysheds"
   ]
  },
  {
   "cell_type": "markdown",
   "metadata": {
    "jp-MarkdownHeadingCollapsed": true,
    "tags": []
   },
   "source": [
    "## w/ TauDEM"
   ]
  },
  {
   "cell_type": "code",
   "execution_count": null,
   "metadata": {},
   "outputs": [],
   "source": [
    "fcpgtools.custom_types.Raster"
   ]
  },
  {
   "cell_type": "code",
   "execution_count": null,
   "metadata": {},
   "outputs": [],
   "source": [
    "# NOTE: you can query possible kwargs for any terrain_engine function using the following function\n",
    "fcpgtools.check_function_kwargs(fcpgtools.accumulate_flow, engine='taudem')"
   ]
  },
  {
   "cell_type": "code",
   "execution_count": null,
   "metadata": {},
   "outputs": [],
   "source": [
    "%%time\n",
    "fac_taudem = fcpgtools.accumulate_flow(\n",
    "    d8_fdr=us_fdr,\n",
    "    engine='taudem',\n",
    "    upstream_pour_points=None,\n",
    "    )\n",
    "print(f'TauDEM FAC nodata value: {fac_taudem.rio.nodata}')"
   ]
  },
  {
   "cell_type": "code",
   "execution_count": null,
   "metadata": {},
   "outputs": [],
   "source": [
    "print(fac_taudem.dtype)\n",
    "fac_taudem"
   ]
  },
  {
   "cell_type": "code",
   "execution_count": null,
   "metadata": {},
   "outputs": [],
   "source": [
    "%matplotlib widget\n",
    "np.log(fac_taudem).plot()"
   ]
  },
  {
   "cell_type": "markdown",
   "metadata": {
    "jp-MarkdownHeadingCollapsed": true,
    "tags": []
   },
   "source": [
    "# Get HUC basin pour point locations and accumulation values\n",
    "`tools.get_pour_point_values()` -> `custom_types.PourPointValuesDict`, which has the following form:\n",
    "```python\n",
    "# index positions in each dict.values() list corresponds to the basin ID\n",
    "pour_point_values_dict = {\n",
    "    'pour_point_ids': ['140700061105', '140700070706'], # each basin ID\n",
    "    'pour_point_coords': [(-1370609.9, 1648259.9), (-1375289.9, 1653809.9)], # x, y coordinates of each basin's pour point\n",
    "    'pour_point_values': [[32738.0], [8721.0]] # the value at the pour point -> will have multiple values for a multi-band paramaeter accumulation\n",
    "}\n",
    "```"
   ]
  },
  {
   "cell_type": "markdown",
   "metadata": {
    "tags": []
   },
   "source": [
    "## HUC12 basin"
   ]
  },
  {
   "cell_type": "code",
   "execution_count": null,
   "metadata": {},
   "outputs": [],
   "source": [
    "%%time\n",
    "huc12_pour_points_loc = fcpgtools.find_basin_pour_points(\n",
    "            fac_pysheds,\n",
    "            us_basin_shp,\n",
    "            basin_id_field='HUC12',\n",
    "            use_huc4=False,\n",
    "            )\n",
    "\n",
    "huc12_pour_point_values_dict = fcpgtools.get_pour_point_values(\n",
    "            huc12_pour_points_loc,\n",
    "            fac_pysheds,\n",
    "            )\n",
    "display(huc12_pour_point_values_dict)"
   ]
  },
  {
   "cell_type": "markdown",
   "metadata": {
    "tags": []
   },
   "source": [
    "## HUC4 basin"
   ]
  },
  {
   "cell_type": "code",
   "execution_count": null,
   "metadata": {},
   "outputs": [],
   "source": [
    "%%time\n",
    "huc4_pour_points_loc = fcpgtools.find_basin_pour_points(\n",
    "            fac_pysheds,\n",
    "            us_basin_shp,\n",
    "            basin_id_field='HUC12',\n",
    "            use_huc4=True,\n",
    "            )\n",
    "\n",
    "huc4_pour_point_values_dict = fcpgtools.get_pour_point_values(\n",
    "            huc4_pour_points_loc,\n",
    "            fac_pysheds,\n",
    "            )\n",
    "display(huc4_pour_point_values_dict)"
   ]
  },
  {
   "cell_type": "markdown",
   "metadata": {
    "tags": []
   },
   "source": [
    "# Make Daymet parameter accumulation grid"
   ]
  },
  {
   "cell_type": "markdown",
   "metadata": {
    "tags": []
   },
   "source": [
    "## w/ PySheds"
   ]
  },
  {
   "cell_type": "markdown",
   "metadata": {
    "tags": []
   },
   "source": [
    "### Annual averaged (single-band)"
   ]
  },
  {
   "cell_type": "code",
   "execution_count": null,
   "metadata": {},
   "outputs": [],
   "source": [
    "%%time\n",
    "daymet_single_accum = fcpgtools.accumulate_parameter( \n",
    "    d8_fdr=us_fdr,\n",
    "    parameter_raster=aligned_daymet_single,\n",
    "    engine='pysheds',\n",
    "    )\n",
    "daymet_single_accum"
   ]
  },
  {
   "cell_type": "code",
   "execution_count": null,
   "metadata": {},
   "outputs": [],
   "source": [
    "%matplotlib widget\n",
    "np.log(daymet_single_accum).plot()"
   ]
  },
  {
   "cell_type": "markdown",
   "metadata": {
    "tags": []
   },
   "source": [
    "### Monthly averaged (multi-band)"
   ]
  },
  {
   "cell_type": "code",
   "execution_count": null,
   "metadata": {},
   "outputs": [],
   "source": [
    "%%time\n",
    "daymet_multi_accum = fcpgtools.accumulate_parameter( \n",
    "    d8_fdr=us_fdr,\n",
    "    parameter_raster=aligned_daymet_multi,\n",
    "    engine='pysheds',\n",
    "    )\n",
    "daymet_multi_accum"
   ]
  },
  {
   "cell_type": "code",
   "execution_count": null,
   "metadata": {},
   "outputs": [],
   "source": [
    "for band in range(len(daymet_multi_accum[daymet_multi_accum.dims[0]])):\n",
    "    print(f'Mean month={band + 1} accumulation: {daymet_multi_accum[band].mean()}')"
   ]
  },
  {
   "cell_type": "code",
   "execution_count": null,
   "metadata": {},
   "outputs": [],
   "source": [
    "%matplotlib widget\n",
    "np.log(daymet_multi_accum[7]).plot()"
   ]
  },
  {
   "cell_type": "markdown",
   "metadata": {
    "tags": []
   },
   "source": [
    "## w/ TauDEM"
   ]
  },
  {
   "cell_type": "markdown",
   "metadata": {},
   "source": [
    "### Annual averaged (single-band)"
   ]
  },
  {
   "cell_type": "code",
   "execution_count": null,
   "metadata": {},
   "outputs": [],
   "source": [
    "%%time\n",
    "daymet_single_accum_taudem = fcpgtools.accumulate_parameter( \n",
    "    d8_fdr=us_fdr,\n",
    "    parameter_raster=aligned_daymet_single,\n",
    "    engine='taudem',\n",
    "    )\n",
    "daymet_single_accum_taudem"
   ]
  },
  {
   "cell_type": "code",
   "execution_count": null,
   "metadata": {},
   "outputs": [],
   "source": [
    "%matplotlib widget\n",
    "np.log(daymet_single_accum_taudem).plot()"
   ]
  },
  {
   "cell_type": "markdown",
   "metadata": {},
   "source": [
    "### Monthly averaged (multi-band)"
   ]
  },
  {
   "cell_type": "code",
   "execution_count": null,
   "metadata": {},
   "outputs": [],
   "source": [
    "%%time\n",
    "daymet_multi_accum_taudem = fcpgtools.accumulate_parameter( \n",
    "    d8_fdr=us_fdr,\n",
    "    parameter_raster=aligned_daymet_multi,\n",
    "    engine='taudem',\n",
    "    )\n",
    "daymet_multi_accum_taudem"
   ]
  },
  {
   "cell_type": "code",
   "execution_count": null,
   "metadata": {},
   "outputs": [],
   "source": [
    "%matplotlib widget\n",
    "np.log(daymet_multi_accum_taudem[0]).plot()"
   ]
  },
  {
   "cell_type": "code",
   "execution_count": null,
   "metadata": {},
   "outputs": [],
   "source": [
    "# note that in the raw data months 5 and 11 are all zeros so should be zero\n",
    "for band in range(len(daymet_multi_accum_taudem[daymet_multi_accum_taudem.dims[0]])):\n",
    "    print(f'Mean month={band + 1} accumulation: {daymet_multi_accum_taudem[band].mean()}')"
   ]
  },
  {
   "cell_type": "markdown",
   "metadata": {
    "tags": []
   },
   "source": [
    "# Make landcover accumulation raster"
   ]
  },
  {
   "cell_type": "markdown",
   "metadata": {
    "tags": []
   },
   "source": [
    "## w/ PySheds"
   ]
  },
  {
   "cell_type": "code",
   "execution_count": null,
   "metadata": {},
   "outputs": [],
   "source": [
    "%%time\n",
    "landcover_accum_pysheds = fcpgtools.accumulate_parameter( \n",
    "    d8_fdr=us_fdr,\n",
    "    parameter_raster=binary_landcover,\n",
    "    engine='pysheds',\n",
    "    )\n",
    "landcover_accum_pysheds"
   ]
  },
  {
   "cell_type": "code",
   "execution_count": null,
   "metadata": {},
   "outputs": [],
   "source": [
    "%matplotlib widget\n",
    "np.log(landcover_accum_pysheds[8]).plot()"
   ]
  },
  {
   "cell_type": "code",
   "execution_count": null,
   "metadata": {},
   "outputs": [],
   "source": [
    "for band in list(landcover_accum_pysheds[landcover_accum_pysheds.dims[0]]):\n",
    "    print(f'Landcover class={band} accumulation: {landcover_accum_pysheds.sel(band=band).mean()}')"
   ]
  },
  {
   "cell_type": "markdown",
   "metadata": {
    "tags": []
   },
   "source": [
    "## w/ TauDEM"
   ]
  },
  {
   "cell_type": "code",
   "execution_count": null,
   "metadata": {},
   "outputs": [],
   "source": [
    "%%time\n",
    "landcover_accum_taudem = fcpgtools.accumulate_parameter( \n",
    "    d8_fdr=us_fdr,\n",
    "    parameter_raster=binary_landcover,\n",
    "    engine='taudem',\n",
    "    )\n",
    "landcover_accum_taudem"
   ]
  },
  {
   "cell_type": "code",
   "execution_count": null,
   "metadata": {},
   "outputs": [],
   "source": [
    "for band in range(len(landcover_accum_taudem[landcover_accum_taudem.dims[0]])):\n",
    "    print(f'Mean landcover class={band + 1} accumulation: {landcover_accum_taudem[band].mean()}')"
   ]
  },
  {
   "cell_type": "markdown",
   "metadata": {
    "jp-MarkdownHeadingCollapsed": true,
    "tags": []
   },
   "source": [
    "# Create basic FCPGs"
   ]
  },
  {
   "cell_type": "code",
   "execution_count": null,
   "metadata": {},
   "outputs": [],
   "source": [
    "%%time\n",
    "fcpg = fcpgtools.make_fcpg(daymet_multi_accum_taudem, fac_taudem)"
   ]
  },
  {
   "cell_type": "code",
   "execution_count": null,
   "metadata": {},
   "outputs": [],
   "source": [
    "%matplotlib widget\n",
    "fcpg[7].plot()"
   ]
  },
  {
   "cell_type": "code",
   "execution_count": null,
   "metadata": {},
   "outputs": [],
   "source": [
    "# note that in the raw data months 5 and 11 are all zeros so should be zero\n",
    "for band in range(len(fcpg[fcpg.dims[0]])):\n",
    "    print(f'Mean month={band + 1} fcpg value: {fcpg[band].mean()}')"
   ]
  },
  {
   "cell_type": "markdown",
   "metadata": {
    "tags": []
   },
   "source": [
    "# Make extream upslope value raster (TauDEM only)"
   ]
  },
  {
   "cell_type": "code",
   "execution_count": null,
   "metadata": {},
   "outputs": [],
   "source": [
    "%%time\n",
    "ext_upslope_raster = fcpgtools.extreme_upslope_values(\n",
    "    d8_fdr=us_fdr,\n",
    "    parameter_raster=aligned_daymet_multi,\n",
    "    engine='taudem',\n",
    "    mask_streams=None,\n",
    "    get_min_upslope=False,\n",
    "    )"
   ]
  },
  {
   "cell_type": "code",
   "execution_count": null,
   "metadata": {},
   "outputs": [],
   "source": [
    "%matplotlib widget\n",
    "ext_upslope_raster[0].plot()"
   ]
  },
  {
   "cell_type": "markdown",
   "metadata": {
    "tags": []
   },
   "source": [
    "# Make distance to stream raster (TauDEM only)"
   ]
  },
  {
   "cell_type": "code",
   "execution_count": null,
   "metadata": {},
   "outputs": [],
   "source": [
    "dis2stream = fcpgtools.distance_to_stream(\n",
    "    us_fdr,\n",
    "    fac_taudem,\n",
    "    accum_threshold=500,\n",
    "    engine='taudem',\n",
    "    )"
   ]
  },
  {
   "cell_type": "code",
   "execution_count": null,
   "metadata": {},
   "outputs": [],
   "source": [
    "%matplotlib widget\n",
    "np.log(dis2stream).plot()"
   ]
  },
  {
   "cell_type": "markdown",
   "metadata": {
    "tags": []
   },
   "source": [
    "# Make a decay accumulation raster (TauDEM only)"
   ]
  },
  {
   "cell_type": "markdown",
   "metadata": {},
   "source": [
    "## Make decay raster from the distance to stream raster (decay constant = 2)"
   ]
  },
  {
   "cell_type": "code",
   "execution_count": null,
   "metadata": {},
   "outputs": [],
   "source": [
    "%%time\n",
    "decay_raster = fcpgtools.make_decay_raster(\n",
    "    distance_to_stream_raster=dis2stream,\n",
    "    decay_factor=2,\n",
    "    )"
   ]
  },
  {
   "cell_type": "markdown",
   "metadata": {},
   "source": [
    "## Use the decay raster to alter precipitation accumulation (TauDEM only)"
   ]
  },
  {
   "cell_type": "code",
   "execution_count": null,
   "metadata": {},
   "outputs": [],
   "source": [
    "%%time\n",
    "decay_accum = fcpgtools.decay_accumulation(\n",
    "    us_fdr,\n",
    "    decay_raster=decay_raster,\n",
    "    parameter_raster=aligned_daymet_multi,\n",
    "    engine='taudem',\n",
    "    )"
   ]
  },
  {
   "cell_type": "code",
   "execution_count": null,
   "metadata": {},
   "outputs": [],
   "source": [
    "%matplotlib widget\n",
    "decay_raster.plot()"
   ]
  },
  {
   "cell_type": "code",
   "execution_count": null,
   "metadata": {},
   "outputs": [],
   "source": [
    "%matplotlib widget\n",
    "np.log(decay_accum[0]).plot()"
   ]
  },
  {
   "cell_type": "markdown",
   "metadata": {},
   "source": [
    "# Demonstration of using pour points to \"cascade\" accumulation from one basin to another"
   ]
  },
  {
   "cell_type": "markdown",
   "metadata": {},
   "source": [
    "## Get the full FAC's outpur pour point to cascade to the downstream basin"
   ]
  },
  {
   "cell_type": "code",
   "execution_count": null,
   "metadata": {},
   "outputs": [],
   "source": [
    "fac_pour_point = fcpgtools.find_fac_pour_point(\n",
    "    fac_taudem,\n",
    "    basin_name='upstream_fac',\n",
    "    )"
   ]
  },
  {
   "cell_type": "code",
   "execution_count": null,
   "metadata": {},
   "outputs": [],
   "source": [
    "fac_pour_point_values = fcpgtools.get_pour_point_values(\n",
    "    fac_pour_point,\n",
    "    fac_taudem,\n",
    "    )\n",
    "display(fac_pour_point_values)"
   ]
  },
  {
   "cell_type": "code",
   "execution_count": null,
   "metadata": {},
   "outputs": [],
   "source": [
    "%matplotlib widget\n",
    "fac_taudem.plot()"
   ]
  },
  {
   "cell_type": "markdown",
   "metadata": {},
   "source": [
    "## Convert the downstream basin FDR to TauDEM format"
   ]
  },
  {
   "cell_type": "code",
   "execution_count": null,
   "metadata": {},
   "outputs": [],
   "source": [
    "%matplotlib widget\n",
    "ds_fdr_taudem = fcpgtools.convert_fdr_formats(\n",
    "    ds_fdr,\n",
    "    out_format='taudem',\n",
    "    )\n",
    "ds_fdr_taudem.plot()"
   ]
  },
  {
   "cell_type": "markdown",
   "metadata": {
    "tags": []
   },
   "source": [
    "## Cascade upstream accumulation to the downstream basin"
   ]
  },
  {
   "cell_type": "code",
   "execution_count": null,
   "metadata": {},
   "outputs": [],
   "source": [
    "%%time\n",
    "ds_accumulate = fcpgtools.accumulate_flow(\n",
    "    ds_fdr_taudem,\n",
    "    engine='taudem',\n",
    "    upstream_pour_points=fac_pour_point_values,\n",
    ")"
   ]
  },
  {
   "cell_type": "code",
   "execution_count": null,
   "metadata": {},
   "outputs": [],
   "source": [
    "%matplotlib widget\n",
    "np.log(ds_accumulate).plot()"
   ]
  },
  {
   "cell_type": "code",
   "execution_count": null,
   "metadata": {},
   "outputs": [],
   "source": [
    "# test that the pour point is updated\n",
    "updated_coords = fcpgtools.utilities._find_downstream_cell(\n",
    "    ds_fdr_taudem,\n",
    "    fac_pour_point_values['pour_point_coords'][0])\n",
    "us_val = fac_pour_point_values['pour_point_values'][0][0]\n",
    "print(f'Cascaded amoutn from upstream: {us_val}')\n",
    "ds_val = fcpgtools.utilities._query_point(\n",
    "    ds_accumulate,\n",
    "    updated_coords,\n",
    "    )[-1]\n",
    "print(f'Value of cell downstream from the upstream pour point: {ds_val}')\n",
    "print('If the numbers above are not very simular there is likely an issue!')"
   ]
  },
  {
   "cell_type": "markdown",
   "metadata": {},
   "source": [
    "## Cascade upstream precipitation to the downstream basin\n",
    "This tests the multi-dimensional cascade functionality."
   ]
  },
  {
   "cell_type": "code",
   "execution_count": null,
   "metadata": {},
   "outputs": [],
   "source": [
    "precip_pour_point_values = fcpgtools.get_pour_point_values(\n",
    "    fac_pour_point,\n",
    "    daymet_multi_accum_taudem,\n",
    "    )\n",
    "display(precip_pour_point_values)"
   ]
  },
  {
   "cell_type": "markdown",
   "metadata": {
    "tags": []
   },
   "source": [
    "### Pull in downstream precipitation and align with the downstream FDR"
   ]
  },
  {
   "cell_type": "code",
   "execution_count": null,
   "metadata": {},
   "outputs": [],
   "source": [
    "ds_bounding_box = list(fcpgtools.reproject_raster(ds_fdr_taudem, us_basin_shp).rio.bounds())\n",
    "ds_bounding_box"
   ]
  },
  {
   "cell_type": "code",
   "execution_count": null,
   "metadata": {},
   "outputs": [],
   "source": [
    "%%time\n",
    "daymet_multi_ds = pydaymet.get_bygeom(ds_bounding_box,\n",
    "    crs=us_basin_shp.crs.to_wkt(),\n",
    "    dates=(\"2021-01-01\", \"2021-12-30\"),\n",
    "    variables='prcp',\n",
    "    time_scale=\"monthly\",\n",
    "    )['prcp']\n",
    "daymet_multi_ds"
   ]
  },
  {
   "cell_type": "code",
   "execution_count": null,
   "metadata": {},
   "outputs": [],
   "source": [
    "daymet_multi_ds_aligned = fcpgtools.align_raster(daymet_multi_ds, ds_fdr_taudem)"
   ]
  },
  {
   "cell_type": "code",
   "execution_count": null,
   "metadata": {},
   "outputs": [],
   "source": [
    "%matplotlib widget\n",
    "daymet_multi_ds_aligned[0].plot()"
   ]
  },
  {
   "cell_type": "markdown",
   "metadata": {},
   "source": [
    "### Cascade the upstream multi-dimensional precipitation downstream!"
   ]
  },
  {
   "cell_type": "code",
   "execution_count": null,
   "metadata": {},
   "outputs": [],
   "source": [
    "%%time\n",
    "ds_precip_accum = fcpgtools.accumulate_parameter(\n",
    "    ds_fdr_taudem,\n",
    "    daymet_multi_ds_aligned,\n",
    "    engine='taudem',\n",
    "    upstream_pour_points=precip_pour_point_values,\n",
    "    )"
   ]
  },
  {
   "cell_type": "code",
   "execution_count": null,
   "metadata": {},
   "outputs": [],
   "source": [
    "# verify that we updated the parameter grid\n",
    "updated_coords_precip = fcpgtools.utilities._find_downstream_cell(\n",
    "    ds_fdr_taudem,\n",
    "    precip_pour_point_values['pour_point_coords'][0])\n",
    "us_precip_val = precip_pour_point_values['pour_point_values'][0][0]\n",
    "print(f'Cascaded amount from upstream: {us_precip_val}')\n",
    "ds_precip_val = fcpgtools.utilities._query_point(\n",
    "    ds_precip_accum,\n",
    "    updated_coords_precip,\n",
    "    )[-1]\n",
    "print(f'Value of cell downstream from the upstream pour point: {ds_precip_val}')\n",
    "print('If the numbers above are not very simular there is likely an issue!')"
   ]
  },
  {
   "cell_type": "code",
   "execution_count": null,
   "metadata": {},
   "outputs": [],
   "source": [
    "%matplotlib widget\n",
    "ds_precip_accum[0].plot()"
   ]
  },
  {
   "cell_type": "markdown",
   "metadata": {},
   "source": [
    "### Make downstream precipitation FCPG including cascaded values from upstream"
   ]
  },
  {
   "cell_type": "code",
   "execution_count": null,
   "metadata": {},
   "outputs": [],
   "source": [
    "%%time\n",
    "ds_fcpg = fcpgtools.make_fcpg(\n",
    "    ds_precip_accum,\n",
    "    ds_accumulate,\n",
    "    )"
   ]
  },
  {
   "cell_type": "code",
   "execution_count": null,
   "metadata": {},
   "outputs": [],
   "source": [
    "%matplotlib widget\n",
    "ds_fcpg[0].plot()"
   ]
  },
  {
   "cell_type": "code",
   "execution_count": null,
   "metadata": {},
   "outputs": [],
   "source": []
  }
 ],
 "metadata": {
  "kernelspec": {
   "display_name": "fcpgtools_base",
   "language": "python",
   "name": "python3"
  },
  "language_info": {
   "codemirror_mode": {
    "name": "ipython",
    "version": 3
   },
   "file_extension": ".py",
   "mimetype": "text/x-python",
   "name": "python",
   "nbconvert_exporter": "python",
   "pygments_lexer": "ipython3",
   "version": "3.9.15"
  },
  "toc-autonumbering": true,
  "vscode": {
   "interpreter": {
    "hash": "b2df1350c5e8a69388524555059e1d16f778c5a2d4a3782f1318752294ac923d"
   }
  }
 },
 "nbformat": 4,
 "nbformat_minor": 4
}
