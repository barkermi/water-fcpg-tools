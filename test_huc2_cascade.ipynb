{
 "cells": [
  {
   "cell_type": "code",
   "execution_count": 1,
   "metadata": {},
   "outputs": [],
   "source": [
    "#import rasterio as rs\n",
    "#import numpy as np\n",
    "#import matplotlib.pyplot as plt\n",
    "import FCPGtools as cpg"
   ]
  },
  {
   "cell_type": "code",
   "execution_count": 2,
   "metadata": {},
   "outputs": [],
   "source": [
    "upstreamFDRflesri = './data/NHDPlusV21_CO_14_14a_FdrFac_01/NHDPlusCO/NHDPlus14/NHDPlusFdrFac14a/fd/hdr.adf'\n",
    "downstreamFDRflesri = './data/NHDPlusV21_CO_15_15b_FdrFac_01/NHDPlusCO/NHDPlus15/NHDPlusFdrFac15b/fdr/hdr.adf'\n",
    "\n",
    "upstreamFACfltau = './data/14a_fac.tif'\n",
    "upstreamFDRfltau = './data/14a_fdr.tif'\n",
    "downstreamFACfltau = './data/15b_fac.tif'\n",
    "downstreamFDRfltau = './data/15b_fdr.tif'"
   ]
  },
  {
   "cell_type": "code",
   "execution_count": 3,
   "metadata": {},
   "outputs": [
    {
     "ename": "AssertionError",
     "evalue": "inRast not found",
     "output_type": "error",
     "traceback": [
      "\u001b[0;31m---------------------------------------------------------------------------\u001b[0m",
      "\u001b[0;31mAssertionError\u001b[0m                            Traceback (most recent call last)",
      "\u001b[0;32m<ipython-input-3-c8decf3e67eb>\u001b[0m in \u001b[0;36m<module>\u001b[0;34m\u001b[0m\n\u001b[0;32m----> 1\u001b[0;31m \u001b[0mcpg\u001b[0m\u001b[0;34m.\u001b[0m\u001b[0mtauDrainDir\u001b[0m\u001b[0;34m(\u001b[0m\u001b[0mupstreamFDRflesri\u001b[0m\u001b[0;34m,\u001b[0m \u001b[0mupstreamFDRfltau\u001b[0m\u001b[0;34m)\u001b[0m\u001b[0;34m\u001b[0m\u001b[0;34m\u001b[0m\u001b[0m\n\u001b[0m\u001b[1;32m      2\u001b[0m \u001b[0mcpg\u001b[0m\u001b[0;34m.\u001b[0m\u001b[0mtauDrainDir\u001b[0m\u001b[0;34m(\u001b[0m\u001b[0mdownstreamFDRflesri\u001b[0m\u001b[0;34m,\u001b[0m \u001b[0mdownstreamFDRfltau\u001b[0m\u001b[0;34m)\u001b[0m\u001b[0;34m\u001b[0m\u001b[0;34m\u001b[0m\u001b[0m\n",
      "\u001b[0;32m/mnt/c/Users/tbarnhart/projects/FCPGtools/FCPGtools/tools.py\u001b[0m in \u001b[0;36mtauDrainDir\u001b[0;34m(inRast, outRast, updateDict)\u001b[0m\n\u001b[1;32m     67\u001b[0m         \u001b[0mReclassified\u001b[0m \u001b[0mflow\u001b[0m \u001b[0mdirection\u001b[0m \u001b[0mraster\u001b[0m \u001b[0mat\u001b[0m \u001b[0mthe\u001b[0m \u001b[0mpath\u001b[0m \u001b[0mspecified\u001b[0m \u001b[0mabove\u001b[0m\u001b[0;34m.\u001b[0m\u001b[0;34m\u001b[0m\u001b[0;34m\u001b[0m\u001b[0m\n\u001b[1;32m     68\u001b[0m     \"\"\"\n\u001b[0;32m---> 69\u001b[0;31m     \u001b[0;32massert\u001b[0m \u001b[0mos\u001b[0m\u001b[0;34m.\u001b[0m\u001b[0mpath\u001b[0m\u001b[0;34m.\u001b[0m\u001b[0misfile\u001b[0m\u001b[0;34m(\u001b[0m\u001b[0minRast\u001b[0m\u001b[0;34m)\u001b[0m\u001b[0;34m==\u001b[0m\u001b[0;32mTrue\u001b[0m\u001b[0;34m,\u001b[0m \u001b[0;34m'inRast not found'\u001b[0m\u001b[0;34m\u001b[0m\u001b[0;34m\u001b[0m\u001b[0m\n\u001b[0m\u001b[1;32m     70\u001b[0m \u001b[0;34m\u001b[0m\u001b[0m\n\u001b[1;32m     71\u001b[0m     \u001b[0mprint\u001b[0m\u001b[0;34m(\u001b[0m\u001b[0;34m'Reclassifying Flow Directions...'\u001b[0m\u001b[0;34m)\u001b[0m\u001b[0;34m\u001b[0m\u001b[0;34m\u001b[0m\u001b[0m\n",
      "\u001b[0;31mAssertionError\u001b[0m: inRast not found"
     ]
    }
   ],
   "source": [
    "cpg.tauDrainDir(upstreamFDRflesri, upstreamFDRfltau)\n",
    "cpg.tauDrainDir(downstreamFDRflesri, downstreamFDRfltau)"
   ]
  },
  {
   "cell_type": "code",
   "execution_count": 4,
   "metadata": {},
   "outputs": [
    {
     "name": "stdout",
     "output_type": "stream",
     "text": [
      "Accumulating Data...\n",
      "mpiexec -bind-to rr -n 1 aread8 -p ./data/14a_fdr.tif -ad8 ./data/14a_fac.tif -nc\n"
     ]
    }
   ],
   "source": [
    "cpg.tauFlowAccum(upstreamFDRfltau, upstreamFACfltau)"
   ]
  },
  {
   "cell_type": "code",
   "execution_count": 5,
   "metadata": {},
   "outputs": [
    {
     "name": "stdout",
     "output_type": "stream",
     "text": [
      "Update dictionary found: ./data/huc14.json\n",
      "Updating dictionary...\n"
     ]
    },
    {
     "data": {
      "text/plain": [
       "{'14': {'x': ['-1371809.9999999995'],\n",
       "  'y': ['1647749.9999999963'],\n",
       "  'maxUpstreamFAC': ['183857900.0'],\n",
       "  'vars': ['maxUpstreamFAC']}}"
      ]
     },
     "execution_count": 5,
     "metadata": {},
     "output_type": "execute_result"
    }
   ],
   "source": [
    "# do some work to create the update dictionary\n",
    "x,y,d,w = cpg.findLastFACFD(upstreamFACfltau, upstreamFACfltau)\n",
    "#facMax = cpg.queryPoint(x,y,upstreamFACfltau)\n",
    "#dx,dy = cpg.FindDownstreamCellTauDir(d,x,y,w)\n",
    "cpg.createUpdateDict(x,y,d,'14','./data/huc14.json')"
   ]
  },
  {
   "cell_type": "code",
   "execution_count": 6,
   "metadata": {},
   "outputs": [],
   "source": [
    "cpg.makeFACweight(downstreamFDRfltau,'./data/downstream_test_FACweight.tif')"
   ]
  },
  {
   "cell_type": "code",
   "execution_count": 7,
   "metadata": {},
   "outputs": [
    {
     "name": "stdout",
     "output_type": "stream",
     "text": [
      "Updating FAC weighting grid with value from 14 FAC\n",
      "Accumulating Data...\n",
      "mpiexec -bind-to rr -n 8 aread8 -p ./data/15b_fdr.tif -ad8 ./data/ds_adjFAC.tif -wg ./data/downstream_test_FACweight.tif -nc\n"
     ]
    }
   ],
   "source": [
    "cpg.adjustFAC(downstreamFDRfltau, './data/downstream_test_FACweight.tif',\n",
    "              './data/huc14.json',downstreamFDRfltau,'./data/ds_adjFAC.tif',8)"
   ]
  },
  {
   "cell_type": "code",
   "execution_count": null,
   "metadata": {},
   "outputs": [],
   "source": []
  }
 ],
 "metadata": {
  "kernelspec": {
   "display_name": "Python 3",
   "language": "python",
   "name": "python3"
  },
  "language_info": {
   "codemirror_mode": {
    "name": "ipython",
    "version": 3
   },
   "file_extension": ".py",
   "mimetype": "text/x-python",
   "name": "python",
   "nbconvert_exporter": "python",
   "pygments_lexer": "ipython3",
   "version": "3.7.4"
  }
 },
 "nbformat": 4,
 "nbformat_minor": 2
}
