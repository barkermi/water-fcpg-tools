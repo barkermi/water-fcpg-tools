{
 "cells": [
  {
   "cell_type": "code",
   "execution_count": 1,
   "metadata": {},
   "outputs": [],
   "source": [
    "import rasterio as rs\n",
    "import numpy as np\n",
    "import matplotlib.pyplot as plt\n",
    "\n",
    "import tools as cpg"
   ]
  },
  {
   "cell_type": "code",
   "execution_count": 2,
   "metadata": {},
   "outputs": [],
   "source": [
    "upstreamFDRflesri = './data/NHDPlusV21_CO_14_14a_FdrFac_01/NHDPlusCO/NHDPlus14/NHDPlusFdrFac14a/fdr/hdr.adf'\n",
    "downstreamFDRflesri = './data/NHDPlusV21_CO_15_15b_FdrFac_01/NHDPlusCO/NHDPlus15/NHDPlusFdrFac15b/fdr/hdr.adf'\n",
    "\n",
    "upstreamFACfltau = './data/14a_fac.tif'\n",
    "upstreamFDRfltau = './data/14a_fdr.tif'\n",
    "downstreamFACfltau = './data/15b_fac.tif'\n",
    "downstreamFDRfltau = './data/15b_fdr.tif'"
   ]
  },
  {
   "cell_type": "code",
   "execution_count": 3,
   "metadata": {},
   "outputs": [
    {
     "name": "stdout",
     "output_type": "stream",
     "text": [
      "Reclassifying Flow Directions...\n",
      "TauDEM drainage direction written to: ./data/14a_fdr.tif\n",
      "Reclassifying Flow Directions...\n",
      "TauDEM drainage direction written to: ./data/15b_fdr.tif\n"
     ]
    }
   ],
   "source": [
    "cpg.tauDrainDir(upstreamFDRflesri, upstreamFDRfltau)\n",
    "cpg.tauDrainDir(downstreamFDRflesri, downstreamFDRfltau)"
   ]
  },
  {
   "cell_type": "code",
   "execution_count": 4,
   "metadata": {},
   "outputs": [
    {
     "name": "stdout",
     "output_type": "stream",
     "text": [
      "Accumulating Data...\n",
      "mpiexec -bind-to rr -n 1 aread8 -p ./data/14a_fdr.tif -ad8 ./data/14a_fac.tif -nc\n"
     ]
    }
   ],
   "source": [
    "cpg.tauFlowAccum(upstreamFDRfltau, upstreamFACfltau)"
   ]
  },
  {
   "cell_type": "code",
   "execution_count": 8,
   "metadata": {},
   "outputs": [
    {
     "name": "stdout",
     "output_type": "stream",
     "text": [
      "Update dictionary found: ./data/huc14.json\n",
      "Updating dictionary...\n"
     ]
    },
    {
     "data": {
      "text/plain": [
       "{'14': {'x': ['-1371809.9999999995'],\n",
       "  'y': ['1647749.9999999963'],\n",
       "  'maxUpstreamFAC': ['183857900.0'],\n",
       "  'vars': ['maxUpstreamFAC']}}"
      ]
     },
     "execution_count": 8,
     "metadata": {},
     "output_type": "execute_result"
    }
   ],
   "source": [
    "# do some work to create the update dictionary\n",
    "x,y,d,w = cpg.findLastFACFD(upstreamFACfltau, upstreamFACfltau)\n",
    "#facMax = cpg.queryPoint(x,y,upstreamFACfltau)\n",
    "#dx,dy = cpg.FindDownstreamCellTauDir(d,x,y,w)\n",
    "cpg.createUpdateDict(x,y,d,'14','./data/huc14.json')"
   ]
  },
  {
   "cell_type": "code",
   "execution_count": 12,
   "metadata": {},
   "outputs": [],
   "source": [
    "cpg.makeFACweight(downstreamFDRfltau,'./data/downstream_test_FACweight.tif')"
   ]
  },
  {
   "cell_type": "code",
   "execution_count": null,
   "metadata": {},
   "outputs": [
    {
     "name": "stdout",
     "output_type": "stream",
     "text": [
      "Updating FAC weighting grid with value from 14 FAC\n",
      "Accumulating Data...\n",
      "mpiexec -bind-to rr -n 8 aread8 -p ./data/15b_fdr.tif -ad8 ./data/ds_adjFAC.tif -wg ./data/downstream_test_FACweight.tif -nc\n"
     ]
    }
   ],
   "source": [
    "cpg.adjustFAC(downstreamFDRfltau, './data/downstream_test_FACweight.tif',\n",
    "              './data/huc14.json',downstreamFDRfltau,'./data/ds_adjFAC.tif',8)"
   ]
  },
  {
   "cell_type": "code",
   "execution_count": 55,
   "metadata": {},
   "outputs": [
    {
     "data": {
      "text/plain": [
       "30.0"
      ]
     },
     "execution_count": 55,
     "metadata": {},
     "output_type": "execute_result"
    }
   ],
   "source": [
    "w"
   ]
  },
  {
   "cell_type": "code",
   "execution_count": 40,
   "metadata": {},
   "outputs": [],
   "source": [
    "newx, newy = upFACsrc.xy(row,col)"
   ]
  },
  {
   "cell_type": "code",
   "execution_count": 25,
   "metadata": {},
   "outputs": [],
   "source": [
    "downFACsrc = rs.open(downstreamFACfl)\n",
    "dwnFAC = downFACsrc.read(1)"
   ]
  },
  {
   "cell_type": "code",
   "execution_count": 41,
   "metadata": {},
   "outputs": [],
   "source": [
    "ccx,ccy = downFACsrc.index(newx,newy)"
   ]
  },
  {
   "cell_type": "code",
   "execution_count": 47,
   "metadata": {},
   "outputs": [
    {
     "data": {
      "text/plain": [
       "[-1048829.9999999995]"
      ]
     },
     "execution_count": 47,
     "metadata": {},
     "output_type": "execute_result"
    }
   ],
   "source": [
    "newx"
   ]
  },
  {
   "cell_type": "code",
   "execution_count": 45,
   "metadata": {},
   "outputs": [
    {
     "data": {
      "text/plain": [
       "[27997]"
      ]
     },
     "execution_count": 45,
     "metadata": {},
     "output_type": "execute_result"
    }
   ],
   "source": [
    "ccy"
   ]
  },
  {
   "cell_type": "code",
   "execution_count": 50,
   "metadata": {},
   "outputs": [
    {
     "data": {
      "text/plain": [
       "[<matplotlib.lines.Line2D at 0x7f084c9c0590>]"
      ]
     },
     "execution_count": 50,
     "metadata": {},
     "output_type": "execute_result"
    },
    {
     "data": {
      "image/png": "[encoded data removed]",
      "text/plain": [
       "<Figure size 432x288 with 1 Axes>"
      ]
     },
     "metadata": {
      "needs_background": "light"
     },
     "output_type": "display_data"
    }
   ],
   "source": [
    "plt.pcolormesh(upFAC)\n",
    "plt.plot(col,row,'r.')"
   ]
  },
  {
   "cell_type": "code",
   "execution_count": 9,
   "metadata": {},
   "outputs": [
    {
     "data": {
      "text/plain": [
       "183886826"
      ]
     },
     "execution_count": 9,
     "metadata": {},
     "output_type": "execute_result"
    }
   ],
   "source": [
    "upFAC.read(1).max()"
   ]
  },
  {
   "cell_type": "code",
   "execution_count": 6,
   "metadata": {},
   "outputs": [
    {
     "data": {
      "text/plain": [
       "183886826"
      ]
     },
     "execution_count": 6,
     "metadata": {},
     "output_type": "execute_result"
    }
   ],
   "source": [
    "upFAC.max()"
   ]
  },
  {
   "cell_type": "code",
   "execution_count": null,
   "metadata": {},
   "outputs": [],
   "source": []
  }
 ],
 "metadata": {
  "kernelspec": {
   "display_name": "Python 3",
   "language": "python",
   "name": "python3"
  },
  "language_info": {
   "codemirror_mode": {
    "name": "ipython",
    "version": 3
   },
   "file_extension": ".py",
   "mimetype": "text/x-python",
   "name": "python",
   "nbconvert_exporter": "python",
   "pygments_lexer": "ipython3",
   "version": "3.7.4"
  }
 },
 "nbformat": 4,
 "nbformat_minor": 2
}
