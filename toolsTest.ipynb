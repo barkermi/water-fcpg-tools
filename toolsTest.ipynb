{
 "cells": [
  {
   "cell_type": "code",
   "execution_count": 7,
   "metadata": {},
   "outputs": [
    {
     "name": "stdout",
     "output_type": "stream",
     "text": [
      "Reclassifying Flow Directions\n",
      "TauDEM drainage direction written to: D:\\ssiefken\\CPGtools\\testBasins\\100500010101\\taufdr100500010101.tif\n"
     ]
    }
   ],
   "source": [
    "from tools import *\n",
    "\n",
    "#Windows\n",
    "#testFDR = r\"D:\\ssiefken\\CPGtools\\testBasins\\100500010101\\fdr100500010101.tif\"\n",
    "#testOutput = r\"D:\\ssiefken\\CPGtools\\testBasins\\100500010101\\taufdr100500010101.tif\"\n",
    "\n",
    "#Yeti\n",
    "testFDR = \"../100500010101/fdr100500010101.tif\"\n",
    "testOutput = \"../100500010101/work/taufdr100500010101.tif\"\n",
    "\n",
    "\n",
    "tauDrainDir(testFDR, testOutput)\n",
    "\n"
   ]
  },
  {
   "cell_type": "code",
   "execution_count": 5,
   "metadata": {},
   "outputs": [
    {
     "name": "stdout",
     "output_type": "stream",
     "text": [
      "D:\\ssiefken\\CPGtools\testBasins@500010101\f",
      "dr100500010101.tif\n"
     ]
    }
   ],
   "source": [
    "paramRast = \"../100500010101/dem100500010101.tif\"\n",
    "outRast = \"../100500010101/work/demAccum100500010101.tif\"\n",
    "\n",
    "accumulateParam(paramRast, testOutput, outRast, cores = 1)"
   ]
  },
  {
   "cell_type": "code",
   "execution_count": null,
   "metadata": {},
   "outputs": [],
   "source": []
  }
 ],
 "metadata": {
  "kernelspec": {
   "display_name": "Python 3",
   "language": "python",
   "name": "python3"
  },
  "language_info": {
   "codemirror_mode": {
    "name": "ipython",
    "version": 3
   },
   "file_extension": ".py",
   "mimetype": "text/x-python",
   "name": "python",
   "nbconvert_exporter": "python",
   "pygments_lexer": "ipython3",
   "version": "3.7.1"
  }
 },
 "nbformat": 4,
 "nbformat_minor": 2
}
