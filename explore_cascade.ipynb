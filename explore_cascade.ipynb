{
 "cells": [
  {
   "cell_type": "code",
   "execution_count": 166,
   "metadata": {},
   "outputs": [],
   "source": [
    "import tools as cpg\n",
    "import rasterio as rs\n",
    "from rasterio.mask import mask\n",
    "\n",
    "import matplotlib.pyplot as plt\n",
    "import numpy as np\n",
    "import os\n",
    "import geopandas as gpd\n",
    "import pandas as pd\n",
    "\n",
    "def getFeatures(gdf):\n",
    "    \"\"\"Function to parse features from GeoDataFrame in such a manner that rasterio wants them\"\"\"\n",
    "    import json\n",
    "    return [json.loads(gdf.to_json())['features'][0]['geometry']]\n",
    "\n",
    "def getHUC4(HUC12):\n",
    "    return HUC12[:4]\n",
    "\n",
    "def getToHUC4(toHUC12):\n",
    "    return toHUC12[:4]\n",
    "\n",
    "def makePourBasins(wbd,fromHUC4,toHUC4):\n",
    "    '''Make geodataframe of HUC12 basis flowing from fromHUC4 to toHUC4.\n",
    "    \n",
    "    Parameters\n",
    "    ----------\n",
    "    wbd : geodataframe\n",
    "        HUC12-level geodataframe projected to the same CRS as the FAC and FDR grids being used.\n",
    "    fromHUC4 : str\n",
    "        HUC4 string for the upstream basin.\n",
    "    toHUC4 : str\n",
    "        HUC string for the downstream basin.\n",
    "        \n",
    "    Returns\n",
    "    -------\n",
    "    pourBasins : geodataframe\n",
    "        HUC12-level geodataframe of units that drain from fromHUC4 to toHUC4.\n",
    "    '''\n",
    "    \n",
    "    wbd['HUC4'] = wbd.HUC12.map(getHUC4)\n",
    "    wbd['ToHUC4'] = wbd.ToHUC.map(getToHUC4)\n",
    "    \n",
    "    return wbd.loc[(wbd.HUC4 == fromHUC4) & (wbd.ToHUC4 == toHUC4)].copy()"
   ]
  },
  {
   "cell_type": "code",
   "execution_count": 93,
   "metadata": {},
   "outputs": [],
   "source": [
    "WBDfl = '../../gis_data/WBD_10_HU2_GDB/WBD_10_HU2_GDB.gdb'\n",
    "layer = 'WBDHU12'\n",
    "\n",
    "tmp = gpd.read_file(WBDfl, layer = layer)\n",
    "wbd = tmp.to_crs(\"+proj=aea +lat_1=29.5 +lat_2=45.5 +lat_0=23 +lon_0=-96 +x_0=0 +y_0=0 +ellps=GRS80 +towgs84=0,0,0,0,0,0,0 +units=m +no_defs\")"
   ]
  },
  {
   "cell_type": "code",
   "execution_count": 94,
   "metadata": {},
   "outputs": [],
   "source": [
    "wbd['HUC4'] = wbd.HUC12.map(getHUC4)\n",
    "wbd['ToHUC4'] = wbd.ToHUC.map(getToHUC4)"
   ]
  },
  {
   "cell_type": "code",
   "execution_count": 95,
   "metadata": {},
   "outputs": [],
   "source": [
    "hu1002 = wbd.loc[wbd.HUC4 == '1002']"
   ]
  },
  {
   "cell_type": "code",
   "execution_count": 96,
   "metadata": {},
   "outputs": [
    {
     "data": {
      "image/png": "[encoded data removed]",
      "text/plain": [
       "<Figure size 432x288 with 1 Axes>"
      ]
     },
     "metadata": {
      "needs_background": "light"
     },
     "output_type": "display_data"
    }
   ],
   "source": [
    "pourBasins = hu1002.loc[hu1002.ToHUC4 != '1002'].copy()\n",
    "pourBasins.plot('HUC12');"
   ]
  },
  {
   "cell_type": "code",
   "execution_count": 97,
   "metadata": {},
   "outputs": [
    {
     "data": {
      "text/plain": [
       "2945      City of Three Forks-Madison River\n",
       "3319               Rey Creek-Gallatin River\n",
       "3868    City of Three Forks-Jefferson River\n",
       "Name: Name, dtype: object"
      ]
     },
     "execution_count": 97,
     "metadata": {},
     "output_type": "execute_result"
    }
   ],
   "source": [
    "pourBasins['Name']"
   ]
  },
  {
   "cell_type": "code",
   "execution_count": 175,
   "metadata": {},
   "outputs": [],
   "source": [
    "\n",
    "def findPourPoints(pourBasins, upfacfl, upfdrfl, plotBasins = False):\n",
    "    '''Finds unique pour points between two HUC4s.\n",
    "    \n",
    "    Parameters\n",
    "    ----------\n",
    "    pourBasins : geodataframe\n",
    "        Geodataframe of the HUC12 basins that flow into the downstream HUC4. Used to clip the upstream FAC grid to identify pour points.\n",
    "    upfacfl : str (path)\n",
    "        Path to the upstream flow accumulation grid.\n",
    "    upfdrfl : str (path)\n",
    "        Path to the upstream tauDEM flow direction grid.\n",
    "    plotBasins : bool (False)\n",
    "        Boolean to make plots of upstream HUC12s and identified pour points.\n",
    "        \n",
    "    Returns\n",
    "    -------\n",
    "    finalPoints : list\n",
    "        List of tuples containing (x,y,w).\n",
    "    '''\n",
    "    pourPoints = []\n",
    "    for i in range(len(pourBasins)):\n",
    "        data = rs.open(upfacfl) # open the FAC grid\n",
    "\n",
    "        # make a shape out of the HUC boundary\n",
    "        row = pourBasins.iloc[[i]].copy()\n",
    "        row['geometry'] = row.buffer(50)\n",
    "\n",
    "        coords = getFeatures(row)\n",
    "\n",
    "        out_img, out_transform = mask(data, shapes=coords, crop=True) # get the raster for the HUC\n",
    "\n",
    "        cx,cy = np.where(out_img[0] == out_img[0].max()) # find the location of max values\n",
    "\n",
    "        w = out_img[0].max() # get the value to propagate to the downstream grid.\n",
    "\n",
    "        newx,newy = rs.transform.xy(out_transform,cx,cy) # convert the row, column locations to coordinates given the new affine\n",
    "\n",
    "        # zip the coordinates to points, when moved downstream, only one of these should land on a no data pixel\n",
    "        points = [(nx,ny) for nx,ny in zip(newx,newy)]\n",
    "\n",
    "        # test if a point lands on a noData pixel.\n",
    "        for point in points:\n",
    "            x,y = point\n",
    "            d = queryPoint(x,y,upfdrfl)\n",
    "            newx,newy = FindDownstreamCellTauDir(d,x,y,out_transform[0])\n",
    "\n",
    "            if queryPoint(newx,newy,upfacfl) == data.meta['nodata']:\n",
    "                pourPoints.append((x,y,w)) # keep the point if it does.\n",
    "    \n",
    "    if plotBasins:\n",
    "        ax = pourBasins.plot('Name')\n",
    "        for px,py,pw in pourPoints:\n",
    "            ax.scatter(px,py,c='k',s=20)\n",
    "    \n",
    "    # get the unique pour points...\n",
    "    xs,ys,ws = zip(*pourPoints)\n",
    "\n",
    "    xs = np.array(xs)\n",
    "    ys = np.array(ys)\n",
    "    ws = np.array(ws)\n",
    "\n",
    "    pts = []\n",
    "    for x,y,w in zip(xs,ys,ws):\n",
    "        pts.append(\"%s%s%s\"%(x,y,w))\n",
    "\n",
    "    idx = np.unique(pts,return_index=True)[1]\n",
    "    \n",
    "    # use the indicies to make a set of final pour points\n",
    "    finalPoints = []\n",
    "    for x,y,w in zip(xs[idx],ys[idx],ws[idx]):\n",
    "        finalPoints.append((x,y,w))\n",
    "        \n",
    "    return finalPoints"
   ]
  },
  {
   "cell_type": "code",
   "execution_count": 157,
   "metadata": {},
   "outputs": [
    {
     "data": {
      "image/png": "[encoded data removed]",
      "text/plain": [
       "<Figure size 432x288 with 1 Axes>"
      ]
     },
     "metadata": {
      "needs_background": "light"
     },
     "output_type": "display_data"
    }
   ],
   "source": [
    "finalPoints = findPourPoints(pourBasins,upfacfl, upfdrfl, plotBasins=True)"
   ]
  },
  {
   "cell_type": "code",
   "execution_count": 158,
   "metadata": {},
   "outputs": [
    {
     "data": {
      "text/plain": [
       "[(-1197660.0, 2647910.0, 46215576.0), (-1198810.0, 2646760.0, 120245860.0)]"
      ]
     },
     "execution_count": 158,
     "metadata": {},
     "output_type": "execute_result"
    }
   ],
   "source": [
    "finalPoints"
   ]
  },
  {
   "cell_type": "code",
   "execution_count": 54,
   "metadata": {},
   "outputs": [],
   "source": [
    "upstream = '1002' # upstream hydrologic region\n",
    "downstream = '1003' # downstream hydrologic region"
   ]
  },
  {
   "cell_type": "code",
   "execution_count": 55,
   "metadata": {},
   "outputs": [],
   "source": [
    "upfdrfl = '../data/cascade_data/%s/tauFDR.tif'%upstream\n",
    "dwnfdrfl = '../data/cascade_data/%s/tauFDR.tif'%downstream\n",
    "\n",
    "if not os.path.exists(upfdrfl):\n",
    "    cpg.tauDrainDir('../data/cascade_data/%s/fdr.tif'%upstream, upfdrfl)\n",
    "if not os.path.exists(dwnfdrfl):\n",
    "    cpg.tauDrainDir('../data/cascade_data/%s/fdr.tif'%downstream, dwnfdrfl)"
   ]
  },
  {
   "cell_type": "code",
   "execution_count": 56,
   "metadata": {},
   "outputs": [],
   "source": [
    "# upstream files\n",
    "upfacfl = '../data/cascade_data/%s/fac.tif'%(upstream)\n",
    "\n",
    "# downstream files\n",
    "dwnfacfl = '../data/cascade_data/%s/fac.tif'%(downstream)\n",
    "\n",
    "dwnnewfacsrcfl = '../data/cascade_data/%s/fac_weight.tiff'%(downstream) # file path for the weighting grid for \n",
    "dwnnewfacfl = '../data/cascade_data/%s/fac_corr.tiff'%(downstream) # filepath for the corrected FAC."
   ]
  },
  {
   "cell_type": "code",
   "execution_count": 10,
   "metadata": {},
   "outputs": [
    {
     "name": "stdout",
     "output_type": "stream",
     "text": [
      "Accumulating Data...\n",
      "mpiexec -bind-to rr -n 6 aread8 -p ../data/cascade_data/1002/tauFDR.tif -ad8 ../data/cascade_data/1002/fac.tif -nc\n",
      "Accumulating Data...\n",
      "mpiexec -bind-to rr -n 6 aread8 -p ../data/cascade_data/1003/tauFDR.tif -ad8 ../data/cascade_data/1003/fac.tif -nc\n"
     ]
    }
   ],
   "source": [
    "cpg.tauFlowAccum(upfdrfl,upfacfl,cores=6)\n",
    "cpg.tauFlowAccum(dwnfdrfl,dwnfacfl, cores=6)"
   ]
  },
  {
   "cell_type": "code",
   "execution_count": 66,
   "metadata": {},
   "outputs": [],
   "source": [
    "def loadRaster(fl, returnMeta = False):\n",
    "    try:\n",
    "        with rs.open(fl) as src:\n",
    "            dat = src.read(1)\n",
    "            meta = src.meta.copy()\n",
    "        \n",
    "        if returnMeta:\n",
    "            return dat, meta\n",
    "        else:\n",
    "            return dat\n",
    "    except:\n",
    "        print(\"Unable to open %s\"%(fl))"
   ]
  },
  {
   "cell_type": "code",
   "execution_count": 74,
   "metadata": {},
   "outputs": [],
   "source": [
    "def findLastFACFD(facfl, fl):\n",
    "    '''Find the coordinate of the greatest FAC cell, return the value from the upfl at that point.\n",
    "    \n",
    "    This can be used to find the flow direction of the FAC cell with the greatest accumulation, or the parameter value.\n",
    "    \n",
    "    Parameters\n",
    "    ----------\n",
    "    facfl : str (path)\n",
    "        Upstream FAC grid\n",
    "    fl : str (path)\n",
    "        Upstream \n",
    "    \n",
    "    Returns\n",
    "    -------\n",
    "    x : float\n",
    "        Horizontal coordinate of the greatest FAC cell.\n",
    "    y : float\n",
    "        Vertical coordinate of the greatest FAC cell.\n",
    "    d : int or float\n",
    "        Value from the parameter grid queried.\n",
    "    w : float\n",
    "        Cell size of the grid.\n",
    "    '''\n",
    "    \n",
    "    fac,meta = loadRaster(facfl,returnMeta=True) # load the fac file\n",
    "    dat = loadRaster(fl) # load the data file\n",
    "    \n",
    "    cx,cy = np.where(fac==fac.max()) # find the column, row cooridnates of the max fac.\n",
    "    print(\"%s,%s\"%(cx,cy))\n",
    "    d = dat[cx,cy][0] # query the parameter grid\n",
    "    \n",
    "    src = rs.open(facfl) # open the fac dataset\n",
    "    x,y = src.xy(cx,cy) # convert the column, row coordinates to map coordinates\n",
    "    \n",
    "    w = meta['transform'][0] # get the cell size of the grid\n",
    "    \n",
    "    return x[0],y[0],d,w\n",
    "\n",
    "def queryPoint(x,y,grd):\n",
    "    '''Query grid based on a supplied point.\n",
    "    \n",
    "    Parameters\n",
    "    ----------\n",
    "    x : float\n",
    "        Horizontal coordinate in grd projection.\n",
    "    y : float\n",
    "        Vertical coordinate in grd projection.\n",
    "    grd : str (path)\n",
    "        Path to raster to query based on the supplied x and y.\n",
    "        \n",
    "    Returns\n",
    "    -------\n",
    "    value : float or int\n",
    "        Value queried from the raster.\n",
    "    '''\n",
    "    \n",
    "    with rs.open(grd) as src:\n",
    "        for i in src.sample([(x,y)],1):\n",
    "            return i[0]"
   ]
  },
  {
   "cell_type": "code",
   "execution_count": 68,
   "metadata": {},
   "outputs": [],
   "source": [
    "def FindDownstreamCellTauDir(d,x,y,w):\n",
    "    '''Find downstream cell given the flow direction of a cell using TauDEM directions.\n",
    "    \n",
    "    Parameters\n",
    "    ----------\n",
    "    d : int\n",
    "        Flow direction of cell to find downstream cell of.\n",
    "    x : float\n",
    "        Horizontal coordinate (either projected or unprojected).\n",
    "    y : float\n",
    "        Vertical coordinate (either projected or unprojected).\n",
    "    w : float\n",
    "        Cell size in map units.\n",
    "        \n",
    "    Returns\n",
    "    -------\n",
    "    x : float\n",
    "        Horizontal coordinate of the downstream cell.\n",
    "    y : float\n",
    "        Verital coordinate of the downstream cell.\n",
    "    '''\n",
    "    \n",
    "    # figure out how to correct the point location\n",
    "    if d == 1: # east\n",
    "        dx = w\n",
    "        dy = 0.\n",
    "    elif d == 2: # northeast\n",
    "        dx = w\n",
    "        dy = w\n",
    "    elif d == 3: # north\n",
    "        dx = 0.\n",
    "        dy = w\n",
    "    elif d == 4: # northwest\n",
    "        dx = w*-1.\n",
    "        dy = w\n",
    "    elif d == 5: # west\n",
    "        dx = w*-1.\n",
    "        dy = 0.\n",
    "    elif d == 6: # southwest\n",
    "        dx = w*-1.\n",
    "        dy = w*-1.\n",
    "    elif d == 7: # south\n",
    "        dx = 0.\n",
    "        dy = w*-1.\n",
    "    elif d == 8: # southeast\n",
    "        dx = w\n",
    "        dy = w*-1.\n",
    "        \n",
    "    # update the location\n",
    "    newX = x+dx\n",
    "    newY = y+dy\n",
    "    \n",
    "    return newX,newY"
   ]
  },
  {
   "cell_type": "code",
   "execution_count": 69,
   "metadata": {},
   "outputs": [],
   "source": [
    "import json\n",
    "\n",
    "# Make it work for Python 2+3 and with Unicode\n",
    "import io\n",
    "try:\n",
    "    to_unicode = unicode\n",
    "except NameError:\n",
    "    to_unicode = str\n",
    "\n",
    "def saveJSON(dictionary, outfl):\n",
    "    '''Save dictionary to JSON file.\n",
    "    \n",
    "    Parameters\n",
    "    ----------\n",
    "    dictionary : dict\n",
    "        Dictionary to be saved.\n",
    "    outfl : str (path)\n",
    "        Path for where to generate the JSON\n",
    "        \n",
    "    Returns\n",
    "    -------\n",
    "    None\n",
    "    '''\n",
    "    # Write JSON file\n",
    "    with io.open(outfl, 'w', encoding='utf8') as outfile:\n",
    "        str_ = json.dumps(dictionary,\n",
    "                      indent=4, sort_keys=True,\n",
    "                      separators=(',', ': '), ensure_ascii=False)\n",
    "        outfile.write(to_unicode(str_))\n",
    "    \n",
    "    return None\n",
    "\n",
    "def loadJSON(infl):\n",
    "    '''Load dictionary stored in a JSON file.\n",
    "    \n",
    "    Parameters\n",
    "    ----------\n",
    "    infl : str (path)\n",
    "        Path to the JSON to be loaded.\n",
    "        \n",
    "    Returns\n",
    "    -------\n",
    "    dictionary : dict\n",
    "        Dictionary that was loaded.\n",
    "    '''\n",
    "    # Read JSON file\n",
    "    with open(infl) as data_file:\n",
    "        dictionary = json.load(data_file)\n",
    "    \n",
    "    return dictionary"
   ]
  },
  {
   "cell_type": "code",
   "execution_count": 159,
   "metadata": {},
   "outputs": [],
   "source": [
    "def createUpdateDict(x, y, upstreamFACmax, fromHUC, outfl):\n",
    "    '''Create a dictionary for updating downstream FAC and parameter grids using values pulled from the next grid upstream.\n",
    "    \n",
    "    Parameters\n",
    "    ----------\n",
    "    x : list\n",
    "        Horizontal coordinate(s) for where the update needs to happen in the downstream grid. \n",
    "    y : list\n",
    "        Vertical coordinate(s) for where the update needs to happen in the downstream grid.\n",
    "    upstreamFACmax : list\n",
    "        Value(s) to insert into the downstream FAC grid.\n",
    "    fromHUC : str\n",
    "        The upstream HUC that the values are coming from.\n",
    "    outfl : str (path)\n",
    "        Path to where to save the json of this dictionary. The convention is to name this by the downstream HUC.\n",
    "    \n",
    "    Returns\n",
    "    -------\n",
    "    updateDict : dict\n",
    "        Update dictionary\n",
    "    \n",
    "    Outputs\n",
    "    -------\n",
    "    updateDict : json (dict)\n",
    "        Update dictionary saved to a json at outfl.\n",
    "    '''\n",
    "    \n",
    "    # using lists instead of single values in case there are multiple pour points between basins\n",
    "    \n",
    "    # convert lists to strings\n",
    "    xs = [str(xx) for xx in x]\n",
    "    ys = [str(yy) for yy in y]\n",
    "    facs = [str(fac) for fac in upstreamFACmax]\n",
    "    \n",
    "    subDict = { # make dictionary for the upstream FAC\n",
    "        'x': xs,\n",
    "        'y': ys,\n",
    "        'maxUpstreamFAC':facs,\n",
    "        'vars':['maxUpstreamFAC'] # list of contained variables\n",
    "                }\n",
    "    \n",
    "    if os.path.exists(outfl): # if the update dictionary exists, update it.\n",
    "        print('Update dictionary found: %s'%outfl)\n",
    "        updateDict = loadJSON(outfl)\n",
    "        print('Updating dictionary...')\n",
    "        updateDict[fromHUC] = subDict\n",
    "    else:\n",
    "        updateDict = {\n",
    "            fromHUC : subDict\n",
    "        }\n",
    "        \n",
    "    saveJSON(updateDict, outfl)\n",
    "    \n",
    "    return updateDict"
   ]
  },
  {
   "cell_type": "code",
   "execution_count": 191,
   "metadata": {},
   "outputs": [],
   "source": [
    "def updateRaster(x,y,val,grd,outgrd):\n",
    "    '''Insert val into grd as location specified by x,y, writes to outgrd.\n",
    "    \n",
    "    Parameters\n",
    "    ----------\n",
    "    x : list or float\n",
    "    y : list of float\n",
    "        Vertical coordinate in map\n",
    "    val : int or float\n",
    "        Value to insert into grd\n",
    "    grd : str (path)\n",
    "        File path to read grd to update from.\n",
    "    outgrd : str (path)\n",
    "        File path to write output to.\n",
    "    \n",
    "    Returns\n",
    "    -------\n",
    "    None\n",
    "    \n",
    "    Output\n",
    "    ------\n",
    "    dat : raster\n",
    "        Writes raster dataset to supplied grdout destination.\n",
    "    '''\n",
    "    \n",
    "    if type(x) != list:\n",
    "        x = list(x)\n",
    "        \n",
    "    if type(y) != list:\n",
    "        y = list(y)\n",
    "        \n",
    "    if type(val) != list:\n",
    "        val = list(val)\n",
    "    \n",
    "    dat,meta = loadRaster(grd, returnMeta=True)\n",
    "    \n",
    "    with rs.open(grd) as src: # iterate over the supplied points \n",
    "        for xx,yy,vv in zip(x,y,val):\n",
    "            c,r = src.index(float(xx),float(yy)) # get column, row coordinates\n",
    "            dat[c,r] = int(float(vv)) # update the dataset\n",
    "            \n",
    "    meta.update({\n",
    "        'compress':'LZW',\n",
    "        'profile':'GeoTIFF',\n",
    "        'tiled':True,\n",
    "        'sparse_ok':True,\n",
    "        'num_threads':'ALL_CPUS',\n",
    "        'bigtiff':'IF_SAFER',\n",
    "        'driver' : \"GTiff\"\n",
    "    })\n",
    "            \n",
    "    with rs.open(outgrd,'w',**meta) as dst: # open dataset for output\n",
    "        dst.write(dat,1)\n",
    "    \n",
    "    return None\n",
    "\n",
    "def makeFACweight(ingrd,outWeight):\n",
    "    '''Make FAC weighting grid of ones based on the extents of the input grid. No data cells are persisted.\n",
    "    \n",
    "    Parameters\n",
    "    ----------\n",
    "    ingrd : str (path)\n",
    "    outWeight : str (path)\n",
    "    \n",
    "    Returns\n",
    "    -------\n",
    "    None\n",
    "    \n",
    "    Output\n",
    "    ------\n",
    "    outWeight : raster\n",
    "        Raster of the same extent and resolution as the input grid, but filled with ones where data exist. \n",
    "        No data cells are persisted.\n",
    "    '''\n",
    "    dat, meta = loadRaster(ingrd, returnMeta=True)\n",
    "    \n",
    "    ones = np.ones_like(dat, dtype=np.int32) # make a grid of ones shaped like the original FAC grid. These will be used\n",
    "    # as a weighting grid that can be corrected.\n",
    "    \n",
    "    ones[dat == meta['nodata']] = meta['nodata'] # persist the noData value into the grid\n",
    "    meta['dtype'] = ones.dtype # update the datatype\n",
    "    meta.update({\n",
    "        'compress':'LZW',\n",
    "        'profile':'GeoTIFF',\n",
    "        'tiled':True,\n",
    "        'sparse_ok':True,\n",
    "        'num_threads':'ALL_CPUS',\n",
    "        'bigtiff':'IF_SAFER',\n",
    "        'driver' : \"GTiff\"\n",
    "    })\n",
    "    \n",
    "    with rs.open(outWeight,'w',**meta) as dst:\n",
    "        dst.write(ones,1)\n",
    "    \n",
    "    return None"
   ]
  },
  {
   "cell_type": "code",
   "execution_count": 192,
   "metadata": {},
   "outputs": [
    {
     "name": "stdout",
     "output_type": "stream",
     "text": [
      "Update dictionary found: ../data/cascade_data/1003/updateDict.json\n",
      "Updating dictionary...\n"
     ]
    },
    {
     "data": {
      "text/plain": [
       "{'1002': {'x': ['-1197660.0', '-1198810.0'],\n",
       "  'y': ['2647910.0', '2646760.0'],\n",
       "  'maxUpstreamFAC': ['46215576.0', '120245860.0'],\n",
       "  'vars': ['maxUpstreamFAC']}}"
      ]
     },
     "execution_count": 192,
     "metadata": {},
     "output_type": "execute_result"
    },
    {
     "data": {
      "image/png": "[encoded data removed]",
      "text/plain": [
       "<Figure size 432x288 with 1 Axes>"
      ]
     },
     "metadata": {
      "needs_background": "light"
     },
     "output_type": "display_data"
    }
   ],
   "source": [
    "# Test finding facMAX and output to JSON\n",
    "\n",
    "updateDictFl = '../data/cascade_data/%s/updateDict.json'%downstream\n",
    "\n",
    "#x,y,d,w = findLastFACFD(upfacfl, upfdrfl) # get the fdr value\n",
    "#maxFAC = queryPoint(x,y,upfacfl) # get the maxFAC \n",
    "#newX,newY = FindDownstreamCellTauDir(d,x,y,w) # find the most upstream downstream cell.\n",
    "pourBasins = makePourBasins(wbd,'1002','1003')\n",
    "pourPoints = findPourPoints(pourBasins,upfacfl, upfdrfl, plotBasins = True)\n",
    "newX,newY,maxFAC = zip(*pourPoints)\n",
    "createUpdateDict(list(newX),list(newY),list(maxFAC),upstream,updateDictFl)"
   ]
  },
  {
   "cell_type": "code",
   "execution_count": 195,
   "metadata": {
    "scrolled": true
   },
   "outputs": [],
   "source": [
    "downstreamFACweightFl = \"../data/cascade_data/%s/facWeight.tif\"%(downstream)\n",
    "downstreamFACFl = \"../data/cascade_data/%s/fac.tif\"%(downstream)\n",
    "\n",
    "def adjustFAC(facWeighttemplate, downstreamFACweightFl, updateDictFl, downstreamFDRFl, adjFACFl, cores=1):\n",
    "    '''Generate updated FAC given an update dictionary.\n",
    "    \n",
    "    Parameters\n",
    "    ----------\n",
    "    facWeighttemplate : str (path)\n",
    "        Path to a FDR or FAC grid used to make the FAC weighting grid.\n",
    "    downstreamFACweightFl : str (path)\n",
    "        Path to output the FAC weighting grid.\n",
    "    updateDictFl : str (path)\n",
    "        Path to update dictionary used to update the FAC weighting grid.\n",
    "    downstreamFDRFl : str (path)\n",
    "        Path to downstream FDR to use when computing the adjusted FAC grid.\n",
    "    adjFACFl : str (path)\n",
    "        Path to output adjusted FAC grid.\n",
    "    cores : int (default 1)\n",
    "        Number of cores to run \n",
    "    \n",
    "    Returns\n",
    "    -------\n",
    "    \n",
    "    Outputs\n",
    "    -------\n",
    "    adjFACFl : raster\n",
    "        Adjusted flow accumulation raster\n",
    "    \n",
    "    '''\n",
    "    updateDict = loadJSON(updateDictFl)\n",
    "    for key in updateDict.keys(): # for each upstream HUC.\n",
    "\n",
    "        upstreamDict = updateDict[key] # subset out the upstream HUC of interest\n",
    "        if 'maxUpstreamFAC' in upstreamDict['vars']:\n",
    "            if not os.path.isfile(downstreamFACweightFl): # If weighting file not present, create one at the supplied path.\n",
    "                print(\"Generating FAC weighting grid.\")\n",
    "                makeFACweight(facWeighttemplate,downstreamFACweightFl) \n",
    "            if os.path.isfile(downstreamFACweightFl): # if the weighting grid is present, update it with the upstream value.\n",
    "                print(\"Updating FAC weighting grip with value from %s FAC\"%(key))\n",
    "                updateRaster(upstreamDict['x'],\n",
    "                             upstreamDict['y'],\n",
    "                             upstreamDict['maxUpstreamFAC'],\n",
    "                             downstreamFACweightFl,downstreamFACweightFl) # update with lists\n",
    "            \n",
    "    cpg.accumulateParam(downstreamFACweightFl, downstreamFDRFl, adjFACFl, cores = cores) # run a parameter accumulation on the weighting grid."
   ]
  },
  {
   "cell_type": "code",
   "execution_count": 196,
   "metadata": {},
   "outputs": [
    {
     "name": "stdout",
     "output_type": "stream",
     "text": [
      "Updating FAC weighting grip with value from 1002 FAC\n",
      "0.0\n",
      "Accumulating Data...\n",
      "mpiexec -bind-to rr -n 6 aread8 -p ../data/cascade_data/1003/tauFDR.tif -ad8 ../data/cascade_data/1003/FACadj.tif -wg ../data/cascade_data/1003/tauFDR.tif -nc\n"
     ]
    }
   ],
   "source": [
    "adjustFAC(downstreamFACFl,dwnfdrfl,updateDictFl,dwnfdrfl,'../data/cascade_data/1003/FACadj.tif', cores=6)"
   ]
  },
  {
   "cell_type": "code",
   "execution_count": 194,
   "metadata": {},
   "outputs": [
    {
     "name": "stdout",
     "output_type": "stream",
     "text": [
      "0.0\n",
      "Accumulating Data...\n",
      "mpiexec -bind-to rr -n 6 aread8 -p ../data/cascade_data/1003/tauFDR.tif -ad8 ../data/cascade_data/1003/FACadj.tif -wg ../data/cascade_data/1003/facWeight.tif -nc\n"
     ]
    }
   ],
   "source": [
    "cpg.accumulateParam(downstreamFACweightFl,dwnfdrfl,'../data/cascade_data/1003/FACadj.tif',cores=6)"
   ]
  },
  {
   "cell_type": "code",
   "execution_count": null,
   "metadata": {},
   "outputs": [],
   "source": []
  }
 ],
 "metadata": {
  "kernelspec": {
   "display_name": "Python 3",
   "language": "python",
   "name": "python3"
  },
  "language_info": {
   "codemirror_mode": {
    "name": "ipython",
    "version": 3
   },
   "file_extension": ".py",
   "mimetype": "text/x-python",
   "name": "python",
   "nbconvert_exporter": "python",
   "pygments_lexer": "ipython3",
   "version": "3.7.4"
  }
 },
 "nbformat": 4,
 "nbformat_minor": 2
}
