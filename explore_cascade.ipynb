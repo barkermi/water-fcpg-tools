{
 "cells": [
  {
   "cell_type": "code",
   "execution_count": 21,
   "metadata": {},
   "outputs": [],
   "source": [
    "import tools as cpg\n",
    "import rasterio as rs\n",
    "import matplotlib.pyplot as plt\n",
    "import numpy as np\n",
    "import os\n",
    "import geopandas as gpd\n",
    "import pandas as pd"
   ]
  },
  {
   "cell_type": "code",
   "execution_count": 22,
   "metadata": {},
   "outputs": [],
   "source": [
    "WBDfl = '../../gis_data/WBD_10_HU2_GDB/WBD_10_HU2_GDB.gdb'\n",
    "layer = 'WBDHU12'\n",
    "\n",
    "wbd = gpd.read_file(WBDfl, layer = layer)"
   ]
  },
  {
   "cell_type": "code",
   "execution_count": 26,
   "metadata": {},
   "outputs": [],
   "source": [
    "def getHUC4(HUC12):\n",
    "    return HUC12[:4]\n",
    "\n",
    "def getToHUC4(toHUC12):\n",
    "    return toHUC12[:4]"
   ]
  },
  {
   "cell_type": "code",
   "execution_count": 27,
   "metadata": {},
   "outputs": [],
   "source": [
    "wbd['HUC4'] = wbd.HUC12.map(getHUC4)\n",
    "wbd['ToHUC4'] = wbd.ToHUC.map(getToHUC4)"
   ]
  },
  {
   "cell_type": "code",
   "execution_count": 29,
   "metadata": {},
   "outputs": [],
   "source": [
    "hu1002 = wbd.loc[wbd.HUC4 == '1002']"
   ]
  },
  {
   "cell_type": "code",
   "execution_count": 32,
   "metadata": {},
   "outputs": [
    {
     "data": {
      "text/plain": [
       "<matplotlib.axes._subplots.AxesSubplot at 0x7f404c087b10>"
      ]
     },
     "execution_count": 32,
     "metadata": {},
     "output_type": "execute_result"
    },
    {
     "data": {
      "image/png": "[encoded data removed]",
      "text/plain": [
       "<Figure size 432x288 with 1 Axes>"
      ]
     },
     "metadata": {
      "needs_background": "light"
     },
     "output_type": "display_data"
    }
   ],
   "source": [
    "hu1002.loc[hu1002.ToHUC4 != '1002'].plot()"
   ]
  },
  {
   "cell_type": "code",
   "execution_count": 33,
   "metadata": {},
   "outputs": [
    {
     "data": {
      "text/plain": [
       "2945      City of Three Forks-Madison River\n",
       "3319               Rey Creek-Gallatin River\n",
       "3868    City of Three Forks-Jefferson River\n",
       "Name: Name, dtype: object"
      ]
     },
     "execution_count": 33,
     "metadata": {},
     "output_type": "execute_result"
    }
   ],
   "source": [
    "hu1002.loc[hu1002.ToHUC4 != '1002']['Name']"
   ]
  },
  {
   "cell_type": "code",
   "execution_count": null,
   "metadata": {},
   "outputs": [],
   "source": [
    "# for these three, restrict extents and search for pour points...\n",
    "# get ride of duplicate pour points\n",
    "# so it should really be from HUC12 to HUC12 that the cascade is done at..."
   ]
  },
  {
   "cell_type": "code",
   "execution_count": 30,
   "metadata": {},
   "outputs": [
    {
     "data": {
      "text/html": [
       "<div>\n",
       "<style scoped>\n",
       "    .dataframe tbody tr th:only-of-type {\n",
       "        vertical-align: middle;\n",
       "    }\n",
       "\n",
       "    .dataframe tbody tr th {\n",
       "        vertical-align: top;\n",
       "    }\n",
       "\n",
       "    .dataframe thead th {\n",
       "        text-align: right;\n",
       "    }\n",
       "</style>\n",
       "<table border=\"1\" class=\"dataframe\">\n",
       "  <thead>\n",
       "    <tr style=\"text-align: right;\">\n",
       "      <th></th>\n",
       "      <th>TNMID</th>\n",
       "      <th>MetaSourceID</th>\n",
       "      <th>SourceDataDesc</th>\n",
       "      <th>SourceOriginator</th>\n",
       "      <th>SourceFeatureID</th>\n",
       "      <th>LoadDate</th>\n",
       "      <th>NonContributingAreaAcres</th>\n",
       "      <th>NonContributingAreaSqKm</th>\n",
       "      <th>AreaSqKm</th>\n",
       "      <th>AreaAcres</th>\n",
       "      <th>...</th>\n",
       "      <th>States</th>\n",
       "      <th>HUC12</th>\n",
       "      <th>HUType</th>\n",
       "      <th>HUMod</th>\n",
       "      <th>ToHUC</th>\n",
       "      <th>Shape_Length</th>\n",
       "      <th>Shape_Area</th>\n",
       "      <th>geometry</th>\n",
       "      <th>HUC4</th>\n",
       "      <th>ToHUC4</th>\n",
       "    </tr>\n",
       "  </thead>\n",
       "  <tbody>\n",
       "    <tr>\n",
       "      <th>2395</th>\n",
       "      <td>{568B1B72-24ED-471E-A33A-1CF762F17149}</td>\n",
       "      <td>None</td>\n",
       "      <td>None</td>\n",
       "      <td>None</td>\n",
       "      <td>None</td>\n",
       "      <td>2013-01-18T07:08:32</td>\n",
       "      <td>0.0</td>\n",
       "      <td>0.0</td>\n",
       "      <td>52.82</td>\n",
       "      <td>13051.36</td>\n",
       "      <td>...</td>\n",
       "      <td>MT</td>\n",
       "      <td>100200030104</td>\n",
       "      <td>S</td>\n",
       "      <td>NM</td>\n",
       "      <td>100200030106</td>\n",
       "      <td>0.386300</td>\n",
       "      <td>0.006021</td>\n",
       "      <td>(POLYGON ((-111.9776689512119 44.9732282562342...</td>\n",
       "      <td>1002</td>\n",
       "      <td>1002</td>\n",
       "    </tr>\n",
       "    <tr>\n",
       "      <th>2396</th>\n",
       "      <td>{19192C38-B654-45BC-A71E-FF744F5F0FAA}</td>\n",
       "      <td>None</td>\n",
       "      <td>None</td>\n",
       "      <td>None</td>\n",
       "      <td>None</td>\n",
       "      <td>2013-01-18T07:08:32</td>\n",
       "      <td>0.0</td>\n",
       "      <td>0.0</td>\n",
       "      <td>63.27</td>\n",
       "      <td>15635.39</td>\n",
       "      <td>...</td>\n",
       "      <td>MT</td>\n",
       "      <td>100200020704</td>\n",
       "      <td>S</td>\n",
       "      <td>ID</td>\n",
       "      <td>100200020705</td>\n",
       "      <td>0.476582</td>\n",
       "      <td>0.007271</td>\n",
       "      <td>(POLYGON ((-112.2981247111312 45.4298485336505...</td>\n",
       "      <td>1002</td>\n",
       "      <td>1002</td>\n",
       "    </tr>\n",
       "    <tr>\n",
       "      <th>2397</th>\n",
       "      <td>{B8974267-260C-4E9E-A3B1-2FBEB9627C93}</td>\n",
       "      <td>None</td>\n",
       "      <td>None</td>\n",
       "      <td>None</td>\n",
       "      <td>None</td>\n",
       "      <td>2013-01-18T07:08:32</td>\n",
       "      <td>0.0</td>\n",
       "      <td>0.0</td>\n",
       "      <td>86.65</td>\n",
       "      <td>21411.79</td>\n",
       "      <td>...</td>\n",
       "      <td>MT</td>\n",
       "      <td>100200020705</td>\n",
       "      <td>S</td>\n",
       "      <td>ID</td>\n",
       "      <td>100200020706</td>\n",
       "      <td>0.615587</td>\n",
       "      <td>0.009970</td>\n",
       "      <td>(POLYGON ((-112.3402475225241 45.5202319741351...</td>\n",
       "      <td>1002</td>\n",
       "      <td>1002</td>\n",
       "    </tr>\n",
       "    <tr>\n",
       "      <th>2398</th>\n",
       "      <td>{626BE37A-4E20-4803-A3BC-EA35E773C3F4}</td>\n",
       "      <td>None</td>\n",
       "      <td>None</td>\n",
       "      <td>None</td>\n",
       "      <td>None</td>\n",
       "      <td>2013-01-18T07:08:32</td>\n",
       "      <td>0.0</td>\n",
       "      <td>0.0</td>\n",
       "      <td>88.70</td>\n",
       "      <td>21918.10</td>\n",
       "      <td>...</td>\n",
       "      <td>MT</td>\n",
       "      <td>100200020706</td>\n",
       "      <td>S</td>\n",
       "      <td>ID</td>\n",
       "      <td>100200050102</td>\n",
       "      <td>0.660017</td>\n",
       "      <td>0.010216</td>\n",
       "      <td>(POLYGON ((-112.1490107280293 45.5726479105121...</td>\n",
       "      <td>1002</td>\n",
       "      <td>1002</td>\n",
       "    </tr>\n",
       "    <tr>\n",
       "      <th>2399</th>\n",
       "      <td>{B59904A5-DB91-4106-BA0B-0513D3E60CB3}</td>\n",
       "      <td>None</td>\n",
       "      <td>None</td>\n",
       "      <td>None</td>\n",
       "      <td>None</td>\n",
       "      <td>2013-01-18T07:08:32</td>\n",
       "      <td>0.0</td>\n",
       "      <td>0.0</td>\n",
       "      <td>83.41</td>\n",
       "      <td>20611.15</td>\n",
       "      <td>...</td>\n",
       "      <td>MT</td>\n",
       "      <td>100200070803</td>\n",
       "      <td>S</td>\n",
       "      <td>ID</td>\n",
       "      <td>100200070804</td>\n",
       "      <td>0.666616</td>\n",
       "      <td>0.009521</td>\n",
       "      <td>(POLYGON ((-111.8159657222963 45.0634532977608...</td>\n",
       "      <td>1002</td>\n",
       "      <td>1002</td>\n",
       "    </tr>\n",
       "  </tbody>\n",
       "</table>\n",
       "<p>5 rows × 22 columns</p>\n",
       "</div>"
      ],
      "text/plain": [
       "                                       TNMID MetaSourceID SourceDataDesc  \\\n",
       "2395  {568B1B72-24ED-471E-A33A-1CF762F17149}         None           None   \n",
       "2396  {19192C38-B654-45BC-A71E-FF744F5F0FAA}         None           None   \n",
       "2397  {B8974267-260C-4E9E-A3B1-2FBEB9627C93}         None           None   \n",
       "2398  {626BE37A-4E20-4803-A3BC-EA35E773C3F4}         None           None   \n",
       "2399  {B59904A5-DB91-4106-BA0B-0513D3E60CB3}         None           None   \n",
       "\n",
       "     SourceOriginator SourceFeatureID             LoadDate  \\\n",
       "2395             None            None  2013-01-18T07:08:32   \n",
       "2396             None            None  2013-01-18T07:08:32   \n",
       "2397             None            None  2013-01-18T07:08:32   \n",
       "2398             None            None  2013-01-18T07:08:32   \n",
       "2399             None            None  2013-01-18T07:08:32   \n",
       "\n",
       "      NonContributingAreaAcres  NonContributingAreaSqKm  AreaSqKm  AreaAcres  \\\n",
       "2395                       0.0                      0.0     52.82   13051.36   \n",
       "2396                       0.0                      0.0     63.27   15635.39   \n",
       "2397                       0.0                      0.0     86.65   21411.79   \n",
       "2398                       0.0                      0.0     88.70   21918.10   \n",
       "2399                       0.0                      0.0     83.41   20611.15   \n",
       "\n",
       "      ...  States         HUC12 HUType HUMod         ToHUC Shape_Length  \\\n",
       "2395  ...      MT  100200030104      S    NM  100200030106     0.386300   \n",
       "2396  ...      MT  100200020704      S    ID  100200020705     0.476582   \n",
       "2397  ...      MT  100200020705      S    ID  100200020706     0.615587   \n",
       "2398  ...      MT  100200020706      S    ID  100200050102     0.660017   \n",
       "2399  ...      MT  100200070803      S    ID  100200070804     0.666616   \n",
       "\n",
       "     Shape_Area                                           geometry  HUC4  \\\n",
       "2395   0.006021  (POLYGON ((-111.9776689512119 44.9732282562342...  1002   \n",
       "2396   0.007271  (POLYGON ((-112.2981247111312 45.4298485336505...  1002   \n",
       "2397   0.009970  (POLYGON ((-112.3402475225241 45.5202319741351...  1002   \n",
       "2398   0.010216  (POLYGON ((-112.1490107280293 45.5726479105121...  1002   \n",
       "2399   0.009521  (POLYGON ((-111.8159657222963 45.0634532977608...  1002   \n",
       "\n",
       "     ToHUC4  \n",
       "2395   1002  \n",
       "2396   1002  \n",
       "2397   1002  \n",
       "2398   1002  \n",
       "2399   1002  \n",
       "\n",
       "[5 rows x 22 columns]"
      ]
     },
     "execution_count": 30,
     "metadata": {},
     "output_type": "execute_result"
    }
   ],
   "source": [
    "hu1002.head()"
   ]
  },
  {
   "cell_type": "code",
   "execution_count": 28,
   "metadata": {},
   "outputs": [
    {
     "data": {
      "text/html": [
       "<div>\n",
       "<style scoped>\n",
       "    .dataframe tbody tr th:only-of-type {\n",
       "        vertical-align: middle;\n",
       "    }\n",
       "\n",
       "    .dataframe tbody tr th {\n",
       "        vertical-align: top;\n",
       "    }\n",
       "\n",
       "    .dataframe thead th {\n",
       "        text-align: right;\n",
       "    }\n",
       "</style>\n",
       "<table border=\"1\" class=\"dataframe\">\n",
       "  <thead>\n",
       "    <tr style=\"text-align: right;\">\n",
       "      <th></th>\n",
       "      <th>TNMID</th>\n",
       "      <th>MetaSourceID</th>\n",
       "      <th>SourceDataDesc</th>\n",
       "      <th>SourceOriginator</th>\n",
       "      <th>SourceFeatureID</th>\n",
       "      <th>LoadDate</th>\n",
       "      <th>NonContributingAreaAcres</th>\n",
       "      <th>NonContributingAreaSqKm</th>\n",
       "      <th>AreaSqKm</th>\n",
       "      <th>AreaAcres</th>\n",
       "      <th>...</th>\n",
       "      <th>States</th>\n",
       "      <th>HUC12</th>\n",
       "      <th>HUType</th>\n",
       "      <th>HUMod</th>\n",
       "      <th>ToHUC</th>\n",
       "      <th>Shape_Length</th>\n",
       "      <th>Shape_Area</th>\n",
       "      <th>geometry</th>\n",
       "      <th>HUC4</th>\n",
       "      <th>ToHUC4</th>\n",
       "    </tr>\n",
       "  </thead>\n",
       "  <tbody>\n",
       "    <tr>\n",
       "      <th>0</th>\n",
       "      <td>{8DBD31E9-3CD5-4170-97BD-3282E0C67136}</td>\n",
       "      <td>{FF24B7E9-B918-4635-ADDB-267C27FDD7E0}</td>\n",
       "      <td>None</td>\n",
       "      <td>None</td>\n",
       "      <td>None</td>\n",
       "      <td>2017-07-20T07:33:20</td>\n",
       "      <td>0.0</td>\n",
       "      <td>0.0</td>\n",
       "      <td>115.83</td>\n",
       "      <td>28623.13</td>\n",
       "      <td>...</td>\n",
       "      <td>CO</td>\n",
       "      <td>101900100302</td>\n",
       "      <td>S</td>\n",
       "      <td>NM</td>\n",
       "      <td>101900100303</td>\n",
       "      <td>0.609305</td>\n",
       "      <td>0.012133</td>\n",
       "      <td>(POLYGON ((-104.4268900410572 39.5759906823202...</td>\n",
       "      <td>1019</td>\n",
       "      <td>1019</td>\n",
       "    </tr>\n",
       "    <tr>\n",
       "      <th>1</th>\n",
       "      <td>{2A261B8E-DBEF-483A-949E-40682D53569F}</td>\n",
       "      <td>{FF24B7E9-B918-4635-ADDB-267C27FDD7E0}</td>\n",
       "      <td>None</td>\n",
       "      <td>None</td>\n",
       "      <td>None</td>\n",
       "      <td>2017-07-20T07:33:06</td>\n",
       "      <td>0.0</td>\n",
       "      <td>0.0</td>\n",
       "      <td>92.14</td>\n",
       "      <td>22768.22</td>\n",
       "      <td>...</td>\n",
       "      <td>CO</td>\n",
       "      <td>101900100303</td>\n",
       "      <td>S</td>\n",
       "      <td>NM</td>\n",
       "      <td>101900100304</td>\n",
       "      <td>0.540692</td>\n",
       "      <td>0.009670</td>\n",
       "      <td>(POLYGON ((-104.4160545296157 39.7514485737145...</td>\n",
       "      <td>1019</td>\n",
       "      <td>1019</td>\n",
       "    </tr>\n",
       "    <tr>\n",
       "      <th>2</th>\n",
       "      <td>{3FFFFB3A-D8D4-44AB-B0E7-BECB16A3B6A7}</td>\n",
       "      <td>{FF24B7E9-B918-4635-ADDB-267C27FDD7E0}</td>\n",
       "      <td>None</td>\n",
       "      <td>None</td>\n",
       "      <td>None</td>\n",
       "      <td>2017-07-20T07:33:06</td>\n",
       "      <td>0.0</td>\n",
       "      <td>0.0</td>\n",
       "      <td>63.43</td>\n",
       "      <td>15674.18</td>\n",
       "      <td>...</td>\n",
       "      <td>CO</td>\n",
       "      <td>101900100304</td>\n",
       "      <td>S</td>\n",
       "      <td>NM</td>\n",
       "      <td>101900100403</td>\n",
       "      <td>0.793646</td>\n",
       "      <td>0.006676</td>\n",
       "      <td>(POLYGON ((-104.2935872318891 40.0055829899866...</td>\n",
       "      <td>1019</td>\n",
       "      <td>1019</td>\n",
       "    </tr>\n",
       "    <tr>\n",
       "      <th>3</th>\n",
       "      <td>{7CF20964-3908-43D2-A5A1-820FFEC9BCAB}</td>\n",
       "      <td>None</td>\n",
       "      <td>None</td>\n",
       "      <td>None</td>\n",
       "      <td>None</td>\n",
       "      <td>2013-01-18T07:08:08</td>\n",
       "      <td>0.0</td>\n",
       "      <td>0.0</td>\n",
       "      <td>113.19</td>\n",
       "      <td>27970.54</td>\n",
       "      <td>...</td>\n",
       "      <td>CO</td>\n",
       "      <td>101900100401</td>\n",
       "      <td>S</td>\n",
       "      <td>NM</td>\n",
       "      <td>101900100403</td>\n",
       "      <td>0.614345</td>\n",
       "      <td>0.011933</td>\n",
       "      <td>(POLYGON ((-104.2362907111448 40.0677914971818...</td>\n",
       "      <td>1019</td>\n",
       "      <td>1019</td>\n",
       "    </tr>\n",
       "    <tr>\n",
       "      <th>4</th>\n",
       "      <td>{5F98482E-42A3-44CC-9ADD-002B284AA1B6}</td>\n",
       "      <td>None</td>\n",
       "      <td>None</td>\n",
       "      <td>None</td>\n",
       "      <td>None</td>\n",
       "      <td>2013-01-18T07:08:08</td>\n",
       "      <td>0.0</td>\n",
       "      <td>0.0</td>\n",
       "      <td>124.07</td>\n",
       "      <td>30657.22</td>\n",
       "      <td>...</td>\n",
       "      <td>CO</td>\n",
       "      <td>101900100402</td>\n",
       "      <td>S</td>\n",
       "      <td>NM</td>\n",
       "      <td>101900100403</td>\n",
       "      <td>0.729649</td>\n",
       "      <td>0.013096</td>\n",
       "      <td>(POLYGON ((-104.1128008623781 40.1851793469995...</td>\n",
       "      <td>1019</td>\n",
       "      <td>1019</td>\n",
       "    </tr>\n",
       "  </tbody>\n",
       "</table>\n",
       "<p>5 rows × 22 columns</p>\n",
       "</div>"
      ],
      "text/plain": [
       "                                    TNMID  \\\n",
       "0  {8DBD31E9-3CD5-4170-97BD-3282E0C67136}   \n",
       "1  {2A261B8E-DBEF-483A-949E-40682D53569F}   \n",
       "2  {3FFFFB3A-D8D4-44AB-B0E7-BECB16A3B6A7}   \n",
       "3  {7CF20964-3908-43D2-A5A1-820FFEC9BCAB}   \n",
       "4  {5F98482E-42A3-44CC-9ADD-002B284AA1B6}   \n",
       "\n",
       "                             MetaSourceID SourceDataDesc SourceOriginator  \\\n",
       "0  {FF24B7E9-B918-4635-ADDB-267C27FDD7E0}           None             None   \n",
       "1  {FF24B7E9-B918-4635-ADDB-267C27FDD7E0}           None             None   \n",
       "2  {FF24B7E9-B918-4635-ADDB-267C27FDD7E0}           None             None   \n",
       "3                                    None           None             None   \n",
       "4                                    None           None             None   \n",
       "\n",
       "  SourceFeatureID             LoadDate  NonContributingAreaAcres  \\\n",
       "0            None  2017-07-20T07:33:20                       0.0   \n",
       "1            None  2017-07-20T07:33:06                       0.0   \n",
       "2            None  2017-07-20T07:33:06                       0.0   \n",
       "3            None  2013-01-18T07:08:08                       0.0   \n",
       "4            None  2013-01-18T07:08:08                       0.0   \n",
       "\n",
       "   NonContributingAreaSqKm  AreaSqKm  AreaAcres  ...  States         HUC12  \\\n",
       "0                      0.0    115.83   28623.13  ...      CO  101900100302   \n",
       "1                      0.0     92.14   22768.22  ...      CO  101900100303   \n",
       "2                      0.0     63.43   15674.18  ...      CO  101900100304   \n",
       "3                      0.0    113.19   27970.54  ...      CO  101900100401   \n",
       "4                      0.0    124.07   30657.22  ...      CO  101900100402   \n",
       "\n",
       "  HUType HUMod         ToHUC Shape_Length Shape_Area  \\\n",
       "0      S    NM  101900100303     0.609305   0.012133   \n",
       "1      S    NM  101900100304     0.540692   0.009670   \n",
       "2      S    NM  101900100403     0.793646   0.006676   \n",
       "3      S    NM  101900100403     0.614345   0.011933   \n",
       "4      S    NM  101900100403     0.729649   0.013096   \n",
       "\n",
       "                                            geometry  HUC4 ToHUC4  \n",
       "0  (POLYGON ((-104.4268900410572 39.5759906823202...  1019   1019  \n",
       "1  (POLYGON ((-104.4160545296157 39.7514485737145...  1019   1019  \n",
       "2  (POLYGON ((-104.2935872318891 40.0055829899866...  1019   1019  \n",
       "3  (POLYGON ((-104.2362907111448 40.0677914971818...  1019   1019  \n",
       "4  (POLYGON ((-104.1128008623781 40.1851793469995...  1019   1019  \n",
       "\n",
       "[5 rows x 22 columns]"
      ]
     },
     "execution_count": 28,
     "metadata": {},
     "output_type": "execute_result"
    }
   ],
   "source": [
    "wbd.head()"
   ]
  },
  {
   "cell_type": "code",
   "execution_count": 2,
   "metadata": {},
   "outputs": [],
   "source": [
    "upstream = '1002' # upstream hydrologic region\n",
    "downstream = '1003' # downstream hydrologic region"
   ]
  },
  {
   "cell_type": "code",
   "execution_count": 6,
   "metadata": {},
   "outputs": [],
   "source": [
    "upfdrfl = '../data/cascade_data/%s/tauFDR.tif'%upstream\n",
    "dwnfdrfl = '../data/cascade_data/%s/tauFDR.tif'%downstream\n",
    "\n",
    "cpg.tauDrainDir('../data/cascade_data/%s/fdr.tif'%upstream, upfdrfl)\n",
    "cpg.tauDrainDir('../data/cascade_data/%s/fdr.tif'%downstream, dwnfdrfl)"
   ]
  },
  {
   "cell_type": "code",
   "execution_count": 9,
   "metadata": {},
   "outputs": [],
   "source": [
    "# upstream files\n",
    "upfacfl = '../data/cascade_data/%s/fac.tif'%(upstream)\n",
    "\n",
    "# downstream files\n",
    "dwnfacfl = '../data/cascade_data/%s/fac.tif'%(downstream)\n",
    "\n",
    "dwnnewfacsrcfl = '../data/cascade_data/%s/fac_weight.tiff'%(downstream) # file path for the weighting grid for \n",
    "dwnnewfacfl = '../data/cascade_data/%s/fac_corr.tiff'%(downstream) # filepath for the corrected FAC."
   ]
  },
  {
   "cell_type": "code",
   "execution_count": 10,
   "metadata": {},
   "outputs": [
    {
     "name": "stdout",
     "output_type": "stream",
     "text": [
      "Accumulating Data...\n",
      "mpiexec -bind-to rr -n 6 aread8 -p ../data/cascade_data/1002/tauFDR.tif -ad8 ../data/cascade_data/1002/fac.tif -nc\n",
      "Accumulating Data...\n",
      "mpiexec -bind-to rr -n 6 aread8 -p ../data/cascade_data/1003/tauFDR.tif -ad8 ../data/cascade_data/1003/fac.tif -nc\n"
     ]
    }
   ],
   "source": [
    "cpg.tauFlowAccum(upfdrfl,upfacfl,cores=6)\n",
    "cpg.tauFlowAccum(dwnfdrfl,dwnfacfl, cores=6)"
   ]
  },
  {
   "cell_type": "code",
   "execution_count": 11,
   "metadata": {},
   "outputs": [],
   "source": [
    "def loadRaster(fl, returnMeta = False):\n",
    "    try:\n",
    "        with rs.open(fl) as src:\n",
    "            dat = src.read(1)\n",
    "            meta = src.meta.copy()\n",
    "        \n",
    "        if returnMeta:\n",
    "            return dat, meta\n",
    "        else:\n",
    "            return dat\n",
    "    except:\n",
    "        print(\"Unable to open %s\"%(fl))"
   ]
  },
  {
   "cell_type": "code",
   "execution_count": 12,
   "metadata": {},
   "outputs": [],
   "source": [
    "def findLastFACFD(facfl, fl):\n",
    "    '''Find the coordinate of the greatest FAC cell, return the value from the upfl at that point.\n",
    "    \n",
    "    This can be used to find the flow direction of the FAC cell with the greatest accumulation, or the parameter value.\n",
    "    \n",
    "    Parameters\n",
    "    ----------\n",
    "    facfl : str (path)\n",
    "        Upstream FAC grid\n",
    "    fl : str (path)\n",
    "        Upstream \n",
    "    \n",
    "    Returns\n",
    "    -------\n",
    "    x : float\n",
    "        Horizontal coordinate of the greatest FAC cell.\n",
    "    y : float\n",
    "        Vertical coordinate of the greatest FAC cell.\n",
    "    d : int or float\n",
    "        Value from the parameter grid queried.\n",
    "    w : float\n",
    "        Cell size of the grid.\n",
    "    '''\n",
    "    \n",
    "    fac,meta = loadRaster(facfl,returnMeta=True) # load the fac file\n",
    "    dat = loadRaster(fl) # load the data file\n",
    "    \n",
    "    cx,cy = np.where(fac==fac.max()) # find the column, row cooridnates of the max fac.\n",
    "    d = dat[cx,cy][0] # query the parameter grid\n",
    "    \n",
    "    src = rs.open(facfl) # open the fac dataset\n",
    "    x,y = src.xy(cx,cy) # convert the column, row coordinates to map coordinates\n",
    "    \n",
    "    w = meta['transform'][0] # get the cell size of the grid\n",
    "    \n",
    "    return x[0],y[0],d,w\n",
    "\n",
    "def queryPoint(x,y,grd):\n",
    "    '''Query grid based on a supplied point.\n",
    "    \n",
    "    Parameters\n",
    "    ----------\n",
    "    x : float\n",
    "        Horizontal coordinate in grd projection.\n",
    "    y : float\n",
    "        Vertical coordinate in grd projection.\n",
    "    grd : str (path)\n",
    "        Path to raster to query based on the supplied x and y.\n",
    "        \n",
    "    Returns\n",
    "    -------\n",
    "    value : float or int\n",
    "        Value queried from the raster.\n",
    "    '''\n",
    "    \n",
    "    with rs.open(grd) as src:\n",
    "        for i in src.sample([(x,y)],1):\n",
    "            return i[0]"
   ]
  },
  {
   "cell_type": "code",
   "execution_count": 13,
   "metadata": {},
   "outputs": [],
   "source": [
    "def FindDownstreamCellTauDir(d,x,y,w):\n",
    "    '''Find downstream cell given the flow direction of a cell using TauDEM directions.\n",
    "    \n",
    "    Parameters\n",
    "    ----------\n",
    "    d : int\n",
    "        Flow direction of cell to find downstream cell of.\n",
    "    x : float\n",
    "        Horizontal coordinate (either projected or unprojected).\n",
    "    y : float\n",
    "        Vertical coordinate (either projected or unprojected).\n",
    "    w : float\n",
    "        Cell size in map units.\n",
    "        \n",
    "    Returns\n",
    "    -------\n",
    "    x : float\n",
    "        Horizontal coordinate of the downstream cell.\n",
    "    y : float\n",
    "        Verital coordinate of the downstream cell.\n",
    "    '''\n",
    "    \n",
    "    # figure out how to correct the point location\n",
    "    if d == 1: # east\n",
    "        dx = w\n",
    "        dy = 0.\n",
    "    elif d == 2: # northeast\n",
    "        dx = w\n",
    "        dy = w\n",
    "    elif d == 3: # north\n",
    "        dx = 0.\n",
    "        dy = w\n",
    "    elif d == 4: # northwest\n",
    "        dx = w*-1.\n",
    "        dy = w\n",
    "    elif d == 5: # west\n",
    "        dx = w*-1.\n",
    "        dy = 0.\n",
    "    elif d == 6: # southwest\n",
    "        dx = w*-1.\n",
    "        dy = w*-1.\n",
    "    elif d == 7: # south\n",
    "        dx = 0.\n",
    "        dy = w*-1.\n",
    "    elif d == 8: # southeast\n",
    "        dx = w\n",
    "        dy = w*-1.\n",
    "        \n",
    "    # update the location\n",
    "    newX = x+dx\n",
    "    newY = y+dy\n",
    "    \n",
    "    return newX,newY"
   ]
  },
  {
   "cell_type": "code",
   "execution_count": 14,
   "metadata": {},
   "outputs": [],
   "source": [
    "import json\n",
    "\n",
    "# Make it work for Python 2+3 and with Unicode\n",
    "import io\n",
    "try:\n",
    "    to_unicode = unicode\n",
    "except NameError:\n",
    "    to_unicode = str\n",
    "\n",
    "def saveJSON(dictionary, outfl):\n",
    "    '''Save dictionary to JSON file.\n",
    "    \n",
    "    Parameters\n",
    "    ----------\n",
    "    dictionary : dict\n",
    "        Dictionary to be saved.\n",
    "    outfl : str (path)\n",
    "        Path for where to generate the JSON\n",
    "        \n",
    "    Returns\n",
    "    -------\n",
    "    None\n",
    "    '''\n",
    "    # Write JSON file\n",
    "    with io.open(outfl, 'w', encoding='utf8') as outfile:\n",
    "        str_ = json.dumps(dictionary,\n",
    "                      indent=4, sort_keys=True,\n",
    "                      separators=(',', ': '), ensure_ascii=False)\n",
    "        outfile.write(to_unicode(str_))\n",
    "    \n",
    "    return None\n",
    "\n",
    "def loadJSON(infl):\n",
    "    '''Load dictionary stored in a JSON file.\n",
    "    \n",
    "    Parameters\n",
    "    ----------\n",
    "    infl : str (path)\n",
    "        Path to the JSON to be loaded.\n",
    "        \n",
    "    Returns\n",
    "    -------\n",
    "    dictionary : dict\n",
    "        Dictionary that was loaded.\n",
    "    '''\n",
    "    # Read JSON file\n",
    "    with open(infl) as data_file:\n",
    "        dictionary = json.load(data_file)\n",
    "    \n",
    "    return dictionary"
   ]
  },
  {
   "cell_type": "code",
   "execution_count": 15,
   "metadata": {},
   "outputs": [],
   "source": [
    "def createUpdateDict(x, y, upstreamFACmax, fromHUC, outfl):\n",
    "    '''Create a dictionary for updating downstream FAC and parameter grids using values pulled from the next grid upstream.\n",
    "    \n",
    "    Parameters\n",
    "    ----------\n",
    "    x : float\n",
    "        Horizontal coordinate for where the update needs to happen in the downstream grid. \n",
    "    y : float\n",
    "        Vertical coordinate for where the update needs to happen in the downstream grid.\n",
    "    upstreamFACmax : int\n",
    "        Value to insert into the downstream FAC grid.\n",
    "    fromHUC : str\n",
    "        The upstream HUC that the values are coming from.\n",
    "    outfl : str (path)\n",
    "        Path to where to save the json of this dictionary. The convention is to name this by the downstream HUC.\n",
    "    \n",
    "    Returns\n",
    "    -------\n",
    "    updateDict : dict\n",
    "        Update dictionary\n",
    "    \n",
    "    Outputs\n",
    "    -------\n",
    "    updateDict : json (dict)\n",
    "        Update dictionary saved to a json at outfl.\n",
    "    '''\n",
    "    \n",
    "    subDict = { # make dictionary for the upstream FAC\n",
    "        'x': str(x),\n",
    "        'y': str(y),\n",
    "        'maxUpstreamFAC':str(upstreamFACmax),\n",
    "        'vars':['maxUpstreamFAC'] # list of contained variables\n",
    "                }\n",
    "    \n",
    "    if os.path.exists(outfl): # if the update dictionary exists, update it.\n",
    "        print('Update dictionary found: %s'%outfl)\n",
    "        updateDict = loadJSON(outfl)\n",
    "        print('Updating dictionary...')\n",
    "        updateDict[fromHUC] = subDict\n",
    "    else:\n",
    "        updateDict = {\n",
    "            fromHUC : subDict\n",
    "        }\n",
    "        \n",
    "    saveJSON(updateDict, outfl)\n",
    "    \n",
    "    return None"
   ]
  },
  {
   "cell_type": "code",
   "execution_count": 16,
   "metadata": {},
   "outputs": [],
   "source": [
    "def updateRaster(x,y,val,grd,outgrd):\n",
    "    '''Insert val into grd as location specified by x,y, writes to outgrd.\n",
    "    \n",
    "    Parameters\n",
    "    ----------\n",
    "    x : float\n",
    "    y : float\n",
    "        Vertical coordinate in map\n",
    "    val : int or float\n",
    "        Value to insert into grd\n",
    "    grd : str (path)\n",
    "        File path to read grd to update from.\n",
    "    outgrd : str (path)\n",
    "        File path to write output to.\n",
    "    \n",
    "    Returns\n",
    "    -------\n",
    "    None\n",
    "    \n",
    "    Output\n",
    "    ------\n",
    "    dat : raster\n",
    "        Writes raster dataset to supplied grdout destination.\n",
    "    '''\n",
    "    \n",
    "    dat,meta = loadRaster(grd, returnMeta=True)\n",
    "    \n",
    "    with rs.open(grd) as src:\n",
    "        c,r = src.index(x,y) # get column, row coordinates\n",
    "        \n",
    "    dat[c,r] = val # update the dataset\n",
    "    \n",
    "    with rs.open(outgrd,'w',**meta) as dst: # open dataset for output\n",
    "        dst.write(dat,1)\n",
    "    \n",
    "    return None"
   ]
  },
  {
   "cell_type": "code",
   "execution_count": 17,
   "metadata": {},
   "outputs": [],
   "source": [
    "# Test finding facMAX and output to JSON\n",
    "\n",
    "updateDictFl = '../data/cascade_data/%s/updateDict.json'%downstream\n",
    "\n",
    "x,y,d,w = findLastFACFD(upfacfl, upfdrfl) # get the fdr value\n",
    "maxFAC = queryPoint(x,y,upfacfl) # get the maxFAC \n",
    "newX,newY = FindDownstreamCellTauDir(d,x,y,w) # find the most upstream downstream cell.\n",
    "createUpdateDict(newX,newY,maxFAC,upstream,updateDictFl)"
   ]
  },
  {
   "cell_type": "code",
   "execution_count": 18,
   "metadata": {},
   "outputs": [],
   "source": [
    "def makeFACweight(inFAC,outWeight):\n",
    "    '''Make FAC weighting grid of ones based on the extents of the input grid.\n",
    "    \n",
    "    Parameters\n",
    "    ----------\n",
    "    inFAC : str (path)\n",
    "    outWeight : str (path)\n",
    "    \n",
    "    Returns\n",
    "    -------\n",
    "    None\n",
    "    \n",
    "    Output\n",
    "    ------\n",
    "    outWeight : raster\n",
    "        Raster of the same extent and resolution as the input grid, but filled with ones where data exist. \n",
    "        No data cells are persisted.\n",
    "    '''\n",
    "    dat, meta = loadRaster(inFAC, returnMeta=True)\n",
    "    \n",
    "    ones = np.ones_like(dat) # make a grid of ones shaped like the original FAC grid. These will be used\n",
    "    # as a weighting grid that can be corrected.\n",
    "    \n",
    "    ones[dat == meta['nodata']] = meta['nodata'] # persist the noData value into the grid\n",
    "    meta['dtype'] = ones.dtype # update the datatype\n",
    "    \n",
    "    with rs.open(outWeight,'w',**meta) as dst:\n",
    "        dst.write(ones,1)\n",
    "    \n",
    "    return None"
   ]
  },
  {
   "cell_type": "code",
   "execution_count": 19,
   "metadata": {
    "scrolled": true
   },
   "outputs": [
    {
     "name": "stdout",
     "output_type": "stream",
     "text": [
      "Generating FAC weighting grid.\n",
      "Updating FAC weighting grip with value from 1002 FAC\n"
     ]
    }
   ],
   "source": [
    "downstreamFACweightFl = \"../data/cascade_data/%s/facWeight.tif\"%(downstream)\n",
    "downstreamFACFl = \"../data/cascade_data/%s/fac.tif\"%(downstream)\n",
    "updateDict = loadJSON(updateDictFl)\n",
    "for key in updateDict.keys(): # for each upstream HUC.\n",
    "    upstreamDict = updateDict[key]\n",
    "    x = float(upstreamDict['x']) # horizontal coordinate\n",
    "    y = float(upstreamDict['y']) # vertical coordinate\n",
    "    if 'maxUpstreamFAC' in upstreamDict['vars']: # test if the FAC key is present, then make the weighting grid.\n",
    "        upstreamFAC = int(float(upstreamDict['maxUpstreamFAC'])) # pull the upstream FAC value\n",
    "        if not os.path.isfile(downstreamFACweightFl): # If weighting file not present, create one at the supplied path.\n",
    "            print(\"Generating FAC weighting grid.\")\n",
    "            makeFACweight(downstreamFACFl,downstreamFACweightFl)\n",
    "        if os.path.isfile(downstreamFACweightFl): # if the weighting grid is present, update it with the upstream value.\n",
    "            print(\"Updating FAC weighting grip with value from %s FAC\"%(key))\n",
    "            updateRaster(x,y,upstreamFAC,downstreamFACweightFl,downstreamFACweightFl)"
   ]
  },
  {
   "cell_type": "code",
   "execution_count": 113,
   "metadata": {},
   "outputs": [
    {
     "data": {
      "text/plain": [
       "dict_keys(['maxUpstreamFAC', 'vars', 'x', 'y'])"
      ]
     },
     "execution_count": 113,
     "metadata": {},
     "output_type": "execute_result"
    }
   ],
   "source": [
    "upstreamDict.keys()"
   ]
  },
  {
   "cell_type": "code",
   "execution_count": 101,
   "metadata": {},
   "outputs": [
    {
     "data": {
      "text/plain": [
       "{'1707': {'maxUpstreamFAC': '85953890.0', 'x': '-1764120.0', 'y': '2792610.0'}}"
      ]
     },
     "execution_count": 101,
     "metadata": {},
     "output_type": "execute_result"
    }
   ],
   "source": [
    "updateDict"
   ]
  },
  {
   "cell_type": "code",
   "execution_count": 56,
   "metadata": {},
   "outputs": [],
   "source": [
    "# Now insert the found values into the downstream dataset\n",
    "x,y,maxParam,w = findLastFACFD(upfacfl,upCPGfl) # get the max value from upstream CPG."
   ]
  },
  {
   "cell_type": "code",
   "execution_count": 75,
   "metadata": {},
   "outputs": [
    {
     "data": {
      "text/plain": [
       "<generator object sample_gen at 0x7f5b81d7bdd0>"
      ]
     },
     "execution_count": 75,
     "metadata": {},
     "output_type": "execute_result"
    }
   ],
   "source": [
    "maxFAC"
   ]
  },
  {
   "cell_type": "code",
   "execution_count": 66,
   "metadata": {},
   "outputs": [
    {
     "name": "stdout",
     "output_type": "stream",
     "text": [
      "/mnt/c/Users/tbarnhart/projects/ORcpgs/CPGtools\r\n"
     ]
    }
   ],
   "source": [
    "!pwd"
   ]
  },
  {
   "cell_type": "code",
   "execution_count": 57,
   "metadata": {},
   "outputs": [
    {
     "data": {
      "text/plain": [
       "-1764120.0"
      ]
     },
     "execution_count": 57,
     "metadata": {},
     "output_type": "execute_result"
    }
   ],
   "source": [
    "newX"
   ]
  },
  {
   "cell_type": "code",
   "execution_count": 58,
   "metadata": {},
   "outputs": [
    {
     "data": {
      "text/plain": [
       "2792610.0"
      ]
     },
     "execution_count": 58,
     "metadata": {},
     "output_type": "execute_result"
    }
   ],
   "source": [
    "newY"
   ]
  },
  {
   "cell_type": "code",
   "execution_count": null,
   "metadata": {},
   "outputs": [],
   "source": []
  }
 ],
 "metadata": {
  "kernelspec": {
   "display_name": "Python 3",
   "language": "python",
   "name": "python3"
  },
  "language_info": {
   "codemirror_mode": {
    "name": "ipython",
    "version": 3
   },
   "file_extension": ".py",
   "mimetype": "text/x-python",
   "name": "python",
   "nbconvert_exporter": "python",
   "pygments_lexer": "ipython3",
   "version": "3.7.4"
  }
 },
 "nbformat": 4,
 "nbformat_minor": 2
}
