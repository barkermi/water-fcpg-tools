{
 "cells": [
  {
   "cell_type": "code",
   "execution_count": 11,
   "metadata": {},
   "outputs": [],
   "source": [
    "import pandas as pd\n",
    "import matplotlib.pyplot as plt\n",
    "import statsmodels.formula.api as smf\n",
    "import numpy as np"
   ]
  },
  {
   "cell_type": "code",
   "execution_count": 5,
   "metadata": {},
   "outputs": [],
   "source": [
    "dat = pd.read_pickle('./data/CHI_poster/results.pkl')\n",
    "dat['watersheds'] = dat.idx*10"
   ]
  },
  {
   "cell_type": "code",
   "execution_count": 6,
   "metadata": {},
   "outputs": [
    {
     "data": {
      "text/html": [
       "<div>\n",
       "<style scoped>\n",
       "    .dataframe tbody tr th:only-of-type {\n",
       "        vertical-align: middle;\n",
       "    }\n",
       "\n",
       "    .dataframe tbody tr th {\n",
       "        vertical-align: top;\n",
       "    }\n",
       "\n",
       "    .dataframe thead th {\n",
       "        text-align: right;\n",
       "    }\n",
       "</style>\n",
       "<table border=\"1\" class=\"dataframe\">\n",
       "  <thead>\n",
       "    <tr style=\"text-align: right;\">\n",
       "      <th></th>\n",
       "      <th>idx</th>\n",
       "      <th>cpg_query_time</th>\n",
       "      <th>cpg_build_time</th>\n",
       "      <th>cpg_time</th>\n",
       "      <th>esri_time</th>\n",
       "      <th>watersheds</th>\n",
       "    </tr>\n",
       "  </thead>\n",
       "  <tbody>\n",
       "    <tr>\n",
       "      <th>0</th>\n",
       "      <td>1</td>\n",
       "      <td>22.394779</td>\n",
       "      <td>478.272167</td>\n",
       "      <td>500.666946</td>\n",
       "      <td>103.519443</td>\n",
       "      <td>10</td>\n",
       "    </tr>\n",
       "    <tr>\n",
       "      <th>1</th>\n",
       "      <td>2</td>\n",
       "      <td>22.313195</td>\n",
       "      <td>478.272167</td>\n",
       "      <td>500.585362</td>\n",
       "      <td>121.462111</td>\n",
       "      <td>20</td>\n",
       "    </tr>\n",
       "    <tr>\n",
       "      <th>2</th>\n",
       "      <td>3</td>\n",
       "      <td>22.358535</td>\n",
       "      <td>478.272167</td>\n",
       "      <td>500.630702</td>\n",
       "      <td>112.067234</td>\n",
       "      <td>30</td>\n",
       "    </tr>\n",
       "    <tr>\n",
       "      <th>3</th>\n",
       "      <td>4</td>\n",
       "      <td>22.296979</td>\n",
       "      <td>478.272167</td>\n",
       "      <td>500.569146</td>\n",
       "      <td>226.673195</td>\n",
       "      <td>40</td>\n",
       "    </tr>\n",
       "    <tr>\n",
       "      <th>4</th>\n",
       "      <td>5</td>\n",
       "      <td>21.989972</td>\n",
       "      <td>478.272167</td>\n",
       "      <td>500.262139</td>\n",
       "      <td>119.694706</td>\n",
       "      <td>50</td>\n",
       "    </tr>\n",
       "  </tbody>\n",
       "</table>\n",
       "</div>"
      ],
      "text/plain": [
       "   idx  cpg_query_time  cpg_build_time    cpg_time   esri_time  watersheds\n",
       "0    1       22.394779      478.272167  500.666946  103.519443          10\n",
       "1    2       22.313195      478.272167  500.585362  121.462111          20\n",
       "2    3       22.358535      478.272167  500.630702  112.067234          30\n",
       "3    4       22.296979      478.272167  500.569146  226.673195          40\n",
       "4    5       21.989972      478.272167  500.262139  119.694706          50"
      ]
     },
     "execution_count": 6,
     "metadata": {},
     "output_type": "execute_result"
    }
   ],
   "source": [
    "dat.head()"
   ]
  },
  {
   "cell_type": "code",
   "execution_count": 15,
   "metadata": {},
   "outputs": [],
   "source": [
    "xs = np.arange(1,1001)\n",
    "esri = smf.ols('esri_time ~ watersheds + 1', dat).fit()\n",
    "cpg = smf.ols('cpg_time ~ watersheds + 1', dat).fit()"
   ]
  },
  {
   "cell_type": "code",
   "execution_count": 37,
   "metadata": {},
   "outputs": [
    {
     "data": {
      "text/html": [
       "<table class=\"simpletable\">\n",
       "<caption>OLS Regression Results</caption>\n",
       "<tr>\n",
       "  <th>Dep. Variable:</th>        <td>esri_time</td>    <th>  R-squared:         </th> <td>   0.591</td>\n",
       "</tr>\n",
       "<tr>\n",
       "  <th>Model:</th>                   <td>OLS</td>       <th>  Adj. R-squared:    </th> <td>   0.582</td>\n",
       "</tr>\n",
       "<tr>\n",
       "  <th>Method:</th>             <td>Least Squares</td>  <th>  F-statistic:       </th> <td>   62.18</td>\n",
       "</tr>\n",
       "<tr>\n",
       "  <th>Date:</th>             <td>Tue, 02 Jul 2019</td> <th>  Prob (F-statistic):</th> <td>6.89e-10</td>\n",
       "</tr>\n",
       "<tr>\n",
       "  <th>Time:</th>                 <td>14:47:14</td>     <th>  Log-Likelihood:    </th> <td> -269.30</td>\n",
       "</tr>\n",
       "<tr>\n",
       "  <th>No. Observations:</th>      <td>    45</td>      <th>  AIC:               </th> <td>   542.6</td>\n",
       "</tr>\n",
       "<tr>\n",
       "  <th>Df Residuals:</th>          <td>    43</td>      <th>  BIC:               </th> <td>   546.2</td>\n",
       "</tr>\n",
       "<tr>\n",
       "  <th>Df Model:</th>              <td>     1</td>      <th>                     </th>     <td> </td>   \n",
       "</tr>\n",
       "<tr>\n",
       "  <th>Covariance Type:</th>      <td>nonrobust</td>    <th>                     </th>     <td> </td>   \n",
       "</tr>\n",
       "</table>\n",
       "<table class=\"simpletable\">\n",
       "<tr>\n",
       "       <td></td>         <th>coef</th>     <th>std err</th>      <th>t</th>      <th>P>|t|</th>  <th>[0.025</th>    <th>0.975]</th>  \n",
       "</tr>\n",
       "<tr>\n",
       "  <th>Intercept</th>  <td>  165.2242</td> <td>   29.806</td> <td>    5.543</td> <td> 0.000</td> <td>  105.114</td> <td>  225.334</td>\n",
       "</tr>\n",
       "<tr>\n",
       "  <th>watersheds</th> <td>    0.8898</td> <td>    0.113</td> <td>    7.885</td> <td> 0.000</td> <td>    0.662</td> <td>    1.117</td>\n",
       "</tr>\n",
       "</table>\n",
       "<table class=\"simpletable\">\n",
       "<tr>\n",
       "  <th>Omnibus:</th>       <td> 0.690</td> <th>  Durbin-Watson:     </th> <td>   1.795</td>\n",
       "</tr>\n",
       "<tr>\n",
       "  <th>Prob(Omnibus):</th> <td> 0.708</td> <th>  Jarque-Bera (JB):  </th> <td>   0.791</td>\n",
       "</tr>\n",
       "<tr>\n",
       "  <th>Skew:</th>          <td> 0.195</td> <th>  Prob(JB):          </th> <td>   0.673</td>\n",
       "</tr>\n",
       "<tr>\n",
       "  <th>Kurtosis:</th>      <td> 2.481</td> <th>  Cond. No.          </th> <td>    537.</td>\n",
       "</tr>\n",
       "</table><br/><br/>Warnings:<br/>[1] Standard Errors assume that the covariance matrix of the errors is correctly specified."
      ],
      "text/plain": [
       "<class 'statsmodels.iolib.summary.Summary'>\n",
       "\"\"\"\n",
       "                            OLS Regression Results                            \n",
       "==============================================================================\n",
       "Dep. Variable:              esri_time   R-squared:                       0.591\n",
       "Model:                            OLS   Adj. R-squared:                  0.582\n",
       "Method:                 Least Squares   F-statistic:                     62.18\n",
       "Date:                Tue, 02 Jul 2019   Prob (F-statistic):           6.89e-10\n",
       "Time:                        14:47:14   Log-Likelihood:                -269.30\n",
       "No. Observations:                  45   AIC:                             542.6\n",
       "Df Residuals:                      43   BIC:                             546.2\n",
       "Df Model:                           1                                         \n",
       "Covariance Type:            nonrobust                                         \n",
       "==============================================================================\n",
       "                 coef    std err          t      P>|t|      [0.025      0.975]\n",
       "------------------------------------------------------------------------------\n",
       "Intercept    165.2242     29.806      5.543      0.000     105.114     225.334\n",
       "watersheds     0.8898      0.113      7.885      0.000       0.662       1.117\n",
       "==============================================================================\n",
       "Omnibus:                        0.690   Durbin-Watson:                   1.795\n",
       "Prob(Omnibus):                  0.708   Jarque-Bera (JB):                0.791\n",
       "Skew:                           0.195   Prob(JB):                        0.673\n",
       "Kurtosis:                       2.481   Cond. No.                         537.\n",
       "==============================================================================\n",
       "\n",
       "Warnings:\n",
       "[1] Standard Errors assume that the covariance matrix of the errors is correctly specified.\n",
       "\"\"\""
      ]
     },
     "execution_count": 37,
     "metadata": {},
     "output_type": "execute_result"
    }
   ],
   "source": [
    "esri.summary()"
   ]
  },
  {
   "cell_type": "code",
   "execution_count": 41,
   "metadata": {},
   "outputs": [
    {
     "data": {
      "image/png": "[encoded data removed]",
      "text/plain": [
       "<Figure size 720x504 with 1 Axes>"
      ]
     },
     "metadata": {
      "needs_background": "light"
     },
     "output_type": "display_data"
    }
   ],
   "source": [
    "fs = (10,7)\n",
    "cpgCol = '#1f77b4'\n",
    "esriCol = '#ff7f0e'\n",
    "size = 35\n",
    "lw = 4\n",
    "\n",
    "y1 = dat.cpg_time.values/60.\n",
    "y2 = dat.esri_time.values/60.\n",
    "x = dat.watersheds\n",
    "\n",
    "yHat1 = (cpg.params[0] + cpg.params[1] * xs)/60.\n",
    "yHat2 = (esri.params[0] + esri.params[1] * xs)/60.\n",
    "\n",
    "fig = plt.figure(figsize=fs)\n",
    "ax = fig.add_subplot(111)\n",
    "ax.scatter(x,y1,s=size,label = 'Topo-conditioned Approach:\\nR$^2$=%s, p=0.003'%cpg.rsquared.round(2),c=cpgCol)\n",
    "ax.plot(xs,yHat1, c = cpgCol, lw = lw)\n",
    "\n",
    "ax.scatter(x,y2,s=size,label = 'Delineation + ZonalStats:\\nR$^2$=%s, p<0.001'%esri.rsquared.round(2), c = esriCol)\n",
    "ax.plot(xs,yHat2, c = esriCol, lw = lw)\n",
    "\n",
    "plt.legend(fontsize = 18)\n",
    "plt.xlabel('Watersheds [count]', fontsize = 18)\n",
    "plt.ylabel('Time [minutes]', fontsize = 18)\n",
    "ax.tick_params(axis='both', which='major', labelsize=16)\n",
    "\n",
    "plt.savefig('./figures/esri_vs_cpg.svg',bbox_inches='tight')"
   ]
  },
  {
   "cell_type": "code",
   "execution_count": null,
   "metadata": {},
   "outputs": [],
   "source": []
  }
 ],
 "metadata": {
  "kernelspec": {
   "display_name": "Python 3",
   "language": "python",
   "name": "python3"
  },
  "language_info": {
   "codemirror_mode": {
    "name": "ipython",
    "version": 3
   },
   "file_extension": ".py",
   "mimetype": "text/x-python",
   "name": "python",
   "nbconvert_exporter": "python",
   "pygments_lexer": "ipython3",
   "version": "3.6.8"
  }
 },
 "nbformat": 4,
 "nbformat_minor": 2
}
