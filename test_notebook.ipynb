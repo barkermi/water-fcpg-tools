{
 "cells": [
  {
   "cell_type": "markdown",
   "metadata": {},
   "source": [
    "# FCPG Test Notebook\n",
    "\n",
    "This notebook facilitates testing the the core functionality of the FCPG tools. This steps through providing input data, converting ESRI flow directions to TauDEM flow direction, resampling and reprojecting input data, generating upstream FCPGs, creating a dictionary to cascade values from upstream to downstream hydrologic units, updating downstream parameter grids, accumulating updated grids, and making FCPGs corrected for an upstream area. The last section verifies the handling of no data values if that is desired by the user.\n",
    "\n",
    "This notebook reads data from `./test_data` and writes data to `./test_output`. `./test_output` can be discarded after testing is complete.\n",
    "\n",
    "Input and output grids can be examined in either ArcGIS or QGIS."
   ]
  },
  {
   "cell_type": "code",
   "execution_count": null,
   "metadata": {},
   "outputs": [],
   "source": [
    "import FCPGtools as fc\n",
    "import os\n",
    "import rasterio as rs\n",
    "import geopandas as gpd\n",
    "import matplotlib.pyplot as plt\n",
    "import numpy as np\n",
    "\n",
    "# Verbose output\n",
    "verbose = True\n",
    "\n",
    "def plot(fl, cmap='Blues'):  # define a helper plotting function\n",
    "    src = rs.open(fl)\n",
    "    tmp = src.read(1)\n",
    "    try:\n",
    "        tmp[tmp == src.nodata] = np.NaN\n",
    "    except:\n",
    "        pass\n",
    "    plt.figure(figsize = (10, 10))\n",
    "    plt.imshow(tmp, cmap = cmap)\n",
    "\n",
    "\n",
    "print('FCPGtools version %s loaded from %s' % (fc.__version__, fc.__path__[0]))"
   ]
  },
  {
   "cell_type": "code",
   "execution_count": null,
   "metadata": {},
   "outputs": [],
   "source": [
    "# input data sets\n",
    "upstreamFDR = os.path.join('.', 'test_data', 'validation_upstream_fdr.tif')  # upstream area FDR grid\n",
    "downstreamFDR = os.path.join('.', 'test_data', 'validation_downstream_fdr.tif')  # downstream area FDR grid\n",
    "upstreamWBD = gpd.read_file(os.path.join('.', 'test_data/upstream_wbd.shp'))  # upstream WBD subset to test cascading parameters\n",
    "\n",
    "\n",
    "# parameter datasets\n",
    "P = os.path.join('.', 'test_data', 'validation_daymet_an_P_2017.tif')  # daymet annual P for 2017\n",
    "LC = os.path.join('.', 'test_data', 'NALCMS_2015.tif')  # North America Land Cover 2015\n",
    "\n",
    "testFolder = os.path.join('.', 'test_output')  # folder to store outputs"
   ]
  },
  {
   "cell_type": "code",
   "execution_count": null,
   "metadata": {},
   "outputs": [],
   "source": [
    "# reproject the WBD to the grid CRS\n",
    "tmp = rs.open(upstreamFDR)\n",
    "dstCRS = tmp.crs.to_proj4()\n",
    "\n",
    "upstreamWBD.to_crs(crs=dstCRS, inplace=True)"
   ]
  },
  {
   "cell_type": "code",
   "execution_count": null,
   "metadata": {},
   "outputs": [],
   "source": [
    "if os.path.exists(testFolder) is False:  # make test output location if it doesn't exist, this directory can be deleted later\n",
    "    os.mkdir(testFolder)"
   ]
  },
  {
   "cell_type": "markdown",
   "metadata": {},
   "source": [
    "## Convert ESRI FDR to TauDEM FDR"
   ]
  },
  {
   "cell_type": "code",
   "execution_count": null,
   "metadata": {},
   "outputs": [],
   "source": [
    "# define output paths\n",
    "upstreamFDRTau = os.path.join(testFolder, 'upstreamFDRtau.tif')\n",
    "downstreamFDRTau = os.path.join(testFolder, 'downstreamFDRtau.tif')"
   ]
  },
  {
   "cell_type": "code",
   "execution_count": null,
   "metadata": {},
   "outputs": [],
   "source": [
    "# reclassify ESRI drainage directions to TauDEM\n",
    "fc.tauDrainDir(upstreamFDR, upstreamFDRTau, verbose=verbose)\n",
    "fc.tauDrainDir(downstreamFDR, downstreamFDRTau, verbose=verbose)"
   ]
  },
  {
   "cell_type": "markdown",
   "metadata": {},
   "source": [
    "## Resample Daymet and Land Cover"
   ]
  },
  {
   "cell_type": "code",
   "execution_count": null,
   "metadata": {},
   "outputs": [],
   "source": [
    "# define output paths\n",
    "Pupstream = os.path.join(testFolder, 'Pup.tif')\n",
    "Pdownstream = os.path.join(testFolder, 'Pdwn.tif')\n",
    "LCupstream = os.path.join(testFolder, 'LCup.tif')\n",
    "LCdownstream = os.path.join(testFolder, 'LCdwn.tif')"
   ]
  },
  {
   "cell_type": "code",
   "execution_count": null,
   "metadata": {},
   "outputs": [],
   "source": [
    "# resample and crop daymet upstream and downstream\n",
    "fc.resampleParam(P, upstreamFDRTau, Pupstream, forceProj = True, verbose=verbose)\n",
    "fc.resampleParam(P, downstreamFDRTau, Pdownstream, forceProj = True, verbose=verbose)\n",
    "fc.resampleParam(LC, downstreamFDRTau, LCdownstream, forceProj = True, verbose=verbose,\n",
    "                 resampleMethod = 'near')\n",
    "fc.resampleParam(LC, upstreamFDRTau, LCupstream, forceProj = True, verbose=verbose,\n",
    "                 resampleMethod = 'near')"
   ]
  },
  {
   "cell_type": "markdown",
   "metadata": {},
   "source": [
    "## Binarize Land Cover"
   ]
  },
  {
   "cell_type": "code",
   "execution_count": null,
   "metadata": {},
   "outputs": [],
   "source": [
    "usLCbinary = fc.cat2bin(LCupstream, testFolder, verbose=verbose)\n",
    "dsLCbinary = fc.cat2bin(LCdownstream, testFolder, verbose=verbose)"
   ]
  },
  {
   "cell_type": "markdown",
   "metadata": {},
   "source": [
    "## Accumulate the Upstream Area"
   ]
  },
  {
   "cell_type": "code",
   "execution_count": null,
   "metadata": {},
   "outputs": [],
   "source": [
    "upstreamFAC = os.path.join(testFolder, 'upstreamFAC.tif')  # path for the output FAC grid.\n",
    "\n",
    "fc.tauFlowAccum(upstreamFDRTau, upstreamFAC, cores=4, verbose=verbose)"
   ]
  },
  {
   "cell_type": "code",
   "execution_count": null,
   "metadata": {},
   "outputs": [],
   "source": [
    "plot(upstreamFAC)"
   ]
  },
  {
   "cell_type": "markdown",
   "metadata": {},
   "source": [
    "## Demonstration of Multiple Pour Points\n",
    "\n",
    "The following is a demonstration of the workflow for HUC4 geospatial tiles (NHD High-Res). The update dictionary produced here is not used after this Section."
   ]
  },
  {
   "cell_type": "code",
   "execution_count": null,
   "metadata": {},
   "outputs": [],
   "source": [
    "upstreamWBD"
   ]
  },
  {
   "cell_type": "code",
   "execution_count": null,
   "metadata": {},
   "outputs": [],
   "source": [
    "pourBasins = fc.makePourBasins(upstreamWBD, '1407', '1501')\n",
    "pourPts = fc.findPourPoints(pourBasins, upstreamFAC, upstreamFDRTau, plotBasins=True)"
   ]
  },
  {
   "cell_type": "code",
   "execution_count": null,
   "metadata": {},
   "outputs": [],
   "source": [
    "pourPts"
   ]
  },
  {
   "cell_type": "code",
   "execution_count": null,
   "metadata": {},
   "outputs": [],
   "source": [
    "# create an initial dictionary for the region 14 to 15 cascade\n",
    "updateDictFl = os.path.join(testFolder, 'HUC1407_update.json')\n",
    "upHUC = '1407'\n",
    "x, y, w = zip(*pourPts)  # expand the pour points\n",
    "\n",
    "ud = fc.createUpdateDict(x, y, w, upHUC, updateDictFl, verbose = verbose)"
   ]
  },
  {
   "cell_type": "code",
   "execution_count": null,
   "metadata": {},
   "outputs": [],
   "source": [
    "ud  # there are two pour points"
   ]
  },
  {
   "cell_type": "markdown",
   "metadata": {},
   "source": [
    "## Find Pour Point to Downstream Area"
   ]
  },
  {
   "cell_type": "code",
   "execution_count": null,
   "metadata": {},
   "outputs": [],
   "source": [
    "# find the single pour point between region 14 and region 15.\n",
    "x, y, d, w = fc.findLastFACFD(upstreamFAC, fl = upstreamFAC)  # locate max FAC value.\n",
    "x, y, f, w = fc.findLastFACFD(upstreamFAC, fl = upstreamFDRTau)  # Get flow direction of above point"
   ]
  },
  {
   "cell_type": "code",
   "execution_count": null,
   "metadata": {},
   "outputs": [],
   "source": [
    "# create an initial dictionary for the region 14 to 15 cascade\n",
    "updateDictFl = os.path.join(testFolder, 'HUC14_update.json')\n",
    "upHUC = '14'\n",
    "ud = fc.createUpdateDict([x], [y], [d], upHUC, updateDictFl, verbose = verbose)"
   ]
  },
  {
   "cell_type": "markdown",
   "metadata": {},
   "source": [
    "## FCPG Upstream Daymet and Land Cover"
   ]
  },
  {
   "cell_type": "code",
   "execution_count": null,
   "metadata": {},
   "outputs": [],
   "source": [
    "usLCbinary.append(Pupstream)  # append the Daymet path to the land cover binary grids"
   ]
  },
  {
   "cell_type": "code",
   "execution_count": null,
   "metadata": {},
   "outputs": [],
   "source": [
    "accumParams = fc.accumulateParam_batch(usLCbinary, upstreamFDRTau, testFolder,\n",
    "                                       cores = 4, verbose = verbose)"
   ]
  },
  {
   "cell_type": "code",
   "execution_count": null,
   "metadata": {},
   "outputs": [],
   "source": [
    "upstream_cpgs = fc.make_fcpg_batch(accumParams, upstreamFAC, testFolder, verbose = verbose)"
   ]
  },
  {
   "cell_type": "markdown",
   "metadata": {},
   "source": [
    "### Create Update Dictionary with FCPG Values"
   ]
  },
  {
   "cell_type": "code",
   "execution_count": null,
   "metadata": {
    "scrolled": true
   },
   "outputs": [],
   "source": [
    "# Update the dictionary with values from the upstream accumulated parameters, this should probably be a v2 function...\n",
    "for fl in accumParams:  # iterate through the accumulated parameters\n",
    "    print(fl)\n",
    "    # Parse the file names into variable names...\n",
    "    varname = fl.split('/')[-1].split('up')[0]\n",
    "    if varname == 'LC':\n",
    "        mod = fl.split('/')[-1].split('up')[-1].split('accum')[0]\n",
    "        var = varname+mod\n",
    "    else:\n",
    "        var = varname\n",
    "\n",
    "    # Query accumualted raster for values\n",
    "    val = str(fc.queryPoint(x, y, fl))\n",
    "\n",
    "    ud = fc.updateDict(updateDictFl, '14', var, [val])"
   ]
  },
  {
   "cell_type": "markdown",
   "metadata": {},
   "source": [
    "## Cascade to Downstream Area"
   ]
  },
  {
   "cell_type": "code",
   "execution_count": null,
   "metadata": {},
   "outputs": [],
   "source": [
    "downstreamFACadj = os.path.join(testFolder, 'downstreamFACadj.tif')\n",
    "downstreamFACweight = os.path.join(testFolder, 'downstreamFACweight.tif')\n",
    "fc.adjustFAC(downstreamFDRTau, downstreamFACweight, updateDictFl,\n",
    "             downstreamFDRTau, downstreamFACadj, cores = 4, verbose = verbose)"
   ]
  },
  {
   "cell_type": "code",
   "execution_count": null,
   "metadata": {},
   "outputs": [],
   "source": [
    "dsLCbinary.append(Pdownstream) #add the precip into the downstream land cover files"
   ]
  },
  {
   "cell_type": "code",
   "execution_count": null,
   "metadata": {},
   "outputs": [],
   "source": [
    "# create updated, unaccumulated parameter grids for the downstream region\n",
    "adjDSparams = []\n",
    "for fl, inGrid in zip(accumParams, dsLCbinary): # iterate through the accumulated parameters\n",
    "    # Parse the file names into variable names...\n",
    "    varname = fl.split('/')[-1].split('up')[0]\n",
    "    if varname == 'LC':\n",
    "        mod = fl.split('/')[-1].split('up')[-1].split('accum')[0]\n",
    "        var = varname+mod\n",
    "    else:\n",
    "        var = varname\n",
    "\n",
    "    outfl = inGrid.split('.tif')[0]+'adj.tif'\n",
    "\n",
    "    fc.adjustParam(var, inGrid, updateDictFl, outfl, verbose = verbose)\n",
    "    adjDSparams.append(outfl)"
   ]
  },
  {
   "cell_type": "code",
   "execution_count": null,
   "metadata": {},
   "outputs": [],
   "source": [
    "# accumulate the downstream parameter grids\n",
    "DSaccum = fc.accumulateParam_batch(adjDSparams, downstreamFDRTau, testFolder, cores=4, verbose = verbose)"
   ]
  },
  {
   "cell_type": "code",
   "execution_count": null,
   "metadata": {},
   "outputs": [],
   "source": [
    "# accumulate the downstream area\n",
    "dsFCPG = fc.make_fcpg_batch(DSaccum, downstreamFACadj, testFolder, verbose = verbose)"
   ]
  },
  {
   "cell_type": "markdown",
   "metadata": {},
   "source": [
    "## Insert NoData values into Daymet and Verify FCPG NoData Behavior "
   ]
  },
  {
   "cell_type": "code",
   "execution_count": null,
   "metadata": {},
   "outputs": [],
   "source": [
    "with rs.open(upstreamFDR) as src:\n",
    "    fdr = src.read(1)\n",
    "    fdr[fdr == src.nodata] = 0\n",
    "    fdr[fdr != 0] = 1\n",
    "    mask = fdr.astype(np.uint)"
   ]
  },
  {
   "cell_type": "code",
   "execution_count": null,
   "metadata": {},
   "outputs": [],
   "source": [
    "plt.imshow(mask)"
   ]
  },
  {
   "cell_type": "code",
   "execution_count": null,
   "metadata": {},
   "outputs": [],
   "source": [
    "# make row,col vectors of where to insert nodata values\n",
    "\n",
    "size = 1000  # number of no data values to insert\n",
    "\n",
    "idCol, idRow = np.where(mask == 1)  # get locations of all points within the watershed\n",
    "\n",
    "cols = np.random.choice(idCol, size = size, replace = False)\n",
    "rows = np.random.choice(idRow, size = size, replace = False)"
   ]
  },
  {
   "cell_type": "code",
   "execution_count": null,
   "metadata": {},
   "outputs": [],
   "source": [
    "PupstreamNoData = os.path.join(testFolder, 'PupNoData.tif')  # output file name\n",
    "\n",
    "# open source\n",
    "with rs.open(Pupstream) as src:\n",
    "    meta = src.meta\n",
    "    noData = src.nodata\n",
    "    P = src.read(1)\n",
    "\n",
    "P[cols, rows] = noData  # insert nodata values\n",
    "\n",
    "# write out updated P grid\n",
    "with rs.open(PupstreamNoData, 'w', **meta) as dst:\n",
    "    dst.write(P, 1)"
   ]
  },
  {
   "cell_type": "code",
   "execution_count": null,
   "metadata": {},
   "outputs": [],
   "source": [
    "plt.imshow(P)"
   ]
  },
  {
   "cell_type": "code",
   "execution_count": null,
   "metadata": {},
   "outputs": [],
   "source": [
    "# accumualte the P raster with no data values added and produce the noData grids\n",
    "\n",
    "accumRast = os.path.join(testFolder, 'PupNoData_accum.tif')\n",
    "outNoDataAccum = os.path.join(testFolder, 'PupNoData_accumNoData.tif')\n",
    "outNoData = os.path.join(testFolder, 'PupNodataRast.tif')\n",
    "outNoDataZero = os.path.join(testFolder, 'PupNoDataZero.tif')\n",
    "\n",
    "fc.accumulateParam(PupstreamNoData, upstreamFDRTau, accumRast,\n",
    "                   outNoDataRast = outNoData, outNoDataAccum=outNoDataAccum,\n",
    "                   zeroNoDataRast = outNoDataZero, cores = 4, verbose = verbose)"
   ]
  },
  {
   "cell_type": "code",
   "execution_count": null,
   "metadata": {},
   "outputs": [],
   "source": [
    "# make a FCPG accounting for noData\n",
    "outRast = os.path.join(testFolder, 'Pup_FCPG_noData.tif')\n",
    "\n",
    "fc.make_fcpg(accumRast, upstreamFAC, outRast, noDataRast=outNoDataAccum, verbose = verbose)"
   ]
  },
  {
   "cell_type": "markdown",
   "metadata": {},
   "source": [
    "## Decay FCPG\n",
    "\n",
    "Produce a FCPG where values are decayed based on their distance to a stream, this can be useful for producing FCPGs with more localized values rather than basin-average values."
   ]
  },
  {
   "cell_type": "code",
   "execution_count": null,
   "metadata": {},
   "outputs": [],
   "source": [
    "upstreamFDRTauDinf = os.path.join(testFolder, 'upstreamFDRDinf.tif') # D-infinity flow direction raster\n",
    "fc.d8todinfinity(upstreamFDRTau, upstreamFDRTauDinf, verbose = verbose) # convert D8 flow directions to D-inf flow directions"
   ]
  },
  {
   "cell_type": "code",
   "execution_count": null,
   "metadata": {},
   "outputs": [],
   "source": [
    "streamDistRast = os.path.join(testFolder, 'upstreamDist2Stream.tif') # distance to stream raster\n",
    "streamRast = os.path.join(testFolder, 'upstreamSTR900.tif') # stream raster\n",
    "fc.makeStreams(upstreamFAC, streamRast, verbose = verbose)\n",
    "fc.dist2stream(upstreamFDRTau, upstreamFAC, 900, streamDistRast, cores = 4, verbose = verbose) # compute distance to streams, use 900 cells as accumulation threshold "
   ]
  },
  {
   "cell_type": "code",
   "execution_count": null,
   "metadata": {},
   "outputs": [],
   "source": [
    "decayRast = os.path.join(testFolder, 'upstreamDecay.tif')\n",
    "k = 4  # decay coefficient\n",
    "fc.makeDecayGrid(streamDistRast, k, decayRast, verbose = verbose)\n",
    "plot(decayRast, cmap = 'Greens')"
   ]
  },
  {
   "cell_type": "code",
   "execution_count": null,
   "metadata": {},
   "outputs": [],
   "source": [
    "decayFAC = os.path.join(testFolder, 'decayAccum.tif')  # decay accumulation grid\n",
    "decayParam = os.path.join(testFolder, 'decayP.tif')  # decay parameter accumulation grid\n",
    "\n",
    "fc.decayAccum(upstreamFDRTauDinf, decayRast, decayParam,  # perform the parameter decay accumulation\n",
    "              paramRast = Pupstream, cores = 4, verbose = verbose)"
   ]
  },
  {
   "cell_type": "code",
   "execution_count": null,
   "metadata": {},
   "outputs": [],
   "source": [
    "decayFCPG = os.path.join(testFolder, 'decayFCPG.tif')\n",
    "fc.maskStreams(decayParam, streamRast, decayFCPG, verbose = verbose) #Mask out pixels not on streamlines"
   ]
  }
 ],
 "metadata": {
  "kernelspec": {
   "display_name": "Python 3 (ipykernel)",
   "language": "python",
   "name": "python3"
  },
  "language_info": {
   "codemirror_mode": {
    "name": "ipython",
    "version": 3
   },
   "file_extension": ".py",
   "mimetype": "text/x-python",
   "name": "python",
   "nbconvert_exporter": "python",
   "pygments_lexer": "ipython3",
   "version": "3.9.13"
  }
 },
 "nbformat": 4,
 "nbformat_minor": 4
}
