{
 "cells": [
  {
   "cell_type": "markdown",
   "metadata": {},
   "source": [
    "# FCPG Test Notebook\n",
    "\n",
    "This notebook facilitates testing the the core functionality of the FCPG tools. This steps through providing input data, converting ESRI flow directions to TauDEM flow direction, resampling and reprojecting input data, generating upstream FCPGs, creating a dictionary to cascade values from upstream to downstream hydrologic units, updating downstream parameter grids, accumulating updated grids, and making FCPGs corrected for an upstream area. The last section verifies the handling of no data values if that is desired by the user.\n",
    "\n",
    "This notebook reads data from `./test_data` and writes data to `./test_output`. `./test_output` can be discarded after testing is complete.\n",
    "\n",
    "Input and output grids can be examined in either ArcGIS or QGIS."
   ]
  },
  {
   "cell_type": "code",
   "execution_count": 1,
   "metadata": {},
   "outputs": [],
   "source": [
    "import FCPGtools as fc\n",
    "import os\n",
    "import rasterio as rs\n",
    "import geopandas as gpd\n",
    "import matplotlib.pyplot as plt\n",
    "import numpy as np"
   ]
  },
  {
   "cell_type": "code",
   "execution_count": 2,
   "metadata": {},
   "outputs": [],
   "source": [
    "# input data sets\n",
    "upstreamFDR = os.path.join('.','test_data','validation_upstream_fdr.tif') # upstream area FDR grid\n",
    "downstreamFDR = os.path.join('.','test_data','validation_downstream_fdr.tif') # downstream area FDR grid\n",
    "upstreamWBD = gpd.read_file(os.path.join('.','test_data/upstream_wbd.shp')) # upstream WBD subset to test cascading parameters\n",
    "\n",
    "\n",
    "# parameter datasets\n",
    "P = os.path.join('.','test_data','validation_daymet_an_P_2017.tif') # daymet annual P for 2017\n",
    "LC = os.path.join('.','test_data','NALCMS_2015.tif') # North America Land Cover 2015\n",
    "\n",
    "testFolder = os.path.join('.','test_output') # folder to store outputs"
   ]
  },
  {
   "cell_type": "code",
   "execution_count": 3,
   "metadata": {},
   "outputs": [],
   "source": [
    "# reproject the WBD to the grid CRS\n",
    "tmp = rs.open(upstreamFDR)\n",
    "dstCRS = tmp.crs.to_proj4()\n",
    "\n",
    "upstreamWBD.to_crs(crs=dstCRS, inplace=True)"
   ]
  },
  {
   "cell_type": "code",
   "execution_count": 4,
   "metadata": {},
   "outputs": [],
   "source": [
    "if os.path.exists(testFolder) == False: # make test output location if it doesn't exist, this directory can be deleted later\n",
    "    os.mkdir(testFolder)"
   ]
  },
  {
   "cell_type": "markdown",
   "metadata": {},
   "source": [
    "## Convert ESRI FDR to TauDEM FDR"
   ]
  },
  {
   "cell_type": "code",
   "execution_count": 5,
   "metadata": {},
   "outputs": [],
   "source": [
    "# define output paths\n",
    "upstreamFDRTau = os.path.join(testFolder,'upstreamFDRtau.tif')\n",
    "downstreamFDRTau = os.path.join(testFolder,'downstreamFDRtau.tif')"
   ]
  },
  {
   "cell_type": "code",
   "execution_count": 6,
   "metadata": {},
   "outputs": [
    {
     "name": "stdout",
     "output_type": "stream",
     "text": [
      "Reclassifying Flow Directions...\n",
      "TauDEM drainage direction written to: ./test_output/upstreamFDRtau.tif\n",
      "Reclassifying Flow Directions...\n",
      "TauDEM drainage direction written to: ./test_output/downstreamFDRtau.tif\n"
     ]
    }
   ],
   "source": [
    "# reclassify ESRI drainage directions to TauDEM\n",
    "fc.tauDrainDir(upstreamFDR, upstreamFDRTau)\n",
    "fc.tauDrainDir(downstreamFDR, downstreamFDRTau)"
   ]
  },
  {
   "cell_type": "markdown",
   "metadata": {},
   "source": [
    "## Resample Daymet and Land Cover"
   ]
  },
  {
   "cell_type": "code",
   "execution_count": 7,
   "metadata": {},
   "outputs": [],
   "source": [
    "# define output paths\n",
    "Pupstream = os.path.join(testFolder,'Pup.tif')\n",
    "Pdownstream = os.path.join(testFolder,'Pdwn.tif')\n",
    "LCupstream = os.path.join(testFolder,'LCup.tif')\n",
    "LCdownstream = os.path.join(testFolder,'LCdwn.tif')"
   ]
  },
  {
   "cell_type": "code",
   "execution_count": 8,
   "metadata": {},
   "outputs": [
    {
     "name": "stdout",
     "output_type": "stream",
     "text": [
      "Flow Direction Proj4: PROJCS[\"NAD_1983_Albers\",GEOGCS[\"NAD83\",DATUM[\"North_American_Datum_1983\",SPHEROID[\"GRS 1980\",6378137,298.2572221010042,AUTHORITY[\"EPSG\",\"7019\"]],AUTHORITY[\"EPSG\",\"6269\"]],PRIMEM[\"Greenwich\",0],UNIT[\"degree\",0.0174532925199433],AUTHORITY[\"EPSG\",\"4269\"]],PROJECTION[\"Albers_Conic_Equal_Area\"],PARAMETER[\"standard_parallel_1\",29.5],PARAMETER[\"standard_parallel_2\",45.5],PARAMETER[\"latitude_of_center\",23],PARAMETER[\"longitude_of_center\",-96],PARAMETER[\"false_easting\",0],PARAMETER[\"false_northing\",0],UNIT[\"metre\",1,AUTHORITY[\"EPSG\",\"9001\"]]]\n",
      "Parameter Proj4:PROJCS[\"Lambert_Conformal_Conic_2SP\",GEOGCS[\"GCS_unknown\",DATUM[\"D_unknown\",SPHEROID[\"Spheroid\",6378137,298.25723]],PRIMEM[\"Greenwich\",0],UNIT[\"degree\",0.0174532925199433]],PROJECTION[\"Lambert_Conformal_Conic_2SP\"],PARAMETER[\"standard_parallel_1\",25],PARAMETER[\"standard_parallel_2\",60],PARAMETER[\"latitude_of_origin\",42.5],PARAMETER[\"central_meridian\",-100],PARAMETER[\"false_easting\",0],PARAMETER[\"false_northing\",0],UNIT[\"metre\",1,AUTHORITY[\"EPSG\",\"9001\"]]]\n",
      "Flow Direction Xsize:30.0\n",
      "Parameter Xsize:1000.0\n",
      "Resampling and Reprojecting Parameter Raster...\n",
      "gdalwarp -overwrite -tr 30.0 30.0 -t_srs PROJCS[\"NAD_1983_Albers\",GEOGCS[\"NAD83\",DATUM[\"North_American_Datum_1983\",SPHEROID[\"GRS 1980\",6378137,298.2572221010042,AUTHORITY[\"EPSG\",\"7019\"]],AUTHORITY[\"EPSG\",\"6269\"]],PRIMEM[\"Greenwich\",0],UNIT[\"degree\",0.0174532925199433],AUTHORITY[\"EPSG\",\"4269\"]],PROJECTION[\"Albers_Conic_Equal_Area\"],PARAMETER[\"standard_parallel_1\",29.5],PARAMETER[\"standard_parallel_2\",45.5],PARAMETER[\"latitude_of_center\",23],PARAMETER[\"longitude_of_center\",-96],PARAMETER[\"false_easting\",0],PARAMETER[\"false_northing\",0],UNIT[\"metre\",1,AUTHORITY[\"EPSG\",\"9001\"]]] -te -1384004.9999999995 1635194.9999999963 -1354064.9999999995 1666364.9999999963 -co \"PROFILE=GeoTIFF\" -co \"TILED=YES\" -co \"SPARSE_OK=TRUE\" -co \"COMPRESS=LZW\" -co \"NUM_THREADS=1\" -co \"BIGTIFF=IF_SAFER\" -r bilinear -dstnodata -999.0 -ot Float32 ./test_data/validation_daymet_an_P_2017.tif ./test_output/Pup.tif\n",
      "Flow Direction Proj4: PROJCS[\"NAD_1983_Albers\",GEOGCS[\"NAD83\",DATUM[\"North_American_Datum_1983\",SPHEROID[\"GRS 1980\",6378137,298.2572221010042,AUTHORITY[\"EPSG\",\"7019\"]],AUTHORITY[\"EPSG\",\"6269\"]],PRIMEM[\"Greenwich\",0],UNIT[\"degree\",0.0174532925199433],AUTHORITY[\"EPSG\",\"4269\"]],PROJECTION[\"Albers_Conic_Equal_Area\"],PARAMETER[\"standard_parallel_1\",29.5],PARAMETER[\"standard_parallel_2\",45.5],PARAMETER[\"latitude_of_center\",23],PARAMETER[\"longitude_of_center\",-96],PARAMETER[\"false_easting\",0],PARAMETER[\"false_northing\",0],UNIT[\"metre\",1,AUTHORITY[\"EPSG\",\"9001\"]]]\n",
      "Parameter Proj4:PROJCS[\"Lambert_Conformal_Conic_2SP\",GEOGCS[\"GCS_unknown\",DATUM[\"D_unknown\",SPHEROID[\"Spheroid\",6378137,298.25723]],PRIMEM[\"Greenwich\",0],UNIT[\"degree\",0.0174532925199433]],PROJECTION[\"Lambert_Conformal_Conic_2SP\"],PARAMETER[\"standard_parallel_1\",25],PARAMETER[\"standard_parallel_2\",60],PARAMETER[\"latitude_of_origin\",42.5],PARAMETER[\"central_meridian\",-100],PARAMETER[\"false_easting\",0],PARAMETER[\"false_northing\",0],UNIT[\"metre\",1,AUTHORITY[\"EPSG\",\"9001\"]]]\n",
      "Flow Direction Xsize:30.0\n",
      "Parameter Xsize:1000.0\n",
      "Resampling and Reprojecting Parameter Raster...\n",
      "gdalwarp -overwrite -tr 30.0 30.0 -t_srs PROJCS[\"NAD_1983_Albers\",GEOGCS[\"NAD83\",DATUM[\"North_American_Datum_1983\",SPHEROID[\"GRS 1980\",6378137,298.2572221010042,AUTHORITY[\"EPSG\",\"7019\"]],AUTHORITY[\"EPSG\",\"6269\"]],PRIMEM[\"Greenwich\",0],UNIT[\"degree\",0.0174532925199433],AUTHORITY[\"EPSG\",\"4269\"]],PROJECTION[\"Albers_Conic_Equal_Area\"],PARAMETER[\"standard_parallel_1\",29.5],PARAMETER[\"standard_parallel_2\",45.5],PARAMETER[\"latitude_of_center\",23],PARAMETER[\"longitude_of_center\",-96],PARAMETER[\"false_easting\",0],PARAMETER[\"false_northing\",0],UNIT[\"metre\",1,AUTHORITY[\"EPSG\",\"9001\"]]] -te -1384635.0000000007 1637025.0 -1369395.0000000007 1653435.0 -co \"PROFILE=GeoTIFF\" -co \"TILED=YES\" -co \"SPARSE_OK=TRUE\" -co \"COMPRESS=LZW\" -co \"NUM_THREADS=1\" -co \"BIGTIFF=IF_SAFER\" -r bilinear -dstnodata -999.0 -ot Float32 ./test_data/validation_daymet_an_P_2017.tif ./test_output/Pdwn.tif\n",
      "Flow Direction Proj4: PROJCS[\"NAD_1983_Albers\",GEOGCS[\"NAD83\",DATUM[\"North_American_Datum_1983\",SPHEROID[\"GRS 1980\",6378137,298.2572221010042,AUTHORITY[\"EPSG\",\"7019\"]],AUTHORITY[\"EPSG\",\"6269\"]],PRIMEM[\"Greenwich\",0],UNIT[\"degree\",0.0174532925199433],AUTHORITY[\"EPSG\",\"4269\"]],PROJECTION[\"Albers_Conic_Equal_Area\"],PARAMETER[\"standard_parallel_1\",29.5],PARAMETER[\"standard_parallel_2\",45.5],PARAMETER[\"latitude_of_center\",23],PARAMETER[\"longitude_of_center\",-96],PARAMETER[\"false_easting\",0],PARAMETER[\"false_northing\",0],UNIT[\"metre\",1,AUTHORITY[\"EPSG\",\"9001\"]]]\n",
      "Parameter Proj4:PROJCS[\"WGS_1984_Lambert_Azimuthal_Equal_Area\",GEOGCS[\"WGS 84\",DATUM[\"WGS_1984\",SPHEROID[\"WGS 84\",6378137,298.257223563,AUTHORITY[\"EPSG\",\"7030\"]],AUTHORITY[\"EPSG\",\"6326\"]],PRIMEM[\"Greenwich\",0],UNIT[\"degree\",0.0174532925199433],AUTHORITY[\"EPSG\",\"4326\"]],PROJECTION[\"Lambert_Azimuthal_Equal_Area\"],PARAMETER[\"latitude_of_center\",45],PARAMETER[\"longitude_of_center\",-100],PARAMETER[\"false_easting\",0],PARAMETER[\"false_northing\",0],UNIT[\"metre\",1,AUTHORITY[\"EPSG\",\"9001\"]]]\n",
      "Flow Direction Xsize:30.0\n",
      "Parameter Xsize:30.0\n",
      "Warning: 8 bit inputs are unsupported and may not be reprojected correctly\n",
      "Resampling and Reprojecting Parameter Raster...\n",
      "gdalwarp -overwrite -tr 30.0 30.0 -t_srs PROJCS[\"NAD_1983_Albers\",GEOGCS[\"NAD83\",DATUM[\"North_American_Datum_1983\",SPHEROID[\"GRS 1980\",6378137,298.2572221010042,AUTHORITY[\"EPSG\",\"7019\"]],AUTHORITY[\"EPSG\",\"6269\"]],PRIMEM[\"Greenwich\",0],UNIT[\"degree\",0.0174532925199433],AUTHORITY[\"EPSG\",\"4269\"]],PROJECTION[\"Albers_Conic_Equal_Area\"],PARAMETER[\"standard_parallel_1\",29.5],PARAMETER[\"standard_parallel_2\",45.5],PARAMETER[\"latitude_of_center\",23],PARAMETER[\"longitude_of_center\",-96],PARAMETER[\"false_easting\",0],PARAMETER[\"false_northing\",0],UNIT[\"metre\",1,AUTHORITY[\"EPSG\",\"9001\"]]] -te -1384635.0000000007 1637025.0 -1369395.0000000007 1653435.0 -co \"PROFILE=GeoTIFF\" -co \"TILED=YES\" -co \"SPARSE_OK=TRUE\" -co \"COMPRESS=LZW\" -co \"NUM_THREADS=1\" -co \"BIGTIFF=IF_SAFER\" -r bilinear -dstnodata None -ot Int16 ./test_data/NALCMS_2015.tif ./test_output/LCdwn.tif\n",
      "Flow Direction Proj4: PROJCS[\"NAD_1983_Albers\",GEOGCS[\"NAD83\",DATUM[\"North_American_Datum_1983\",SPHEROID[\"GRS 1980\",6378137,298.2572221010042,AUTHORITY[\"EPSG\",\"7019\"]],AUTHORITY[\"EPSG\",\"6269\"]],PRIMEM[\"Greenwich\",0],UNIT[\"degree\",0.0174532925199433],AUTHORITY[\"EPSG\",\"4269\"]],PROJECTION[\"Albers_Conic_Equal_Area\"],PARAMETER[\"standard_parallel_1\",29.5],PARAMETER[\"standard_parallel_2\",45.5],PARAMETER[\"latitude_of_center\",23],PARAMETER[\"longitude_of_center\",-96],PARAMETER[\"false_easting\",0],PARAMETER[\"false_northing\",0],UNIT[\"metre\",1,AUTHORITY[\"EPSG\",\"9001\"]]]\n",
      "Parameter Proj4:PROJCS[\"WGS_1984_Lambert_Azimuthal_Equal_Area\",GEOGCS[\"WGS 84\",DATUM[\"WGS_1984\",SPHEROID[\"WGS 84\",6378137,298.257223563,AUTHORITY[\"EPSG\",\"7030\"]],AUTHORITY[\"EPSG\",\"6326\"]],PRIMEM[\"Greenwich\",0],UNIT[\"degree\",0.0174532925199433],AUTHORITY[\"EPSG\",\"4326\"]],PROJECTION[\"Lambert_Azimuthal_Equal_Area\"],PARAMETER[\"latitude_of_center\",45],PARAMETER[\"longitude_of_center\",-100],PARAMETER[\"false_easting\",0],PARAMETER[\"false_northing\",0],UNIT[\"metre\",1,AUTHORITY[\"EPSG\",\"9001\"]]]\n",
      "Flow Direction Xsize:30.0\n",
      "Parameter Xsize:30.0\n",
      "Warning: 8 bit inputs are unsupported and may not be reprojected correctly\n",
      "Resampling and Reprojecting Parameter Raster...\n",
      "gdalwarp -overwrite -tr 30.0 30.0 -t_srs PROJCS[\"NAD_1983_Albers\",GEOGCS[\"NAD83\",DATUM[\"North_American_Datum_1983\",SPHEROID[\"GRS 1980\",6378137,298.2572221010042,AUTHORITY[\"EPSG\",\"7019\"]],AUTHORITY[\"EPSG\",\"6269\"]],PRIMEM[\"Greenwich\",0],UNIT[\"degree\",0.0174532925199433],AUTHORITY[\"EPSG\",\"4269\"]],PROJECTION[\"Albers_Conic_Equal_Area\"],PARAMETER[\"standard_parallel_1\",29.5],PARAMETER[\"standard_parallel_2\",45.5],PARAMETER[\"latitude_of_center\",23],PARAMETER[\"longitude_of_center\",-96],PARAMETER[\"false_easting\",0],PARAMETER[\"false_northing\",0],UNIT[\"metre\",1,AUTHORITY[\"EPSG\",\"9001\"]]] -te -1384004.9999999995 1635194.9999999963 -1354064.9999999995 1666364.9999999963 -co \"PROFILE=GeoTIFF\" -co \"TILED=YES\" -co \"SPARSE_OK=TRUE\" -co \"COMPRESS=LZW\" -co \"NUM_THREADS=1\" -co \"BIGTIFF=IF_SAFER\" -r bilinear -dstnodata None -ot Int16 ./test_data/NALCMS_2015.tif ./test_output/LCup.tif\n"
     ]
    }
   ],
   "source": [
    "fc.resampleParam(P,upstreamFDRTau, Pupstream) # resample and crop daymet upstream\n",
    "fc.resampleParam(P,downstreamFDRTau,Pdownstream) # downstream\n",
    "fc.resampleParam(LC, downstreamFDRTau, LCdownstream)\n",
    "fc.resampleParam(LC, upstreamFDRTau, LCupstream)"
   ]
  },
  {
   "cell_type": "markdown",
   "metadata": {},
   "source": [
    "## Binarize Land Cover"
   ]
  },
  {
   "cell_type": "code",
   "execution_count": 9,
   "metadata": {},
   "outputs": [
    {
     "name": "stdout",
     "output_type": "stream",
     "text": [
      "Creating binaries for ./test_output/LCup.tif\n",
      "Saving ./test_output/LCup0.tif\n",
      "Saving ./test_output/LCup1.tif\n",
      "Saving ./test_output/LCup2.tif\n",
      "Saving ./test_output/LCup3.tif\n",
      "Saving ./test_output/LCup5.tif\n",
      "Saving ./test_output/LCup4.tif\n",
      "Saving ./test_output/LCup6.tif\n",
      "Saving ./test_output/LCup7.tif\n",
      "Saving ./test_output/LCup8.tif\n",
      "Saving ./test_output/LCup9.tif\n",
      "Saving ./test_output/LCup10.tif\n",
      "Saving ./test_output/LCup11.tif\n",
      "Saving ./test_output/LCup12.tif\n",
      "Saving ./test_output/LCup13.tif\n",
      "Saving ./test_output/LCup14.tif\n",
      "Saving ./test_output/LCup15.tif\n",
      "Saving ./test_output/LCup16.tif\n",
      "Saving ./test_output/LCup17.tif\n",
      "Saving ./test_output/LCup18.tif\n",
      "Creating binaries for ./test_output/LCdwn.tif\n",
      "Saving ./test_output/LCdwn0.tif\n",
      "Saving ./test_output/LCdwn1.tif\n",
      "Saving ./test_output/LCdwn2.tif\n",
      "Saving ./test_output/LCdwn3.tif\n",
      "Saving ./test_output/LCdwn4.tif\n",
      "Saving ./test_output/LCdwn5.tif\n",
      "Saving ./test_output/LCdwn6.tif\n",
      "Saving ./test_output/LCdwn7.tif\n",
      "Saving ./test_output/LCdwn8.tif\n",
      "Saving ./test_output/LCdwn9.tif\n",
      "Saving ./test_output/LCdwn10.tif\n",
      "Saving ./test_output/LCdwn11.tif\n",
      "Saving ./test_output/LCdwn12.tif\n",
      "Saving ./test_output/LCdwn13.tif\n",
      "Saving ./test_output/LCdwn14.tif\n",
      "Saving ./test_output/LCdwn15.tif\n",
      "Saving ./test_output/LCdwn16.tif\n",
      "Saving ./test_output/LCdwn17.tif\n",
      "Saving ./test_output/LCdwn18.tif\n"
     ]
    }
   ],
   "source": [
    "usLCbinary = fc.cat2bin(LCupstream, testFolder)\n",
    "dsLCbinary = fc.cat2bin(LCdownstream, testFolder)"
   ]
  },
  {
   "cell_type": "markdown",
   "metadata": {},
   "source": [
    "## Accumulate the Upstream Area"
   ]
  },
  {
   "cell_type": "code",
   "execution_count": 10,
   "metadata": {},
   "outputs": [
    {
     "name": "stdout",
     "output_type": "stream",
     "text": [
      "Accumulating Data...\n",
      "mpiexec -bind-to rr -n 4 aread8 -p ./test_output/upstreamFDRtau.tif -ad8 ./test_output/upstreamFAC.tif -nc\n"
     ]
    }
   ],
   "source": [
    "upstreamFAC = os.path.join(testFolder,'upstreamFAC.tif') # path for the output FAC grid.\n",
    "\n",
    "fc.tauFlowAccum(upstreamFDRTau,upstreamFAC, cores=4)"
   ]
  },
  {
   "cell_type": "code",
   "execution_count": 11,
   "metadata": {},
   "outputs": [
    {
     "data": {
      "text/plain": [
       "<matplotlib.image.AxesImage at 0x7fcaa2a3bd90>"
      ]
     },
     "execution_count": 11,
     "metadata": {},
     "output_type": "execute_result"
    },
    {
     "data": {
      "image/png": "[encoded data removed]",
      "text/plain": [
       "<Figure size 720x720 with 1 Axes>"
      ]
     },
     "metadata": {
      "needs_background": "light"
     },
     "output_type": "display_data"
    }
   ],
   "source": [
    "src = rs.open(upstreamFAC)\n",
    "tmp = src.read(1)\n",
    "tmp[tmp == src.nodata] = np.NaN\n",
    "plt.figure(figsize = (10,10))\n",
    "plt.imshow(tmp, cmap = 'Blues')"
   ]
  },
  {
   "cell_type": "markdown",
   "metadata": {},
   "source": [
    "## Demonstration of Multiple Pour Points\n",
    "\n",
    "The following is a demonstration of the workflow for HUC4 geospatial tiles (NHD High-Res). The update dictionary produced here is not used after this Section."
   ]
  },
  {
   "cell_type": "code",
   "execution_count": 12,
   "metadata": {},
   "outputs": [
    {
     "data": {
      "image/png": "[encoded data removed]",
      "text/plain": [
       "<Figure size 432x288 with 1 Axes>"
      ]
     },
     "metadata": {
      "needs_background": "light"
     },
     "output_type": "display_data"
    }
   ],
   "source": [
    "pourBasins = fc.makePourBasins(upstreamWBD,'1407','1501')\n",
    "pourPts = fc.findPourPoints(pourBasins,upstreamFAC, upstreamFDRTau, plotBasins=True)"
   ]
  },
  {
   "cell_type": "code",
   "execution_count": 13,
   "metadata": {},
   "outputs": [
    {
     "data": {
      "text/html": [
       "<div>\n",
       "<style scoped>\n",
       "    .dataframe tbody tr th:only-of-type {\n",
       "        vertical-align: middle;\n",
       "    }\n",
       "\n",
       "    .dataframe tbody tr th {\n",
       "        vertical-align: top;\n",
       "    }\n",
       "\n",
       "    .dataframe thead th {\n",
       "        text-align: right;\n",
       "    }\n",
       "</style>\n",
       "<table border=\"1\" class=\"dataframe\">\n",
       "  <thead>\n",
       "    <tr style=\"text-align: right;\">\n",
       "      <th></th>\n",
       "      <th>OBJECTID</th>\n",
       "      <th>TNMID</th>\n",
       "      <th>MetaSource</th>\n",
       "      <th>SourceData</th>\n",
       "      <th>SourceOrig</th>\n",
       "      <th>SourceFeat</th>\n",
       "      <th>LoadDate</th>\n",
       "      <th>NonContrib</th>\n",
       "      <th>NonContr_1</th>\n",
       "      <th>AreaSqKm</th>\n",
       "      <th>...</th>\n",
       "      <th>States</th>\n",
       "      <th>HUC12</th>\n",
       "      <th>HUType</th>\n",
       "      <th>HUMod</th>\n",
       "      <th>ToHUC</th>\n",
       "      <th>Shape_Leng</th>\n",
       "      <th>Shape_Area</th>\n",
       "      <th>geometry</th>\n",
       "      <th>HUC4</th>\n",
       "      <th>ToHUC4</th>\n",
       "    </tr>\n",
       "  </thead>\n",
       "  <tbody>\n",
       "    <tr>\n",
       "      <th>0</th>\n",
       "      <td>2685</td>\n",
       "      <td>{AAAE4745-7F69-4249-9EE6-61A0FDD375D2}</td>\n",
       "      <td>{2E2678AC-0C9D-49CB-806B-540A9302D247}</td>\n",
       "      <td>None</td>\n",
       "      <td>None</td>\n",
       "      <td>None</td>\n",
       "      <td>2013-01-18</td>\n",
       "      <td>0.0</td>\n",
       "      <td>0.0</td>\n",
       "      <td>133.04</td>\n",
       "      <td>...</td>\n",
       "      <td>AZ</td>\n",
       "      <td>140700061105</td>\n",
       "      <td>S</td>\n",
       "      <td>DM</td>\n",
       "      <td>150100010303</td>\n",
       "      <td>0.805006</td>\n",
       "      <td>0.013444</td>\n",
       "      <td>POLYGON ((-1357947.567609239 1651035.024641215...</td>\n",
       "      <td>1407</td>\n",
       "      <td>1501</td>\n",
       "    </tr>\n",
       "    <tr>\n",
       "      <th>1</th>\n",
       "      <td>2737</td>\n",
       "      <td>{6ECBF3AC-20C7-4EA3-AF3A-F8DB61EF2BBB}</td>\n",
       "      <td>{AEC557FF-82D8-4F4D-BF0D-2BF431714390}</td>\n",
       "      <td>None</td>\n",
       "      <td>None</td>\n",
       "      <td>None</td>\n",
       "      <td>2017-10-25</td>\n",
       "      <td>0.0</td>\n",
       "      <td>0.0</td>\n",
       "      <td>90.55</td>\n",
       "      <td>...</td>\n",
       "      <td>AZ,UT</td>\n",
       "      <td>140700070706</td>\n",
       "      <td>S</td>\n",
       "      <td>NM</td>\n",
       "      <td>150100010303</td>\n",
       "      <td>0.612730</td>\n",
       "      <td>0.009157</td>\n",
       "      <td>POLYGON ((-1377191.80550942 1665386.802721771,...</td>\n",
       "      <td>1407</td>\n",
       "      <td>1501</td>\n",
       "    </tr>\n",
       "  </tbody>\n",
       "</table>\n",
       "<p>2 rows × 23 columns</p>\n",
       "</div>"
      ],
      "text/plain": [
       "   OBJECTID                                   TNMID  \\\n",
       "0      2685  {AAAE4745-7F69-4249-9EE6-61A0FDD375D2}   \n",
       "1      2737  {6ECBF3AC-20C7-4EA3-AF3A-F8DB61EF2BBB}   \n",
       "\n",
       "                               MetaSource SourceData SourceOrig SourceFeat  \\\n",
       "0  {2E2678AC-0C9D-49CB-806B-540A9302D247}       None       None       None   \n",
       "1  {AEC557FF-82D8-4F4D-BF0D-2BF431714390}       None       None       None   \n",
       "\n",
       "     LoadDate  NonContrib  NonContr_1  AreaSqKm  ...  States         HUC12  \\\n",
       "0  2013-01-18         0.0         0.0    133.04  ...      AZ  140700061105   \n",
       "1  2017-10-25         0.0         0.0     90.55  ...   AZ,UT  140700070706   \n",
       "\n",
       "  HUType HUMod         ToHUC Shape_Leng Shape_Area  \\\n",
       "0      S    DM  150100010303   0.805006   0.013444   \n",
       "1      S    NM  150100010303   0.612730   0.009157   \n",
       "\n",
       "                                            geometry  HUC4  ToHUC4  \n",
       "0  POLYGON ((-1357947.567609239 1651035.024641215...  1407    1501  \n",
       "1  POLYGON ((-1377191.80550942 1665386.802721771,...  1407    1501  \n",
       "\n",
       "[2 rows x 23 columns]"
      ]
     },
     "execution_count": 13,
     "metadata": {},
     "output_type": "execute_result"
    }
   ],
   "source": [
    "pourBasins"
   ]
  },
  {
   "cell_type": "code",
   "execution_count": 14,
   "metadata": {},
   "outputs": [
    {
     "data": {
      "text/plain": [
       "[(-1370699.9999999995, 1648259.9999999963, 155007.0),\n",
       " (-1371809.9999999995, 1647749.9999999963, 101615.0)]"
      ]
     },
     "execution_count": 14,
     "metadata": {},
     "output_type": "execute_result"
    }
   ],
   "source": [
    "pourPts"
   ]
  },
  {
   "cell_type": "code",
   "execution_count": 15,
   "metadata": {},
   "outputs": [],
   "source": [
    "# create an initial dictionary for the region 14 to 15 cascade\n",
    "updateDictFl = os.path.join(testFolder,'HUC1407_update.json')\n",
    "upHUC = '1407'\n",
    "x,y,w = zip(*pourPts) # expand the pour points\n",
    "\n",
    "ud = fc.createUpdateDict(x,y,w,upHUC, updateDictFl)"
   ]
  },
  {
   "cell_type": "code",
   "execution_count": 16,
   "metadata": {},
   "outputs": [
    {
     "data": {
      "text/plain": [
       "{'1407': {'x': ['-1370699.9999999995', '-1371809.9999999995'],\n",
       "  'y': ['1648259.9999999963', '1647749.9999999963'],\n",
       "  'maxUpstreamFAC': ['155007.0', '101615.0'],\n",
       "  'vars': ['maxUpstreamFAC']}}"
      ]
     },
     "execution_count": 16,
     "metadata": {},
     "output_type": "execute_result"
    }
   ],
   "source": [
    "ud # there are two pour points"
   ]
  },
  {
   "cell_type": "markdown",
   "metadata": {},
   "source": [
    "## Find Pour Point to Downstream Area"
   ]
  },
  {
   "cell_type": "code",
   "execution_count": 17,
   "metadata": {},
   "outputs": [],
   "source": [
    "# find the single pour point between region 14 and region 15.\n",
    "x,y,d,w = fc.findLastFACFD(upstreamFAC, fl = upstreamFAC) # locate max FAC value.\n",
    "x,y,f,w = fc.findLastFACFD(upstreamFAC, fl = upstreamFDRTau) # Get flow direction of above point"
   ]
  },
  {
   "cell_type": "code",
   "execution_count": 18,
   "metadata": {},
   "outputs": [],
   "source": [
    "# create an initial dictionary for the region 14 to 15 cascade\n",
    "updateDictFl = os.path.join(testFolder,'HUC14_update.json')\n",
    "upHUC = '14'\n",
    "ud = fc.createUpdateDict([x],[y],[d],upHUC, updateDictFl)"
   ]
  },
  {
   "cell_type": "markdown",
   "metadata": {},
   "source": [
    "## FCPG Upstream Daymet and Land Cover"
   ]
  },
  {
   "cell_type": "code",
   "execution_count": 19,
   "metadata": {},
   "outputs": [],
   "source": [
    "usLCbinary.append(Pupstream) # append the Daymet path to the land cover binary grids"
   ]
  },
  {
   "cell_type": "code",
   "execution_count": 20,
   "metadata": {},
   "outputs": [
    {
     "name": "stdout",
     "output_type": "stream",
     "text": [
      "Accumulating Data...\n",
      "mpiexec -bind-to rr -n 4 aread8 -p ./test_output/upstreamFDRtau.tif -ad8 ./test_output/LCup0accum.tif -wg ./test_output/LCup0.tif -nc\n",
      "Accumulating Data...\n",
      "mpiexec -bind-to rr -n 4 aread8 -p ./test_output/upstreamFDRtau.tif -ad8 ./test_output/LCup1accum.tif -wg ./test_output/LCup1.tif -nc\n",
      "Accumulating Data...\n",
      "mpiexec -bind-to rr -n 4 aread8 -p ./test_output/upstreamFDRtau.tif -ad8 ./test_output/LCup2accum.tif -wg ./test_output/LCup2.tif -nc\n",
      "Accumulating Data...\n",
      "mpiexec -bind-to rr -n 4 aread8 -p ./test_output/upstreamFDRtau.tif -ad8 ./test_output/LCup3accum.tif -wg ./test_output/LCup3.tif -nc\n",
      "Accumulating Data...\n",
      "mpiexec -bind-to rr -n 4 aread8 -p ./test_output/upstreamFDRtau.tif -ad8 ./test_output/LCup4accum.tif -wg ./test_output/LCup4.tif -nc\n",
      "Accumulating Data...\n",
      "mpiexec -bind-to rr -n 4 aread8 -p ./test_output/upstreamFDRtau.tif -ad8 ./test_output/LCup5accum.tif -wg ./test_output/LCup5.tif -nc\n",
      "Accumulating Data...\n",
      "mpiexec -bind-to rr -n 4 aread8 -p ./test_output/upstreamFDRtau.tif -ad8 ./test_output/LCup6accum.tif -wg ./test_output/LCup6.tif -nc\n",
      "Accumulating Data...\n",
      "mpiexec -bind-to rr -n 4 aread8 -p ./test_output/upstreamFDRtau.tif -ad8 ./test_output/LCup7accum.tif -wg ./test_output/LCup7.tif -nc\n",
      "Accumulating Data...\n",
      "mpiexec -bind-to rr -n 4 aread8 -p ./test_output/upstreamFDRtau.tif -ad8 ./test_output/LCup8accum.tif -wg ./test_output/LCup8.tif -nc\n",
      "Accumulating Data...\n",
      "mpiexec -bind-to rr -n 4 aread8 -p ./test_output/upstreamFDRtau.tif -ad8 ./test_output/LCup9accum.tif -wg ./test_output/LCup9.tif -nc\n",
      "Accumulating Data...\n",
      "mpiexec -bind-to rr -n 4 aread8 -p ./test_output/upstreamFDRtau.tif -ad8 ./test_output/LCup10accum.tif -wg ./test_output/LCup10.tif -nc\n",
      "Accumulating Data...\n",
      "mpiexec -bind-to rr -n 4 aread8 -p ./test_output/upstreamFDRtau.tif -ad8 ./test_output/LCup11accum.tif -wg ./test_output/LCup11.tif -nc\n",
      "Accumulating Data...\n",
      "mpiexec -bind-to rr -n 4 aread8 -p ./test_output/upstreamFDRtau.tif -ad8 ./test_output/LCup12accum.tif -wg ./test_output/LCup12.tif -nc\n",
      "Accumulating Data...\n",
      "mpiexec -bind-to rr -n 4 aread8 -p ./test_output/upstreamFDRtau.tif -ad8 ./test_output/LCup13accum.tif -wg ./test_output/LCup13.tif -nc\n",
      "Accumulating Data...\n",
      "mpiexec -bind-to rr -n 4 aread8 -p ./test_output/upstreamFDRtau.tif -ad8 ./test_output/LCup14accum.tif -wg ./test_output/LCup14.tif -nc\n",
      "Accumulating Data...\n",
      "mpiexec -bind-to rr -n 4 aread8 -p ./test_output/upstreamFDRtau.tif -ad8 ./test_output/LCup15accum.tif -wg ./test_output/LCup15.tif -nc\n",
      "Accumulating Data...\n",
      "mpiexec -bind-to rr -n 4 aread8 -p ./test_output/upstreamFDRtau.tif -ad8 ./test_output/LCup16accum.tif -wg ./test_output/LCup16.tif -nc\n",
      "Accumulating Data...\n",
      "mpiexec -bind-to rr -n 4 aread8 -p ./test_output/upstreamFDRtau.tif -ad8 ./test_output/LCup17accum.tif -wg ./test_output/LCup17.tif -nc\n",
      "Accumulating Data...\n",
      "mpiexec -bind-to rr -n 4 aread8 -p ./test_output/upstreamFDRtau.tif -ad8 ./test_output/LCup18accum.tif -wg ./test_output/LCup18.tif -nc\n",
      "Accumulating Data...\n",
      "mpiexec -bind-to rr -n 4 aread8 -p ./test_output/upstreamFDRtau.tif -ad8 ./test_output/Pupaccum.tif -wg ./test_output/Pup.tif -nc\n"
     ]
    }
   ],
   "source": [
    "accumParams = fc.accumulateParams(usLCbinary,upstreamFDRTau,testFolder,cores = 4)"
   ]
  },
  {
   "cell_type": "code",
   "execution_count": 21,
   "metadata": {},
   "outputs": [
    {
     "name": "stdout",
     "output_type": "stream",
     "text": [
      "Reading accumulated parameter file 2020-06-04 13:24:04.688970\n",
      "Reading basin flow accumulation file 2020-06-04 13:24:04.708531\n",
      "Computing CPG values 2020-06-04 13:24:04.717669\n",
      "Replacing numpy nan values 2020-06-04 13:24:04.726532\n",
      "Saving CPG raster 2020-06-04 13:24:04.727519\n",
      "CPG file written to: ./test_output/LCup0accumFCPG.tif\n",
      "Reading accumulated parameter file 2020-06-04 13:24:04.748725\n",
      "Reading basin flow accumulation file 2020-06-04 13:24:04.760868\n",
      "Computing CPG values 2020-06-04 13:24:04.764592\n",
      "Replacing numpy nan values 2020-06-04 13:24:04.765591\n",
      "Saving CPG raster 2020-06-04 13:24:04.766452\n",
      "CPG file written to: ./test_output/LCup1accumFCPG.tif\n",
      "Reading accumulated parameter file 2020-06-04 13:24:04.781036\n",
      "Reading basin flow accumulation file 2020-06-04 13:24:04.792724\n",
      "Computing CPG values 2020-06-04 13:24:04.797810\n",
      "Replacing numpy nan values 2020-06-04 13:24:04.798919\n",
      "Saving CPG raster 2020-06-04 13:24:04.799855\n",
      "CPG file written to: ./test_output/LCup2accumFCPG.tif\n",
      "Reading accumulated parameter file 2020-06-04 13:24:04.813529\n",
      "Reading basin flow accumulation file 2020-06-04 13:24:04.825455\n",
      "Computing CPG values 2020-06-04 13:24:04.829353\n",
      "Replacing numpy nan values 2020-06-04 13:24:04.830473\n",
      "Saving CPG raster 2020-06-04 13:24:04.831407\n",
      "CPG file written to: ./test_output/LCup3accumFCPG.tif\n",
      "Reading accumulated parameter file 2020-06-04 13:24:04.845406\n",
      "Reading basin flow accumulation file 2020-06-04 13:24:04.857031\n",
      "Computing CPG values 2020-06-04 13:24:04.860714\n",
      "Replacing numpy nan values 2020-06-04 13:24:04.861635\n",
      "Saving CPG raster 2020-06-04 13:24:04.862462\n",
      "CPG file written to: ./test_output/LCup4accumFCPG.tif\n",
      "Reading accumulated parameter file 2020-06-04 13:24:04.875808\n",
      "Reading basin flow accumulation file 2020-06-04 13:24:04.887249\n",
      "Computing CPG values 2020-06-04 13:24:04.891160\n",
      "Replacing numpy nan values 2020-06-04 13:24:04.892959\n",
      "Saving CPG raster 2020-06-04 13:24:04.894315\n",
      "CPG file written to: ./test_output/LCup5accumFCPG.tif\n",
      "Reading accumulated parameter file 2020-06-04 13:24:04.910846\n",
      "Reading basin flow accumulation file 2020-06-04 13:24:04.923192\n",
      "Computing CPG values 2020-06-04 13:24:04.927541\n",
      "Replacing numpy nan values 2020-06-04 13:24:04.928969\n",
      "Saving CPG raster 2020-06-04 13:24:04.930053\n",
      "CPG file written to: ./test_output/LCup6accumFCPG.tif\n",
      "Reading accumulated parameter file 2020-06-04 13:24:04.944466\n",
      "Reading basin flow accumulation file 2020-06-04 13:24:04.956163\n",
      "Computing CPG values 2020-06-04 13:24:04.959954\n",
      "Replacing numpy nan values 2020-06-04 13:24:04.960861\n",
      "Saving CPG raster 2020-06-04 13:24:04.961668\n",
      "CPG file written to: ./test_output/LCup7accumFCPG.tif\n",
      "Reading accumulated parameter file 2020-06-04 13:24:04.974545\n",
      "Reading basin flow accumulation file 2020-06-04 13:24:04.990156\n",
      "Computing CPG values 2020-06-04 13:24:04.993772\n",
      "Replacing numpy nan values 2020-06-04 13:24:04.994742\n",
      "Saving CPG raster 2020-06-04 13:24:04.995561\n",
      "CPG file written to: ./test_output/LCup8accumFCPG.tif\n",
      "Reading accumulated parameter file 2020-06-04 13:24:05.012093\n",
      "Reading basin flow accumulation file 2020-06-04 13:24:05.024008\n",
      "Computing CPG values 2020-06-04 13:24:05.027604\n",
      "Replacing numpy nan values 2020-06-04 13:24:05.028520\n",
      "Saving CPG raster 2020-06-04 13:24:05.029305\n",
      "CPG file written to: ./test_output/LCup9accumFCPG.tif\n",
      "Reading accumulated parameter file 2020-06-04 13:24:05.042150\n",
      "Reading basin flow accumulation file 2020-06-04 13:24:05.053665\n",
      "Computing CPG values 2020-06-04 13:24:05.057181\n",
      "Replacing numpy nan values 2020-06-04 13:24:05.058081\n",
      "Saving CPG raster 2020-06-04 13:24:05.058885\n",
      "CPG file written to: ./test_output/LCup10accumFCPG.tif\n",
      "Reading accumulated parameter file 2020-06-04 13:24:05.072102\n",
      "Reading basin flow accumulation file 2020-06-04 13:24:05.083638\n",
      "Computing CPG values 2020-06-04 13:24:05.087166\n",
      "Replacing numpy nan values 2020-06-04 13:24:05.088060\n",
      "Saving CPG raster 2020-06-04 13:24:05.088844\n",
      "CPG file written to: ./test_output/LCup11accumFCPG.tif\n",
      "Reading accumulated parameter file 2020-06-04 13:24:05.101993\n",
      "Reading basin flow accumulation file 2020-06-04 13:24:05.113697\n",
      "Computing CPG values 2020-06-04 13:24:05.117370\n",
      "Replacing numpy nan values 2020-06-04 13:24:05.118503\n",
      "Saving CPG raster 2020-06-04 13:24:05.119398\n",
      "CPG file written to: ./test_output/LCup12accumFCPG.tif\n",
      "Reading accumulated parameter file 2020-06-04 13:24:05.132903\n",
      "Reading basin flow accumulation file 2020-06-04 13:24:05.144522\n",
      "Computing CPG values 2020-06-04 13:24:05.147986\n",
      "Replacing numpy nan values 2020-06-04 13:24:05.148862\n",
      "Saving CPG raster 2020-06-04 13:24:05.149625\n",
      "CPG file written to: ./test_output/LCup13accumFCPG.tif\n",
      "Reading accumulated parameter file 2020-06-04 13:24:05.162251\n",
      "Reading basin flow accumulation file 2020-06-04 13:24:05.173505\n",
      "Computing CPG values 2020-06-04 13:24:05.177007\n",
      "Replacing numpy nan values 2020-06-04 13:24:05.177914\n",
      "Saving CPG raster 2020-06-04 13:24:05.178672\n",
      "CPG file written to: ./test_output/LCup14accumFCPG.tif\n",
      "Reading accumulated parameter file 2020-06-04 13:24:05.193715\n",
      "Reading basin flow accumulation file 2020-06-04 13:24:05.204794\n",
      "Computing CPG values 2020-06-04 13:24:05.208374\n",
      "Replacing numpy nan values 2020-06-04 13:24:05.209304\n",
      "Saving CPG raster 2020-06-04 13:24:05.210206\n",
      "CPG file written to: ./test_output/LCup15accumFCPG.tif\n",
      "Reading accumulated parameter file 2020-06-04 13:24:05.223520\n",
      "Reading basin flow accumulation file 2020-06-04 13:24:05.234782\n",
      "Computing CPG values 2020-06-04 13:24:05.238344\n",
      "Replacing numpy nan values 2020-06-04 13:24:05.239299\n",
      "Saving CPG raster 2020-06-04 13:24:05.240090\n",
      "CPG file written to: ./test_output/LCup16accumFCPG.tif\n",
      "Reading accumulated parameter file 2020-06-04 13:24:05.252670\n",
      "Reading basin flow accumulation file 2020-06-04 13:24:05.264682\n",
      "Computing CPG values 2020-06-04 13:24:05.268681\n",
      "Replacing numpy nan values 2020-06-04 13:24:05.269596\n",
      "Saving CPG raster 2020-06-04 13:24:05.270387\n",
      "CPG file written to: ./test_output/LCup17accumFCPG.tif\n",
      "Reading accumulated parameter file 2020-06-04 13:24:05.283962\n",
      "Reading basin flow accumulation file 2020-06-04 13:24:05.295358\n",
      "Computing CPG values 2020-06-04 13:24:05.298991\n",
      "Replacing numpy nan values 2020-06-04 13:24:05.299920\n",
      "Saving CPG raster 2020-06-04 13:24:05.300719\n",
      "CPG file written to: ./test_output/LCup18accumFCPG.tif\n",
      "Reading accumulated parameter file 2020-06-04 13:24:05.314357\n",
      "Reading basin flow accumulation file 2020-06-04 13:24:05.331743\n",
      "Computing CPG values 2020-06-04 13:24:05.336088\n",
      "Replacing numpy nan values 2020-06-04 13:24:05.337823\n",
      "Saving CPG raster 2020-06-04 13:24:05.339106\n",
      "CPG file written to: ./test_output/PupaccumFCPG.tif\n"
     ]
    }
   ],
   "source": [
    "upstream_cpgs = fc.make_fcpgs(accumParams,upstreamFAC,testFolder)"
   ]
  },
  {
   "cell_type": "markdown",
   "metadata": {},
   "source": [
    "### Create Update Dictionary with FCPG Values"
   ]
  },
  {
   "cell_type": "code",
   "execution_count": 22,
   "metadata": {
    "scrolled": true
   },
   "outputs": [
    {
     "name": "stdout",
     "output_type": "stream",
     "text": [
      "./test_output/LCup0accum.tif\n",
      "./test_output/LCup1accum.tif\n",
      "./test_output/LCup2accum.tif\n",
      "./test_output/LCup3accum.tif\n",
      "./test_output/LCup4accum.tif\n",
      "./test_output/LCup5accum.tif\n",
      "./test_output/LCup6accum.tif\n",
      "./test_output/LCup7accum.tif\n",
      "./test_output/LCup8accum.tif\n",
      "./test_output/LCup9accum.tif\n",
      "./test_output/LCup10accum.tif\n",
      "./test_output/LCup11accum.tif\n",
      "./test_output/LCup12accum.tif\n",
      "./test_output/LCup13accum.tif\n",
      "./test_output/LCup14accum.tif\n",
      "./test_output/LCup15accum.tif\n",
      "./test_output/LCup16accum.tif\n",
      "./test_output/LCup17accum.tif\n",
      "./test_output/LCup18accum.tif\n",
      "./test_output/Pupaccum.tif\n"
     ]
    }
   ],
   "source": [
    "# Update the dictionary with values from the upstream accumulated parameters, this should probably be a v2 function...\n",
    "for fl in accumParams: # iterate through the accumulated parameters\n",
    "    print(fl)\n",
    "    # Parse the file names into variable names... \n",
    "    varname = fl.split('/')[-1].split('up')[0]\n",
    "    if varname == 'LC':\n",
    "        mod = fl.split('/')[-1].split('up')[-1].split('accum')[0]\n",
    "        var = varname+mod\n",
    "    else:\n",
    "        var = varname\n",
    "    \n",
    "    # Query accumualted raster for values\n",
    "    \n",
    "    val = str(fc.queryPoint(x,y,fl))\n",
    "\n",
    "    ud = fc.updateDict(updateDictFl,'14',var,[val])    "
   ]
  },
  {
   "cell_type": "markdown",
   "metadata": {},
   "source": [
    "## Cascade to Downstream Area"
   ]
  },
  {
   "cell_type": "code",
   "execution_count": 23,
   "metadata": {},
   "outputs": [
    {
     "name": "stdout",
     "output_type": "stream",
     "text": [
      "Generating FAC weighting grid.\n",
      "Updating FAC weighting grid with value from 14 FAC\n",
      "Accumulating Data...\n",
      "mpiexec -bind-to rr -n 4 aread8 -p ./test_output/downstreamFDRtau.tif -ad8 ./test_output/downstreamFACadj.tif -wg ./test_output/downstreamFACweight.tif -nc\n"
     ]
    }
   ],
   "source": [
    "downstreamFACadj = os.path.join(testFolder,'downstreamFACadj.tif')\n",
    "downstreamFACweight = os.path.join(testFolder,'downstreamFACweight.tif')\n",
    "fc.adjustFAC(downstreamFDRTau,downstreamFACweight,updateDictFl,downstreamFDRTau,downstreamFACadj, cores = 4)"
   ]
  },
  {
   "cell_type": "code",
   "execution_count": 24,
   "metadata": {},
   "outputs": [],
   "source": [
    "dsLCbinary.append(Pdownstream) #add the precip into the downstream land cover files"
   ]
  },
  {
   "cell_type": "code",
   "execution_count": 25,
   "metadata": {},
   "outputs": [
    {
     "name": "stdout",
     "output_type": "stream",
     "text": [
      "Updating parameter grid with value from 14 FAC\n",
      "Updating parameter grid with value from 14 FAC\n",
      "Updating parameter grid with value from 14 FAC\n",
      "Updating parameter grid with value from 14 FAC\n",
      "Updating parameter grid with value from 14 FAC\n",
      "Updating parameter grid with value from 14 FAC\n",
      "Updating parameter grid with value from 14 FAC\n",
      "Updating parameter grid with value from 14 FAC\n",
      "Updating parameter grid with value from 14 FAC\n",
      "Updating parameter grid with value from 14 FAC\n",
      "Updating parameter grid with value from 14 FAC\n",
      "Updating parameter grid with value from 14 FAC\n",
      "Updating parameter grid with value from 14 FAC\n",
      "Updating parameter grid with value from 14 FAC\n",
      "Updating parameter grid with value from 14 FAC\n",
      "Updating parameter grid with value from 14 FAC\n",
      "Updating parameter grid with value from 14 FAC\n",
      "Updating parameter grid with value from 14 FAC\n",
      "Updating parameter grid with value from 14 FAC\n",
      "Updating parameter grid with value from 14 FAC\n"
     ]
    }
   ],
   "source": [
    "# create updated, unaccumulated parameter grids for the downstream region\n",
    "adjDSparams = []\n",
    "for fl,inGrid in zip(accumParams,dsLCbinary): # iterate through the accumulated parameters\n",
    "    # Parse the file names into variable names... \n",
    "    varname = fl.split('/')[-1].split('up')[0]\n",
    "    if varname == 'LC':\n",
    "        mod = fl.split('/')[-1].split('up')[-1].split('accum')[0]\n",
    "        var = varname+mod\n",
    "    else:\n",
    "        var = varname\n",
    "    \n",
    "    outfl = inGrid.split('.tif')[0]+'adj.tif'\n",
    "\n",
    "    fc.adjustParam(var,inGrid,updateDictFl,outfl)\n",
    "    adjDSparams.append(outfl)"
   ]
  },
  {
   "cell_type": "code",
   "execution_count": 26,
   "metadata": {},
   "outputs": [
    {
     "name": "stdout",
     "output_type": "stream",
     "text": [
      "Accumulating Data...\n",
      "mpiexec -bind-to rr -n 4 aread8 -p ./test_output/downstreamFDRtau.tif -ad8 ./test_output/LCdwn0adjaccum.tif -wg ./test_output/LCdwn0adj.tif -nc\n",
      "Accumulating Data...\n",
      "mpiexec -bind-to rr -n 4 aread8 -p ./test_output/downstreamFDRtau.tif -ad8 ./test_output/LCdwn1adjaccum.tif -wg ./test_output/LCdwn1adj.tif -nc\n",
      "Accumulating Data...\n",
      "mpiexec -bind-to rr -n 4 aread8 -p ./test_output/downstreamFDRtau.tif -ad8 ./test_output/LCdwn2adjaccum.tif -wg ./test_output/LCdwn2adj.tif -nc\n",
      "Accumulating Data...\n",
      "mpiexec -bind-to rr -n 4 aread8 -p ./test_output/downstreamFDRtau.tif -ad8 ./test_output/LCdwn3adjaccum.tif -wg ./test_output/LCdwn3adj.tif -nc\n",
      "Accumulating Data...\n",
      "mpiexec -bind-to rr -n 4 aread8 -p ./test_output/downstreamFDRtau.tif -ad8 ./test_output/LCdwn4adjaccum.tif -wg ./test_output/LCdwn4adj.tif -nc\n",
      "Accumulating Data...\n",
      "mpiexec -bind-to rr -n 4 aread8 -p ./test_output/downstreamFDRtau.tif -ad8 ./test_output/LCdwn5adjaccum.tif -wg ./test_output/LCdwn5adj.tif -nc\n",
      "Accumulating Data...\n",
      "mpiexec -bind-to rr -n 4 aread8 -p ./test_output/downstreamFDRtau.tif -ad8 ./test_output/LCdwn6adjaccum.tif -wg ./test_output/LCdwn6adj.tif -nc\n",
      "Accumulating Data...\n",
      "mpiexec -bind-to rr -n 4 aread8 -p ./test_output/downstreamFDRtau.tif -ad8 ./test_output/LCdwn7adjaccum.tif -wg ./test_output/LCdwn7adj.tif -nc\n",
      "Accumulating Data...\n",
      "mpiexec -bind-to rr -n 4 aread8 -p ./test_output/downstreamFDRtau.tif -ad8 ./test_output/LCdwn8adjaccum.tif -wg ./test_output/LCdwn8adj.tif -nc\n",
      "Accumulating Data...\n",
      "mpiexec -bind-to rr -n 4 aread8 -p ./test_output/downstreamFDRtau.tif -ad8 ./test_output/LCdwn9adjaccum.tif -wg ./test_output/LCdwn9adj.tif -nc\n",
      "Accumulating Data...\n",
      "mpiexec -bind-to rr -n 4 aread8 -p ./test_output/downstreamFDRtau.tif -ad8 ./test_output/LCdwn10adjaccum.tif -wg ./test_output/LCdwn10adj.tif -nc\n",
      "Accumulating Data...\n",
      "mpiexec -bind-to rr -n 4 aread8 -p ./test_output/downstreamFDRtau.tif -ad8 ./test_output/LCdwn11adjaccum.tif -wg ./test_output/LCdwn11adj.tif -nc\n",
      "Accumulating Data...\n",
      "mpiexec -bind-to rr -n 4 aread8 -p ./test_output/downstreamFDRtau.tif -ad8 ./test_output/LCdwn12adjaccum.tif -wg ./test_output/LCdwn12adj.tif -nc\n",
      "Accumulating Data...\n",
      "mpiexec -bind-to rr -n 4 aread8 -p ./test_output/downstreamFDRtau.tif -ad8 ./test_output/LCdwn13adjaccum.tif -wg ./test_output/LCdwn13adj.tif -nc\n",
      "Accumulating Data...\n",
      "mpiexec -bind-to rr -n 4 aread8 -p ./test_output/downstreamFDRtau.tif -ad8 ./test_output/LCdwn14adjaccum.tif -wg ./test_output/LCdwn14adj.tif -nc\n",
      "Accumulating Data...\n",
      "mpiexec -bind-to rr -n 4 aread8 -p ./test_output/downstreamFDRtau.tif -ad8 ./test_output/LCdwn15adjaccum.tif -wg ./test_output/LCdwn15adj.tif -nc\n",
      "Accumulating Data...\n",
      "mpiexec -bind-to rr -n 4 aread8 -p ./test_output/downstreamFDRtau.tif -ad8 ./test_output/LCdwn16adjaccum.tif -wg ./test_output/LCdwn16adj.tif -nc\n",
      "Accumulating Data...\n",
      "mpiexec -bind-to rr -n 4 aread8 -p ./test_output/downstreamFDRtau.tif -ad8 ./test_output/LCdwn17adjaccum.tif -wg ./test_output/LCdwn17adj.tif -nc\n",
      "Accumulating Data...\n",
      "mpiexec -bind-to rr -n 4 aread8 -p ./test_output/downstreamFDRtau.tif -ad8 ./test_output/LCdwn18adjaccum.tif -wg ./test_output/LCdwn18adj.tif -nc\n",
      "Accumulating Data...\n",
      "mpiexec -bind-to rr -n 4 aread8 -p ./test_output/downstreamFDRtau.tif -ad8 ./test_output/Pdwnadjaccum.tif -wg ./test_output/Pdwnadj.tif -nc\n"
     ]
    }
   ],
   "source": [
    "# accumulate the downstream parameter grids\n",
    "DSaccum = fc.accumulateParams(adjDSparams,downstreamFDRTau,testFolder, cores=4)"
   ]
  },
  {
   "cell_type": "code",
   "execution_count": 27,
   "metadata": {},
   "outputs": [
    {
     "name": "stdout",
     "output_type": "stream",
     "text": [
      "Reading accumulated parameter file 2020-06-04 13:24:12.388539\n",
      "Reading basin flow accumulation file 2020-06-04 13:24:12.398212\n",
      "Computing CPG values 2020-06-04 13:24:12.406838\n",
      "Replacing numpy nan values 2020-06-04 13:24:12.409133\n",
      "Saving CPG raster 2020-06-04 13:24:12.409665\n",
      "CPG file written to: ./test_output/LCdwn0adjaccumFCPG.tif\n",
      "Reading accumulated parameter file 2020-06-04 13:24:12.424384\n",
      "Reading basin flow accumulation file 2020-06-04 13:24:12.429365\n",
      "Computing CPG values 2020-06-04 13:24:12.435656\n",
      "Replacing numpy nan values 2020-06-04 13:24:12.436235\n",
      "Saving CPG raster 2020-06-04 13:24:12.436680\n",
      "CPG file written to: ./test_output/LCdwn1adjaccumFCPG.tif\n",
      "Reading accumulated parameter file 2020-06-04 13:24:12.451723\n",
      "Reading basin flow accumulation file 2020-06-04 13:24:12.457855\n",
      "Computing CPG values 2020-06-04 13:24:12.467308\n",
      "Replacing numpy nan values 2020-06-04 13:24:12.467913\n",
      "Saving CPG raster 2020-06-04 13:24:12.468552\n",
      "CPG file written to: ./test_output/LCdwn2adjaccumFCPG.tif\n",
      "Reading accumulated parameter file 2020-06-04 13:24:12.486912\n",
      "Reading basin flow accumulation file 2020-06-04 13:24:12.493359\n",
      "Computing CPG values 2020-06-04 13:24:12.501217\n",
      "Replacing numpy nan values 2020-06-04 13:24:12.501753\n",
      "Saving CPG raster 2020-06-04 13:24:12.502174\n",
      "CPG file written to: ./test_output/LCdwn3adjaccumFCPG.tif\n",
      "Reading accumulated parameter file 2020-06-04 13:24:12.516452\n",
      "Reading basin flow accumulation file 2020-06-04 13:24:12.522532\n",
      "Computing CPG values 2020-06-04 13:24:12.530917\n",
      "Replacing numpy nan values 2020-06-04 13:24:12.531479\n",
      "Saving CPG raster 2020-06-04 13:24:12.531867\n",
      "CPG file written to: ./test_output/LCdwn4adjaccumFCPG.tif\n",
      "Reading accumulated parameter file 2020-06-04 13:24:12.543958\n",
      "Reading basin flow accumulation file 2020-06-04 13:24:12.548574\n",
      "Computing CPG values 2020-06-04 13:24:12.554828\n",
      "Replacing numpy nan values 2020-06-04 13:24:12.555344\n",
      "Saving CPG raster 2020-06-04 13:24:12.555708\n",
      "CPG file written to: ./test_output/LCdwn5adjaccumFCPG.tif\n",
      "Reading accumulated parameter file 2020-06-04 13:24:12.566970\n",
      "Reading basin flow accumulation file 2020-06-04 13:24:12.571277\n",
      "Computing CPG values 2020-06-04 13:24:12.577274\n",
      "Replacing numpy nan values 2020-06-04 13:24:12.577687\n",
      "Saving CPG raster 2020-06-04 13:24:12.578009\n",
      "CPG file written to: ./test_output/LCdwn6adjaccumFCPG.tif\n",
      "Reading accumulated parameter file 2020-06-04 13:24:12.588598\n",
      "Reading basin flow accumulation file 2020-06-04 13:24:12.593326\n",
      "Computing CPG values 2020-06-04 13:24:12.599951\n",
      "Replacing numpy nan values 2020-06-04 13:24:12.600389\n",
      "Saving CPG raster 2020-06-04 13:24:12.600735\n",
      "CPG file written to: ./test_output/LCdwn7adjaccumFCPG.tif\n",
      "Reading accumulated parameter file 2020-06-04 13:24:12.611995\n",
      "Reading basin flow accumulation file 2020-06-04 13:24:12.618617\n",
      "Computing CPG values 2020-06-04 13:24:12.626717\n",
      "Replacing numpy nan values 2020-06-04 13:24:12.627386\n",
      "Saving CPG raster 2020-06-04 13:24:12.628020\n",
      "CPG file written to: ./test_output/LCdwn8adjaccumFCPG.tif\n",
      "Reading accumulated parameter file 2020-06-04 13:24:12.644281\n",
      "Reading basin flow accumulation file 2020-06-04 13:24:12.649256\n",
      "Computing CPG values 2020-06-04 13:24:12.655630\n",
      "Replacing numpy nan values 2020-06-04 13:24:12.656108\n",
      "Saving CPG raster 2020-06-04 13:24:12.656540\n",
      "CPG file written to: ./test_output/LCdwn9adjaccumFCPG.tif\n",
      "Reading accumulated parameter file 2020-06-04 13:24:12.668096\n",
      "Reading basin flow accumulation file 2020-06-04 13:24:12.672940\n",
      "Computing CPG values 2020-06-04 13:24:12.679002\n",
      "Replacing numpy nan values 2020-06-04 13:24:12.679436\n",
      "Saving CPG raster 2020-06-04 13:24:12.679815\n",
      "CPG file written to: ./test_output/LCdwn10adjaccumFCPG.tif\n",
      "Reading accumulated parameter file 2020-06-04 13:24:12.690617\n",
      "Reading basin flow accumulation file 2020-06-04 13:24:12.695092\n",
      "Computing CPG values 2020-06-04 13:24:12.700997\n",
      "Replacing numpy nan values 2020-06-04 13:24:12.701443\n",
      "Saving CPG raster 2020-06-04 13:24:12.701850\n",
      "CPG file written to: ./test_output/LCdwn11adjaccumFCPG.tif\n",
      "Reading accumulated parameter file 2020-06-04 13:24:12.712750\n",
      "Reading basin flow accumulation file 2020-06-04 13:24:12.717117\n",
      "Computing CPG values 2020-06-04 13:24:12.722737\n",
      "Replacing numpy nan values 2020-06-04 13:24:12.723168\n",
      "Saving CPG raster 2020-06-04 13:24:12.723565\n",
      "CPG file written to: ./test_output/LCdwn12adjaccumFCPG.tif\n",
      "Reading accumulated parameter file 2020-06-04 13:24:12.736124\n",
      "Reading basin flow accumulation file 2020-06-04 13:24:12.740558\n",
      "Computing CPG values 2020-06-04 13:24:12.746639\n",
      "Replacing numpy nan values 2020-06-04 13:24:12.747090\n",
      "Saving CPG raster 2020-06-04 13:24:12.747495\n",
      "CPG file written to: ./test_output/LCdwn13adjaccumFCPG.tif\n",
      "Reading accumulated parameter file 2020-06-04 13:24:12.760051\n",
      "Reading basin flow accumulation file 2020-06-04 13:24:12.764389\n",
      "Computing CPG values 2020-06-04 13:24:12.770017\n",
      "Replacing numpy nan values 2020-06-04 13:24:12.770428\n",
      "Saving CPG raster 2020-06-04 13:24:12.770762\n",
      "CPG file written to: ./test_output/LCdwn14adjaccumFCPG.tif\n",
      "Reading accumulated parameter file 2020-06-04 13:24:12.782141\n",
      "Reading basin flow accumulation file 2020-06-04 13:24:12.786331\n",
      "Computing CPG values 2020-06-04 13:24:12.791659\n",
      "Replacing numpy nan values 2020-06-04 13:24:12.792082\n",
      "Saving CPG raster 2020-06-04 13:24:12.792443\n",
      "CPG file written to: ./test_output/LCdwn15adjaccumFCPG.tif\n",
      "Reading accumulated parameter file 2020-06-04 13:24:12.803929\n",
      "Reading basin flow accumulation file 2020-06-04 13:24:12.808217\n",
      "Computing CPG values 2020-06-04 13:24:12.814197\n",
      "Replacing numpy nan values 2020-06-04 13:24:12.814726\n",
      "Saving CPG raster 2020-06-04 13:24:12.815125\n",
      "CPG file written to: ./test_output/LCdwn16adjaccumFCPG.tif\n",
      "Reading accumulated parameter file 2020-06-04 13:24:12.829422\n",
      "Reading basin flow accumulation file 2020-06-04 13:24:12.833413\n",
      "Computing CPG values 2020-06-04 13:24:12.838845\n",
      "Replacing numpy nan values 2020-06-04 13:24:12.839228\n",
      "Saving CPG raster 2020-06-04 13:24:12.839572\n",
      "CPG file written to: ./test_output/LCdwn17adjaccumFCPG.tif\n",
      "Reading accumulated parameter file 2020-06-04 13:24:12.849899\n",
      "Reading basin flow accumulation file 2020-06-04 13:24:12.853902\n",
      "Computing CPG values 2020-06-04 13:24:12.859312\n",
      "Replacing numpy nan values 2020-06-04 13:24:12.859714\n",
      "Saving CPG raster 2020-06-04 13:24:12.860039\n",
      "CPG file written to: ./test_output/LCdwn18adjaccumFCPG.tif\n",
      "Reading accumulated parameter file 2020-06-04 13:24:12.870337\n",
      "Reading basin flow accumulation file 2020-06-04 13:24:12.876532\n",
      "Computing CPG values 2020-06-04 13:24:12.881996\n",
      "Replacing numpy nan values 2020-06-04 13:24:12.882329\n",
      "Saving CPG raster 2020-06-04 13:24:12.882651\n",
      "CPG file written to: ./test_output/PdwnadjaccumFCPG.tif\n"
     ]
    }
   ],
   "source": [
    "# accumulate the downstream area\n",
    "dsFCPG = fc.make_fcpgs(DSaccum,downstreamFACadj,testFolder)"
   ]
  },
  {
   "cell_type": "markdown",
   "metadata": {},
   "source": [
    "## Insert NoData values into Daymet and Verify FCPG NoData Behavior "
   ]
  },
  {
   "cell_type": "code",
   "execution_count": 28,
   "metadata": {},
   "outputs": [],
   "source": [
    "with rs.open(upstreamFDR) as src:\n",
    "    fdr = src.read(1)\n",
    "    fdr[fdr == src.nodata] = 0\n",
    "    fdr[fdr != 0] = 1\n",
    "    mask = fdr.astype(np.uint)\n"
   ]
  },
  {
   "cell_type": "code",
   "execution_count": 29,
   "metadata": {},
   "outputs": [
    {
     "data": {
      "text/plain": [
       "<matplotlib.image.AxesImage at 0x7fca93723f10>"
      ]
     },
     "execution_count": 29,
     "metadata": {},
     "output_type": "execute_result"
    },
    {
     "data": {
      "image/png": "[encoded data removed]",
      "text/plain": [
       "<Figure size 432x288 with 1 Axes>"
      ]
     },
     "metadata": {
      "needs_background": "light"
     },
     "output_type": "display_data"
    }
   ],
   "source": [
    "plt.imshow(mask)"
   ]
  },
  {
   "cell_type": "code",
   "execution_count": 30,
   "metadata": {},
   "outputs": [],
   "source": [
    "#make row,col vectors of where to insert nodata values\n",
    "\n",
    "size = 1000 # number of no data values to insert\n",
    "\n",
    "idCol,idRow = np.where(mask == 1) # get locations of all points within the watershed\n",
    "\n",
    "cols = np.random.choice(idCol,size = size,replace = False)\n",
    "rows = np.random.choice(idRow, size = size, replace = False)"
   ]
  },
  {
   "cell_type": "code",
   "execution_count": 31,
   "metadata": {},
   "outputs": [],
   "source": [
    "PupstreamNoData = os.path.join(testFolder,'PupNoData.tif') # output file name\n",
    "\n",
    "# open source\n",
    "with rs.open(Pupstream) as src:\n",
    "    meta = src.meta\n",
    "    noData = src.nodata\n",
    "    P = src.read(1)\n",
    "\n",
    "P[cols,rows] = noData # insert nodata values\n",
    "\n",
    "# write out updated P grid\n",
    "with rs.open(PupstreamNoData,'w',**meta) as dst:\n",
    "    dst.write(P,1)"
   ]
  },
  {
   "cell_type": "code",
   "execution_count": 32,
   "metadata": {},
   "outputs": [
    {
     "data": {
      "text/plain": [
       "<matplotlib.image.AxesImage at 0x7fca9375d2d0>"
      ]
     },
     "execution_count": 32,
     "metadata": {},
     "output_type": "execute_result"
    },
    {
     "data": {
      "image/png": "[encoded data removed]",
      "text/plain": [
       "<Figure size 432x288 with 1 Axes>"
      ]
     },
     "metadata": {
      "needs_background": "light"
     },
     "output_type": "display_data"
    }
   ],
   "source": [
    "plt.imshow(P)"
   ]
  },
  {
   "cell_type": "code",
   "execution_count": 33,
   "metadata": {},
   "outputs": [
    {
     "name": "stdout",
     "output_type": "stream",
     "text": [
      "Warning: No data parameter values exist in basin\n",
      "Parameter Zero No Data raster written to: ./test_output/PupNoDataZero.tif\n",
      "Parameter No Data raster written to: ./test_output/PupNodataRast.tif\n",
      "Accumulating No Data Values\n",
      "mpiexec -bind-to rr -n 4 aread8 -p ./test_output/upstreamFDRtau.tif -ad8 ./test_output/PupNoData_accumNoData.tif -wg ./test_output/PupNodataRast.tif -nc\n",
      "Parameter no data accumulation written to: ./test_output/PupNodataRast.tif\n",
      "Accumulating Data...\n",
      "mpiexec -bind-to rr -n 4 aread8 -p ./test_output/upstreamFDRtau.tif -ad8 ./test_output/PupNoData_accum.tif -wg ./test_output/PupNoDataZero.tif -nc\n"
     ]
    }
   ],
   "source": [
    "# accumualte the P raster with no data values added and produce the noData grids\n",
    "\n",
    "accumRast = os.path.join(testFolder,'PupNoData_accum.tif')\n",
    "outNoDataAccum = os.path.join(testFolder,'PupNoData_accumNoData.tif')\n",
    "outNoData = os.path.join(testFolder,'PupNodataRast.tif')\n",
    "outNoDataZero = os.path.join(testFolder,'PupNoDataZero.tif')\n",
    "\n",
    "fc.accumulateParam(PupstreamNoData, upstreamFDRTau, accumRast,\n",
    "                   outNoDataRast = outNoData, outNoDataAccum=outNoDataAccum,\n",
    "                   zeroNoDataRast = outNoDataZero ,cores = 4)"
   ]
  },
  {
   "cell_type": "code",
   "execution_count": 34,
   "metadata": {},
   "outputs": [
    {
     "name": "stdout",
     "output_type": "stream",
     "text": [
      "Reading accumulated parameter file 2020-06-04 13:24:14.153008\n",
      "Reading basin flow accumulation file 2020-06-04 13:24:14.179944\n",
      "Correcting CPG for no data values\n",
      "Computing CPG values 2020-06-04 13:24:14.219023\n",
      "Replacing numpy nan values 2020-06-04 13:24:14.223631\n",
      "Saving CPG raster 2020-06-04 13:24:14.224577\n",
      "CPG file written to: ./test_output/Pup_FCPG_noData.tif\n"
     ]
    }
   ],
   "source": [
    "# make a FCPG accounting for noData\n",
    "outRast = os.path.join(testFolder,'Pup_FCPG_noData.tif')\n",
    "\n",
    "fc.make_fcpg(accumRast,upstreamFAC, outRast, noDataRast=outNoDataAccum)"
   ]
  }
 ],
 "metadata": {
  "kernelspec": {
   "display_name": "Python 3",
   "language": "python",
   "name": "python3"
  },
  "language_info": {
   "codemirror_mode": {
    "name": "ipython",
    "version": 3
   },
   "file_extension": ".py",
   "mimetype": "text/x-python",
   "name": "python",
   "nbconvert_exporter": "python",
   "pygments_lexer": "ipython3",
   "version": "3.7.4"
  }
 },
 "nbformat": 4,
 "nbformat_minor": 4
}
